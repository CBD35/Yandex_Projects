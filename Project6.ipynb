{
 "cells": [
  {
   "cell_type": "markdown",
   "metadata": {},
   "source": [
    "# Project description\n",
    "\n",
    "You've done beautifully in the Practicum course, and you've been offered an internship in the analytical department at Yandex.Afisha. Your first task is to help optimize marketing expenses.\n",
    "\n",
    "You have:\n",
    "\n",
    "- Server logs with data on Yandex.Afisha visits from January 2017 through December 2018\n",
    "- Dump file with all orders for the period\n",
    "- Marketing expenses statistics\n",
    "\n",
    "You are going to study:\n",
    "\n",
    "- How people use the product\n",
    "- When they start to buy\n",
    "- How much money each customer brings\n",
    "- When they pay off"
   ]
  },
  {
   "cell_type": "markdown",
   "metadata": {},
   "source": [
    "# Step 1. Download the data and prepare it for analysis\n",
    "\n",
    "- Store the data on visits, orders, and expenses in variables. \n",
    "- Optimize the data for analysis. \n",
    "- Make sure each column contains the correct data type."
   ]
  },
  {
   "cell_type": "code",
   "execution_count": 16,
   "metadata": {},
   "outputs": [],
   "source": [
    "import pandas\n",
    "import pandas as pd\n",
    "import matplotlib as mpl\n",
    "import matplotlib.pyplot as plt\n",
    "import numpy as np\n",
    "import seaborn as sns\n",
    "import matplotlib.pyplot as plot\n",
    "from math import factorial\n",
    "from scipy import stats as st\n",
    "from functools import reduce\n",
    "import math"
   ]
  },
  {
   "cell_type": "markdown",
   "metadata": {},
   "source": [
    "### Reading, optimizing, and examining visits dataframe"
   ]
  },
  {
   "cell_type": "code",
   "execution_count": 17,
   "metadata": {},
   "outputs": [
    {
     "name": "stdout",
     "output_type": "stream",
     "text": [
      "<class 'pandas.core.frame.DataFrame'>\n",
      "RangeIndex: 359400 entries, 0 to 359399\n",
      "Data columns (total 5 columns):\n",
      "Device       359400 non-null category\n",
      "End Ts       359400 non-null datetime64[ns]\n",
      "Source Id    359400 non-null int64\n",
      "Start Ts     359400 non-null datetime64[ns]\n",
      "Uid          359400 non-null uint64\n",
      "dtypes: category(1), datetime64[ns](2), int64(1), uint64(1)\n",
      "memory usage: 11.3 MB\n"
     ]
    }
   ],
   "source": [
    "# Had to upload the file directly to Jupyter and change file name in order for python to recognize the file. \n",
    "#That is why it is named differently then the other two datasets\n",
    "#optimizing data by changing device, uid, and source id to category and start ts and end ts to datetime64\n",
    "# visits = pd.read_csv('visits.csv', dtype={'Device': 'category', 'Uid': 'category', 'Source Id': 'category'}, \n",
    "#                   parse_dates=['Start Ts', 'End Ts'])\n",
    "visits = pd.read_csv('/datasets/visits_log_us.csv',\n",
    "#visits = pd.read_csv('datasets/visits_log_us.csv',\n",
    "                    dtype={'Device': 'category'},\n",
    "                    parse_dates=['Start Ts', 'End Ts'])\n",
    "visits.info()"
   ]
  },
  {
   "cell_type": "code",
   "execution_count": 18,
   "metadata": {},
   "outputs": [
    {
     "data": {
      "text/html": [
       "<div>\n",
       "<style scoped>\n",
       "    .dataframe tbody tr th:only-of-type {\n",
       "        vertical-align: middle;\n",
       "    }\n",
       "\n",
       "    .dataframe tbody tr th {\n",
       "        vertical-align: top;\n",
       "    }\n",
       "\n",
       "    .dataframe thead th {\n",
       "        text-align: right;\n",
       "    }\n",
       "</style>\n",
       "<table border=\"1\" class=\"dataframe\">\n",
       "  <thead>\n",
       "    <tr style=\"text-align: right;\">\n",
       "      <th></th>\n",
       "      <th>Device</th>\n",
       "      <th>End Ts</th>\n",
       "      <th>Source Id</th>\n",
       "      <th>Start Ts</th>\n",
       "      <th>Uid</th>\n",
       "    </tr>\n",
       "  </thead>\n",
       "  <tbody>\n",
       "    <tr>\n",
       "      <td>0</td>\n",
       "      <td>touch</td>\n",
       "      <td>2017-12-20 17:38:00</td>\n",
       "      <td>4</td>\n",
       "      <td>2017-12-20 17:20:00</td>\n",
       "      <td>16879256277535980062</td>\n",
       "    </tr>\n",
       "    <tr>\n",
       "      <td>1</td>\n",
       "      <td>desktop</td>\n",
       "      <td>2018-02-19 17:21:00</td>\n",
       "      <td>2</td>\n",
       "      <td>2018-02-19 16:53:00</td>\n",
       "      <td>104060357244891740</td>\n",
       "    </tr>\n",
       "    <tr>\n",
       "      <td>2</td>\n",
       "      <td>touch</td>\n",
       "      <td>2017-07-01 01:54:00</td>\n",
       "      <td>5</td>\n",
       "      <td>2017-07-01 01:54:00</td>\n",
       "      <td>7459035603376831527</td>\n",
       "    </tr>\n",
       "    <tr>\n",
       "      <td>3</td>\n",
       "      <td>desktop</td>\n",
       "      <td>2018-05-20 11:23:00</td>\n",
       "      <td>9</td>\n",
       "      <td>2018-05-20 10:59:00</td>\n",
       "      <td>16174680259334210214</td>\n",
       "    </tr>\n",
       "    <tr>\n",
       "      <td>4</td>\n",
       "      <td>desktop</td>\n",
       "      <td>2017-12-27 14:06:00</td>\n",
       "      <td>3</td>\n",
       "      <td>2017-12-27 14:06:00</td>\n",
       "      <td>9969694820036681168</td>\n",
       "    </tr>\n",
       "  </tbody>\n",
       "</table>\n",
       "</div>"
      ],
      "text/plain": [
       "    Device              End Ts  Source Id            Start Ts  \\\n",
       "0    touch 2017-12-20 17:38:00          4 2017-12-20 17:20:00   \n",
       "1  desktop 2018-02-19 17:21:00          2 2018-02-19 16:53:00   \n",
       "2    touch 2017-07-01 01:54:00          5 2017-07-01 01:54:00   \n",
       "3  desktop 2018-05-20 11:23:00          9 2018-05-20 10:59:00   \n",
       "4  desktop 2017-12-27 14:06:00          3 2017-12-27 14:06:00   \n",
       "\n",
       "                    Uid  \n",
       "0  16879256277535980062  \n",
       "1    104060357244891740  \n",
       "2   7459035603376831527  \n",
       "3  16174680259334210214  \n",
       "4   9969694820036681168  "
      ]
     },
     "execution_count": 18,
     "metadata": {},
     "output_type": "execute_result"
    }
   ],
   "source": [
    "visits.head()"
   ]
  },
  {
   "cell_type": "markdown",
   "metadata": {},
   "source": [
    "- I see that there are two different devices. Touch and Desktop. \n",
    "- Two of the users here have the same Start Ts and End Ts. They didn't waste anytime and spent no time actually onsite."
   ]
  },
  {
   "cell_type": "code",
   "execution_count": 19,
   "metadata": {},
   "outputs": [],
   "source": [
    "visits['source_id']= visits['Source Id']"
   ]
  },
  {
   "cell_type": "code",
   "execution_count": 20,
   "metadata": {},
   "outputs": [],
   "source": [
    "visits=visits.drop(['Source Id'], axis=1)"
   ]
  },
  {
   "cell_type": "markdown",
   "metadata": {},
   "source": [
    "Created a new column source_id that will be identical to costs dataframe source_id column. Dropped the extra column of Source Id. Now the new column source_id will be able to help me merge the visits data and the costs data "
   ]
  },
  {
   "cell_type": "code",
   "execution_count": 21,
   "metadata": {},
   "outputs": [],
   "source": [
    "#changing columns to lowercase\n",
    "visits.columns = visits.columns.str.lower()"
   ]
  },
  {
   "cell_type": "markdown",
   "metadata": {},
   "source": [
    "- There are 359400 rows with 5 columns. Memory was 13.7+ MB\n",
    "- Changed Device column from object to category and End Ts and Start Ts columns to datetime. Now memory is 19.3 MB\n",
    "- There are no missing values\n",
    "- Source Id and Uid were integers. I changed the Uid and Source Id to category because really it is just the id number of the person and the ad source they used. I will need to use it later in count and will be better to be used in.\n",
    "- The columns are uppercase. I changed them to lowercase to be able to work better with all the data."
   ]
  },
  {
   "cell_type": "code",
   "execution_count": 22,
   "metadata": {},
   "outputs": [
    {
     "data": {
      "text/plain": [
       "count    359400.000000\n",
       "mean          3.750515\n",
       "std           1.917116\n",
       "min           1.000000\n",
       "25%           3.000000\n",
       "50%           4.000000\n",
       "75%           5.000000\n",
       "max          10.000000\n",
       "Name: source_id, dtype: float64"
      ]
     },
     "execution_count": 22,
     "metadata": {},
     "output_type": "execute_result"
    }
   ],
   "source": [
    "visits['source_id'].describe()"
   ]
  },
  {
   "cell_type": "code",
   "execution_count": 23,
   "metadata": {},
   "outputs": [
    {
     "data": {
      "text/plain": [
       "desktop    262567\n",
       "touch       96833\n",
       "Name: device, dtype: int64"
      ]
     },
     "execution_count": 23,
     "metadata": {},
     "output_type": "execute_result"
    }
   ],
   "source": [
    "visits['device'].value_counts()"
   ]
  },
  {
   "cell_type": "markdown",
   "metadata": {},
   "source": [
    "- There are 262567 instances of people visiting the Yandex.Afisha site through their desktop\n",
    "- There are 96833 instances of people visiting the Yandex.Afisha site through a touch method"
   ]
  },
  {
   "cell_type": "code",
   "execution_count": 24,
   "metadata": {},
   "outputs": [
    {
     "data": {
      "text/plain": [
       "count                  359400\n",
       "unique                 224303\n",
       "top       2017-11-24 16:06:00\n",
       "freq                       19\n",
       "first     2017-06-01 00:01:00\n",
       "last      2018-05-31 23:59:00\n",
       "Name: start ts, dtype: object"
      ]
     },
     "execution_count": 24,
     "metadata": {},
     "output_type": "execute_result"
    }
   ],
   "source": [
    "visits['start ts'].describe()"
   ]
  },
  {
   "cell_type": "markdown",
   "metadata": {},
   "source": [
    "- There are 224303 different unique times that people visited Yandex.Afisha\n",
    "- The top time visited was 2017-11-24 at 16:06:00 and it occured 19 times.\n",
    "- The first time someone visited Yandex.Afisha was June 1, 2017 and the last time someone visited in this dataset was May 31, 2018. So therefore the project description of having logs from January 2017 to December 2018 is not correct and we have found the data like this."
   ]
  },
  {
   "cell_type": "code",
   "execution_count": 25,
   "metadata": {},
   "outputs": [
    {
     "data": {
      "text/plain": [
       "2017-11-24 16:06:00    19\n",
       "2017-11-24 17:21:00    15\n",
       "2017-11-24 17:19:00    15\n",
       "2018-05-31 10:01:00    15\n",
       "2017-11-24 15:57:00    14\n",
       "                       ..\n",
       "2017-10-23 22:17:00     1\n",
       "2018-01-24 20:19:00     1\n",
       "2018-04-03 14:19:00     1\n",
       "2017-12-14 10:36:00     1\n",
       "2017-06-28 14:39:00     1\n",
       "Name: start ts, Length: 224303, dtype: int64"
      ]
     },
     "execution_count": 25,
     "metadata": {},
     "output_type": "execute_result"
    }
   ],
   "source": [
    "visits['start ts'].value_counts()"
   ]
  },
  {
   "cell_type": "markdown",
   "metadata": {},
   "source": [
    "November 24, 2017 was a popular day to visit the site"
   ]
  },
  {
   "cell_type": "code",
   "execution_count": 26,
   "metadata": {},
   "outputs": [
    {
     "data": {
      "text/plain": [
       "count                  359400\n",
       "unique                 224760\n",
       "top       2017-11-24 16:51:00\n",
       "freq                       23\n",
       "first     2017-06-01 00:02:00\n",
       "last      2018-06-01 01:26:00\n",
       "Name: end ts, dtype: object"
      ]
     },
     "execution_count": 26,
     "metadata": {},
     "output_type": "execute_result"
    }
   ],
   "source": [
    "visits['end ts'].describe()"
   ]
  },
  {
   "cell_type": "markdown",
   "metadata": {},
   "source": [
    "- There are 224760 different unique times that people ended their visit to Yandex.Afisha\n",
    "- The top time was 2017-11-24 at 16:51:00 and it occured 23 times.\n",
    "- The first time someone ended their session was June 1, 2017 and the last time someone ended their session in this dataset was June 1, 2018 which was a year later. "
   ]
  },
  {
   "cell_type": "code",
   "execution_count": 27,
   "metadata": {},
   "outputs": [
    {
     "data": {
      "text/plain": [
       "2017-11-24 16:51:00    23\n",
       "2017-11-24 16:52:00    21\n",
       "2017-11-24 16:50:00    18\n",
       "2017-11-24 16:46:00    15\n",
       "2017-11-24 16:48:00    14\n",
       "                       ..\n",
       "2018-04-28 00:35:00     1\n",
       "2018-03-29 12:00:00     1\n",
       "2017-11-18 23:15:00     1\n",
       "2017-11-15 23:44:00     1\n",
       "2017-06-28 14:39:00     1\n",
       "Name: end ts, Length: 224760, dtype: int64"
      ]
     },
     "execution_count": 27,
     "metadata": {},
     "output_type": "execute_result"
    }
   ],
   "source": [
    "visits['end ts'].value_counts()"
   ]
  },
  {
   "cell_type": "code",
   "execution_count": 28,
   "metadata": {},
   "outputs": [
    {
     "data": {
      "text/plain": [
       "count    3.594000e+05\n",
       "mean     9.202557e+18\n",
       "std      5.298433e+18\n",
       "min      1.186350e+13\n",
       "25%      4.613407e+18\n",
       "50%      9.227413e+18\n",
       "75%      1.372824e+19\n",
       "max      1.844668e+19\n",
       "Name: uid, dtype: float64"
      ]
     },
     "execution_count": 28,
     "metadata": {},
     "output_type": "execute_result"
    }
   ],
   "source": [
    "visits['uid'].describe()"
   ]
  },
  {
   "cell_type": "code",
   "execution_count": 29,
   "metadata": {},
   "outputs": [
    {
     "data": {
      "text/plain": [
       "12869801667763685675    893\n",
       "3263486045884611639     615\n",
       "11255648391090536411    551\n",
       "17030528792926543083    357\n",
       "8056418121947262981     343\n",
       "                       ... \n",
       "13023238853810096243      1\n",
       "13275209559615110952      1\n",
       "10451189761655280393      1\n",
       "11370115024582961201      1\n",
       "15160524768967727475      1\n",
       "Name: uid, Length: 228169, dtype: int64"
      ]
     },
     "execution_count": 29,
     "metadata": {},
     "output_type": "execute_result"
    }
   ],
   "source": [
    "visits['uid'].value_counts()"
   ]
  },
  {
   "cell_type": "code",
   "execution_count": 30,
   "metadata": {},
   "outputs": [
    {
     "data": {
      "text/html": [
       "<div>\n",
       "<style scoped>\n",
       "    .dataframe tbody tr th:only-of-type {\n",
       "        vertical-align: middle;\n",
       "    }\n",
       "\n",
       "    .dataframe tbody tr th {\n",
       "        vertical-align: top;\n",
       "    }\n",
       "\n",
       "    .dataframe thead th {\n",
       "        text-align: right;\n",
       "    }\n",
       "</style>\n",
       "<table border=\"1\" class=\"dataframe\">\n",
       "  <thead>\n",
       "    <tr style=\"text-align: right;\">\n",
       "      <th></th>\n",
       "      <th>device</th>\n",
       "      <th>end ts</th>\n",
       "      <th>start ts</th>\n",
       "      <th>uid</th>\n",
       "      <th>source_id</th>\n",
       "    </tr>\n",
       "  </thead>\n",
       "  <tbody>\n",
       "    <tr>\n",
       "      <td>181</td>\n",
       "      <td>desktop</td>\n",
       "      <td>2017-12-13 15:12:00</td>\n",
       "      <td>2017-12-13 15:08:00</td>\n",
       "      <td>12869801667763685675</td>\n",
       "      <td>5</td>\n",
       "    </tr>\n",
       "    <tr>\n",
       "      <td>446</td>\n",
       "      <td>desktop</td>\n",
       "      <td>2017-11-17 12:43:00</td>\n",
       "      <td>2017-11-17 12:42:00</td>\n",
       "      <td>12869801667763685675</td>\n",
       "      <td>2</td>\n",
       "    </tr>\n",
       "    <tr>\n",
       "      <td>2209</td>\n",
       "      <td>desktop</td>\n",
       "      <td>2018-03-05 16:14:00</td>\n",
       "      <td>2018-03-05 16:01:00</td>\n",
       "      <td>12869801667763685675</td>\n",
       "      <td>2</td>\n",
       "    </tr>\n",
       "    <tr>\n",
       "      <td>2834</td>\n",
       "      <td>desktop</td>\n",
       "      <td>2018-02-19 18:35:00</td>\n",
       "      <td>2018-02-19 18:31:00</td>\n",
       "      <td>12869801667763685675</td>\n",
       "      <td>5</td>\n",
       "    </tr>\n",
       "    <tr>\n",
       "      <td>3060</td>\n",
       "      <td>desktop</td>\n",
       "      <td>2018-01-22 16:42:00</td>\n",
       "      <td>2018-01-22 16:39:00</td>\n",
       "      <td>12869801667763685675</td>\n",
       "      <td>1</td>\n",
       "    </tr>\n",
       "  </tbody>\n",
       "</table>\n",
       "</div>"
      ],
      "text/plain": [
       "       device              end ts            start ts                   uid  \\\n",
       "181   desktop 2017-12-13 15:12:00 2017-12-13 15:08:00  12869801667763685675   \n",
       "446   desktop 2017-11-17 12:43:00 2017-11-17 12:42:00  12869801667763685675   \n",
       "2209  desktop 2018-03-05 16:14:00 2018-03-05 16:01:00  12869801667763685675   \n",
       "2834  desktop 2018-02-19 18:35:00 2018-02-19 18:31:00  12869801667763685675   \n",
       "3060  desktop 2018-01-22 16:42:00 2018-01-22 16:39:00  12869801667763685675   \n",
       "\n",
       "      source_id  \n",
       "181           5  \n",
       "446           2  \n",
       "2209          2  \n",
       "2834          5  \n",
       "3060          1  "
      ]
     },
     "execution_count": 30,
     "metadata": {},
     "output_type": "execute_result"
    }
   ],
   "source": [
    "popular_visits = visits.query('uid == \"12869801667763685675\" ')\n",
    "popular_visits.head()"
   ]
  },
  {
   "cell_type": "markdown",
   "metadata": {},
   "source": [
    "- There were 228169 visits by different people from June 1, 2017 until May 31, 2018\n",
    "- The user that used the platform the most was 12869801667763685675 with 893 visits"
   ]
  },
  {
   "cell_type": "markdown",
   "metadata": {},
   "source": [
    "### Reading, optimizing, and examining orders dataframe"
   ]
  },
  {
   "cell_type": "code",
   "execution_count": 31,
   "metadata": {},
   "outputs": [
    {
     "name": "stdout",
     "output_type": "stream",
     "text": [
      "<class 'pandas.core.frame.DataFrame'>\n",
      "RangeIndex: 50415 entries, 0 to 50414\n",
      "Data columns (total 3 columns):\n",
      "Buy Ts     50415 non-null datetime64[ns]\n",
      "Revenue    50415 non-null float64\n",
      "Uid        50415 non-null uint64\n",
      "dtypes: datetime64[ns](1), float64(1), uint64(1)\n",
      "memory usage: 1.2 MB\n"
     ]
    }
   ],
   "source": [
    "# orders = pd.read_csv('B:\\Yandex\\projects\\Project6\\orders_log_us.csv', parse_dates =['Buy Ts'], dtype={'Uid': 'category'})\n",
    "orders = pd.read_csv('/datasets/orders_log_us.csv',\n",
    "#orders = pd.read_csv('datasets/orders_log_us.csv',\n",
    "                    parse_dates=['Buy Ts'])\n",
    "orders.info()"
   ]
  },
  {
   "cell_type": "code",
   "execution_count": 32,
   "metadata": {},
   "outputs": [
    {
     "data": {
      "text/html": [
       "<div>\n",
       "<style scoped>\n",
       "    .dataframe tbody tr th:only-of-type {\n",
       "        vertical-align: middle;\n",
       "    }\n",
       "\n",
       "    .dataframe tbody tr th {\n",
       "        vertical-align: top;\n",
       "    }\n",
       "\n",
       "    .dataframe thead th {\n",
       "        text-align: right;\n",
       "    }\n",
       "</style>\n",
       "<table border=\"1\" class=\"dataframe\">\n",
       "  <thead>\n",
       "    <tr style=\"text-align: right;\">\n",
       "      <th></th>\n",
       "      <th>Buy Ts</th>\n",
       "      <th>Revenue</th>\n",
       "      <th>Uid</th>\n",
       "    </tr>\n",
       "  </thead>\n",
       "  <tbody>\n",
       "    <tr>\n",
       "      <td>0</td>\n",
       "      <td>2017-06-01 00:10:00</td>\n",
       "      <td>17.00</td>\n",
       "      <td>10329302124590727494</td>\n",
       "    </tr>\n",
       "    <tr>\n",
       "      <td>1</td>\n",
       "      <td>2017-06-01 00:25:00</td>\n",
       "      <td>0.55</td>\n",
       "      <td>11627257723692907447</td>\n",
       "    </tr>\n",
       "    <tr>\n",
       "      <td>2</td>\n",
       "      <td>2017-06-01 00:27:00</td>\n",
       "      <td>0.37</td>\n",
       "      <td>17903680561304213844</td>\n",
       "    </tr>\n",
       "    <tr>\n",
       "      <td>3</td>\n",
       "      <td>2017-06-01 00:29:00</td>\n",
       "      <td>0.55</td>\n",
       "      <td>16109239769442553005</td>\n",
       "    </tr>\n",
       "    <tr>\n",
       "      <td>4</td>\n",
       "      <td>2017-06-01 07:58:00</td>\n",
       "      <td>0.37</td>\n",
       "      <td>14200605875248379450</td>\n",
       "    </tr>\n",
       "  </tbody>\n",
       "</table>\n",
       "</div>"
      ],
      "text/plain": [
       "               Buy Ts  Revenue                   Uid\n",
       "0 2017-06-01 00:10:00    17.00  10329302124590727494\n",
       "1 2017-06-01 00:25:00     0.55  11627257723692907447\n",
       "2 2017-06-01 00:27:00     0.37  17903680561304213844\n",
       "3 2017-06-01 00:29:00     0.55  16109239769442553005\n",
       "4 2017-06-01 07:58:00     0.37  14200605875248379450"
      ]
     },
     "execution_count": 32,
     "metadata": {},
     "output_type": "execute_result"
    }
   ],
   "source": [
    "orders.head()"
   ]
  },
  {
   "cell_type": "code",
   "execution_count": 33,
   "metadata": {},
   "outputs": [],
   "source": [
    "#changing columns to lowercase\n",
    "orders.columns = orders.columns.str.lower()"
   ]
  },
  {
   "cell_type": "markdown",
   "metadata": {},
   "source": [
    "- In orders there are 50415 rows with 3 columns, Memory was 1.2+ MB\n",
    "- Memory is now 2.5 MB\n",
    "- Buy Ts is now datetime\n",
    "- Revenue is float\n",
    "- Uid was integer but changed it to category because really it is just the id number of the person and will need to use it later in count but not with sum.\n",
    "- Here also the columns are uppercase and I changed them to lowercase to work better with the data\n",
    "\n",
    "- Uid is where I can merge the data. The first dataframe has when people signed up and the second dataframe has the information for those that ordered. So I can probably infer that only 50415 orders were made from the 359400 Uid in the first dataframe"
   ]
  },
  {
   "cell_type": "code",
   "execution_count": 34,
   "metadata": {},
   "outputs": [
    {
     "data": {
      "text/plain": [
       "count                   50415\n",
       "unique                  45991\n",
       "top       2018-05-31 10:13:00\n",
       "freq                        9\n",
       "first     2017-06-01 00:10:00\n",
       "last      2018-06-01 00:02:00\n",
       "Name: buy ts, dtype: object"
      ]
     },
     "execution_count": 34,
     "metadata": {},
     "output_type": "execute_result"
    }
   ],
   "source": [
    "orders['buy ts'].describe()"
   ]
  },
  {
   "cell_type": "code",
   "execution_count": 35,
   "metadata": {},
   "outputs": [
    {
     "data": {
      "text/plain": [
       "2018-05-31 10:13:00    9\n",
       "2017-11-24 17:42:00    8\n",
       "2018-05-31 10:02:00    7\n",
       "2017-11-24 17:36:00    7\n",
       "2018-05-31 10:27:00    7\n",
       "                      ..\n",
       "2017-11-11 09:37:00    1\n",
       "2018-01-14 17:49:00    1\n",
       "2017-06-22 11:34:00    1\n",
       "2018-02-14 19:50:00    1\n",
       "2017-08-29 17:06:00    1\n",
       "Name: buy ts, Length: 45991, dtype: int64"
      ]
     },
     "execution_count": 35,
     "metadata": {},
     "output_type": "execute_result"
    }
   ],
   "source": [
    "orders['buy ts'].value_counts()"
   ]
  },
  {
   "cell_type": "markdown",
   "metadata": {},
   "source": [
    "- The first and last dates of June 1, 2017 and June 1, 2018 coincide with the dataframe of visits where we have people visiting the website.\n",
    "- May 31, 2018, the last date that we have purchases from may be the most popular date with it showing up 3 times at 9, 7, and 7 buys at different times during the day."
   ]
  },
  {
   "cell_type": "code",
   "execution_count": 36,
   "metadata": {},
   "outputs": [
    {
     "data": {
      "text/plain": [
       "count    50415.000000\n",
       "mean         4.999647\n",
       "std         21.818359\n",
       "min          0.000000\n",
       "25%          1.220000\n",
       "50%          2.500000\n",
       "75%          4.890000\n",
       "max       2633.280000\n",
       "Name: revenue, dtype: float64"
      ]
     },
     "execution_count": 36,
     "metadata": {},
     "output_type": "execute_result"
    }
   ],
   "source": [
    "orders['revenue'].describe()"
   ]
  },
  {
   "cell_type": "code",
   "execution_count": 37,
   "metadata": {},
   "outputs": [
    {
     "data": {
      "text/plain": [
       "1.83       2552\n",
       "2.44       2464\n",
       "3.67       2421\n",
       "1.22       2216\n",
       "3.05       2041\n",
       "           ... \n",
       "7.56          1\n",
       "7.55          1\n",
       "1236.28       1\n",
       "14.27         1\n",
       "107.55        1\n",
       "Name: revenue, Length: 1149, dtype: int64"
      ]
     },
     "execution_count": 37,
     "metadata": {},
     "output_type": "execute_result"
    }
   ],
   "source": [
    "orders['revenue'].value_counts()"
   ]
  },
  {
   "cell_type": "code",
   "execution_count": 38,
   "metadata": {},
   "outputs": [
    {
     "data": {
      "text/plain": [
       "buy ts     51\n",
       "revenue    51\n",
       "uid        51\n",
       "dtype: int64"
      ]
     },
     "execution_count": 38,
     "metadata": {},
     "output_type": "execute_result"
    }
   ],
   "source": [
    "zero_revenue = orders[orders['revenue'] == 0]\n",
    "zero_revenue.count()"
   ]
  },
  {
   "cell_type": "markdown",
   "metadata": {},
   "source": [
    "- minimum revenue was 0. Then there was no revenue. How can people have been able to buy on the site for 0? Was there a special sale? Seems 51 users who visited did not help Yandex.Afisha make a profit.\n",
    "- The maximum a user spent on an order wsa 2633.28\n",
    "- Most people spent less than 4.89 and that is a huge difference from 2633"
   ]
  },
  {
   "cell_type": "code",
   "execution_count": 39,
   "metadata": {},
   "outputs": [
    {
     "data": {
      "text/html": [
       "<div>\n",
       "<style scoped>\n",
       "    .dataframe tbody tr th:only-of-type {\n",
       "        vertical-align: middle;\n",
       "    }\n",
       "\n",
       "    .dataframe tbody tr th {\n",
       "        vertical-align: top;\n",
       "    }\n",
       "\n",
       "    .dataframe thead th {\n",
       "        text-align: right;\n",
       "    }\n",
       "</style>\n",
       "<table border=\"1\" class=\"dataframe\">\n",
       "  <thead>\n",
       "    <tr style=\"text-align: right;\">\n",
       "      <th></th>\n",
       "      <th>buy ts</th>\n",
       "      <th>revenue</th>\n",
       "      <th>uid</th>\n",
       "    </tr>\n",
       "  </thead>\n",
       "  <tbody>\n",
       "  </tbody>\n",
       "</table>\n",
       "</div>"
      ],
      "text/plain": [
       "Empty DataFrame\n",
       "Columns: [buy ts, revenue, uid]\n",
       "Index: []"
      ]
     },
     "execution_count": 39,
     "metadata": {},
     "output_type": "execute_result"
    }
   ],
   "source": [
    "popular_visits_orders = orders.query('uid == \"12869801667763685675\" ')\n",
    "popular_visits_orders.head()"
   ]
  },
  {
   "cell_type": "markdown",
   "metadata": {},
   "source": [
    "- For all the 893 visits that 12869801667763685675 made to the site they didn't buy. Is something wrong with what they saw?"
   ]
  },
  {
   "cell_type": "markdown",
   "metadata": {},
   "source": [
    "### Reading, optimizing, and examining costs dataframe"
   ]
  },
  {
   "cell_type": "code",
   "execution_count": 40,
   "metadata": {},
   "outputs": [
    {
     "name": "stdout",
     "output_type": "stream",
     "text": [
      "<class 'pandas.core.frame.DataFrame'>\n",
      "RangeIndex: 2542 entries, 0 to 2541\n",
      "Data columns (total 3 columns):\n",
      "source_id    2542 non-null int64\n",
      "dt           2542 non-null datetime64[ns]\n",
      "costs        2542 non-null float64\n",
      "dtypes: datetime64[ns](1), float64(1), int64(1)\n",
      "memory usage: 59.7 KB\n"
     ]
    }
   ],
   "source": [
    "# costs = pd.read_csv('B:\\Yandex\\projects\\Project6\\costs_us.csv', parse_dates = ['dt'], dtype= {'source_id': 'category'})\n",
    "costs = pd.read_csv('/datasets/costs_us.csv',\n",
    "                   parse_dates=['dt'])\n",
    "costs.info()"
   ]
  },
  {
   "cell_type": "markdown",
   "metadata": {},
   "source": [
    "- The costs dataframe has 2542 rows (dates) and 3 columns\n",
    "- There are only 365 days in a year so having 2542 dates means that some dates had more ads being used.\n",
    "- The columns are source_id, dt, and costs\n",
    "- source_id can be used to make calculations in the costs dataframe with the visits dataframe\n",
    "- source_id was integer but I can change it to category to use for our calculations."
   ]
  },
  {
   "cell_type": "code",
   "execution_count": 41,
   "metadata": {},
   "outputs": [
    {
     "data": {
      "text/html": [
       "<div>\n",
       "<style scoped>\n",
       "    .dataframe tbody tr th:only-of-type {\n",
       "        vertical-align: middle;\n",
       "    }\n",
       "\n",
       "    .dataframe tbody tr th {\n",
       "        vertical-align: top;\n",
       "    }\n",
       "\n",
       "    .dataframe thead th {\n",
       "        text-align: right;\n",
       "    }\n",
       "</style>\n",
       "<table border=\"1\" class=\"dataframe\">\n",
       "  <thead>\n",
       "    <tr style=\"text-align: right;\">\n",
       "      <th></th>\n",
       "      <th>source_id</th>\n",
       "      <th>dt</th>\n",
       "      <th>costs</th>\n",
       "    </tr>\n",
       "  </thead>\n",
       "  <tbody>\n",
       "    <tr>\n",
       "      <td>0</td>\n",
       "      <td>1</td>\n",
       "      <td>2017-06-01</td>\n",
       "      <td>75.20</td>\n",
       "    </tr>\n",
       "    <tr>\n",
       "      <td>1</td>\n",
       "      <td>1</td>\n",
       "      <td>2017-06-02</td>\n",
       "      <td>62.25</td>\n",
       "    </tr>\n",
       "    <tr>\n",
       "      <td>2</td>\n",
       "      <td>1</td>\n",
       "      <td>2017-06-03</td>\n",
       "      <td>36.53</td>\n",
       "    </tr>\n",
       "    <tr>\n",
       "      <td>3</td>\n",
       "      <td>1</td>\n",
       "      <td>2017-06-04</td>\n",
       "      <td>55.00</td>\n",
       "    </tr>\n",
       "    <tr>\n",
       "      <td>4</td>\n",
       "      <td>1</td>\n",
       "      <td>2017-06-05</td>\n",
       "      <td>57.08</td>\n",
       "    </tr>\n",
       "  </tbody>\n",
       "</table>\n",
       "</div>"
      ],
      "text/plain": [
       "   source_id         dt  costs\n",
       "0          1 2017-06-01  75.20\n",
       "1          1 2017-06-02  62.25\n",
       "2          1 2017-06-03  36.53\n",
       "3          1 2017-06-04  55.00\n",
       "4          1 2017-06-05  57.08"
      ]
     },
     "execution_count": 41,
     "metadata": {},
     "output_type": "execute_result"
    }
   ],
   "source": [
    "costs.head()"
   ]
  },
  {
   "cell_type": "code",
   "execution_count": 42,
   "metadata": {},
   "outputs": [
    {
     "data": {
      "text/plain": [
       "count                    2542\n",
       "unique                    364\n",
       "top       2018-03-03 00:00:00\n",
       "freq                        7\n",
       "first     2017-06-01 00:00:00\n",
       "last      2018-05-31 00:00:00\n",
       "Name: dt, dtype: object"
      ]
     },
     "execution_count": 42,
     "metadata": {},
     "output_type": "execute_result"
    }
   ],
   "source": [
    "costs['dt'].describe()"
   ]
  },
  {
   "cell_type": "code",
   "execution_count": 43,
   "metadata": {},
   "outputs": [
    {
     "data": {
      "text/plain": [
       "count    2542.000000\n",
       "mean        4.857199\n",
       "std         3.181581\n",
       "min         1.000000\n",
       "25%         2.000000\n",
       "50%         4.000000\n",
       "75%         9.000000\n",
       "max        10.000000\n",
       "Name: source_id, dtype: float64"
      ]
     },
     "execution_count": 43,
     "metadata": {},
     "output_type": "execute_result"
    }
   ],
   "source": [
    "costs['source_id'].describe()"
   ]
  },
  {
   "cell_type": "markdown",
   "metadata": {},
   "source": [
    "- Only 364 unique dates? That one day less than a year. \n",
    "- First date June 1, 2017.\n",
    "- Last date is May 31, 2018\n",
    "- So really the information is for one whole year minus one day and not two years.\n",
    "- There are 7 unique types of source ads"
   ]
  },
  {
   "cell_type": "code",
   "execution_count": 44,
   "metadata": {},
   "outputs": [
    {
     "data": {
      "text/plain": [
       "count    2542.000000\n",
       "mean      129.477427\n",
       "std       156.296628\n",
       "min         0.540000\n",
       "25%        21.945000\n",
       "50%        77.295000\n",
       "75%       170.065000\n",
       "max      1788.280000\n",
       "Name: costs, dtype: float64"
      ]
     },
     "execution_count": 44,
     "metadata": {},
     "output_type": "execute_result"
    }
   ],
   "source": [
    "costs['costs'].describe()"
   ]
  },
  {
   "cell_type": "markdown",
   "metadata": {},
   "source": [
    "- Just by looking at the description of costs here the ads were more expensive than the revenue. However there were less ads being paid for than orders coming in. Only 2542 ads compared to 50415 orders\n",
    "- The most expensive ad was 1788.28"
   ]
  },
  {
   "cell_type": "markdown",
   "metadata": {},
   "source": [
    "### Conclusion\n",
    "\n",
    "- Each dataframe was optimized to some level. I parsed the dates in all three dataframes. I changed object dtypes to category.\n",
    "- I discovered that the data we have is from June 1, 2017 until June 1, 2018.\n",
    "- There are 262567 instances of people visiting the Yandex.Afisha site through their desktop and 96833 via touch\n",
    "- There are 224303 different unique times that people visited Yandex.Afisha and 224760 different unique times that people ended their visit to Yandex.Afisha\n",
    "- Discovered that even if visits were many it did not necessarily mean that the user would buy something.\n",
    "- Ad sources were more costly than revenue with a birds eye view but we will continue to check that as we continue through the data"
   ]
  },
  {
   "cell_type": "markdown",
   "metadata": {},
   "source": [
    "### Getting date columns by month, week, day"
   ]
  },
  {
   "cell_type": "code",
   "execution_count": 45,
   "metadata": {},
   "outputs": [],
   "source": [
    "# Getting dates from visits dataset\n",
    "visits['visit_year'] = pd.DatetimeIndex(visits['start ts']).year\n",
    "visits['visit_month'] = visits['start ts'].astype('datetime64[M]')\n",
    "visits['visit_week']  = pd.DatetimeIndex(visits['start ts']).week\n",
    "visits['visit_date'] = pd.DatetimeIndex(visits['start ts']).date"
   ]
  },
  {
   "cell_type": "code",
   "execution_count": 46,
   "metadata": {},
   "outputs": [],
   "source": [
    "orders['order_year'] = pd.DatetimeIndex(orders['buy ts']).year\n",
    "orders['order_month'] = orders['buy ts'].astype('datetime64[M]')\n",
    "orders['order_week']  = pd.DatetimeIndex(orders['buy ts']).week\n",
    "orders['order_date'] = pd.DatetimeIndex(orders['buy ts']).date"
   ]
  },
  {
   "cell_type": "code",
   "execution_count": 47,
   "metadata": {},
   "outputs": [],
   "source": [
    "costs['cost_year'] = pd.DatetimeIndex(costs['dt']).year\n",
    "costs['cost_month'] = costs['dt'].astype('datetime64[M]')\n",
    "costs['cost_week'] = pd.DatetimeIndex(costs['dt']).week\n",
    "costs['cost_date'] = pd.DatetimeIndex(costs['dt']).date"
   ]
  },
  {
   "cell_type": "markdown",
   "metadata": {},
   "source": [
    "# Step 2. Make reports and calculate metrics:"
   ]
  },
  {
   "cell_type": "markdown",
   "metadata": {},
   "source": [
    "## Product "
   ]
  },
  {
   "cell_type": "markdown",
   "metadata": {},
   "source": [
    "#### 1. How many people use it every day, week, and month? "
   ]
  },
  {
   "cell_type": "code",
   "execution_count": 48,
   "metadata": {},
   "outputs": [
    {
     "name": "stdout",
     "output_type": "stream",
     "text": [
      "907\n"
     ]
    }
   ],
   "source": [
    "#How many use it every day on average\n",
    "dau_total = visits.groupby('visit_date').agg({'uid': 'nunique'}).mean()\n",
    "print(int(dau_total))"
   ]
  },
  {
   "cell_type": "code",
   "execution_count": 49,
   "metadata": {},
   "outputs": [
    {
     "name": "stdout",
     "output_type": "stream",
     "text": [
      "5716\n"
     ]
    }
   ],
   "source": [
    "#How many use it every week on average\n",
    "wau_total = visits.groupby(['visit_year', 'visit_week']).agg({'uid': 'nunique'}).mean()\n",
    "print(int(wau_total))"
   ]
  },
  {
   "cell_type": "code",
   "execution_count": 50,
   "metadata": {},
   "outputs": [
    {
     "name": "stdout",
     "output_type": "stream",
     "text": [
      "23228\n"
     ]
    }
   ],
   "source": [
    "#How many use it every month on average\n",
    "mau_total = visits.groupby(['visit_year', 'visit_month']).agg({'uid': 'nunique'}).mean()\n",
    "print(int(mau_total))"
   ]
  },
  {
   "cell_type": "markdown",
   "metadata": {},
   "source": [
    "- Daily average users are 907\n",
    "- Weekly average users are 5716\n",
    "- Monthly average users are 23228"
   ]
  },
  {
   "cell_type": "markdown",
   "metadata": {},
   "source": [
    "#### 2. How many sessions are there per day? (One user might have more than one session.) "
   ]
  },
  {
   "cell_type": "code",
   "execution_count": 51,
   "metadata": {},
   "outputs": [
    {
     "data": {
      "text/html": [
       "<div>\n",
       "<style scoped>\n",
       "    .dataframe tbody tr th:only-of-type {\n",
       "        vertical-align: middle;\n",
       "    }\n",
       "\n",
       "    .dataframe tbody tr th {\n",
       "        vertical-align: top;\n",
       "    }\n",
       "\n",
       "    .dataframe thead th {\n",
       "        text-align: right;\n",
       "    }\n",
       "</style>\n",
       "<table border=\"1\" class=\"dataframe\">\n",
       "  <thead>\n",
       "    <tr style=\"text-align: right;\">\n",
       "      <th></th>\n",
       "      <th></th>\n",
       "      <th>n_sessions</th>\n",
       "      <th>n_users</th>\n",
       "      <th>sessions_per_user</th>\n",
       "    </tr>\n",
       "    <tr>\n",
       "      <th>visit_week</th>\n",
       "      <th>visit_date</th>\n",
       "      <th></th>\n",
       "      <th></th>\n",
       "      <th></th>\n",
       "    </tr>\n",
       "  </thead>\n",
       "  <tbody>\n",
       "    <tr>\n",
       "      <td rowspan=\"5\" valign=\"top\">1</td>\n",
       "      <td>2018-01-01</td>\n",
       "      <td>1065</td>\n",
       "      <td>992</td>\n",
       "      <td>1.073589</td>\n",
       "    </tr>\n",
       "    <tr>\n",
       "      <td>2018-01-02</td>\n",
       "      <td>1355</td>\n",
       "      <td>1265</td>\n",
       "      <td>1.071146</td>\n",
       "    </tr>\n",
       "    <tr>\n",
       "      <td>2018-01-03</td>\n",
       "      <td>1317</td>\n",
       "      <td>1219</td>\n",
       "      <td>1.080394</td>\n",
       "    </tr>\n",
       "    <tr>\n",
       "      <td>2018-01-04</td>\n",
       "      <td>1370</td>\n",
       "      <td>1260</td>\n",
       "      <td>1.087302</td>\n",
       "    </tr>\n",
       "    <tr>\n",
       "      <td>2018-01-05</td>\n",
       "      <td>1092</td>\n",
       "      <td>1006</td>\n",
       "      <td>1.085487</td>\n",
       "    </tr>\n",
       "    <tr>\n",
       "      <td>...</td>\n",
       "      <td>...</td>\n",
       "      <td>...</td>\n",
       "      <td>...</td>\n",
       "      <td>...</td>\n",
       "    </tr>\n",
       "    <tr>\n",
       "      <td rowspan=\"5\" valign=\"top\">52</td>\n",
       "      <td>2017-12-27</td>\n",
       "      <td>1444</td>\n",
       "      <td>1334</td>\n",
       "      <td>1.082459</td>\n",
       "    </tr>\n",
       "    <tr>\n",
       "      <td>2017-12-28</td>\n",
       "      <td>1496</td>\n",
       "      <td>1377</td>\n",
       "      <td>1.086420</td>\n",
       "    </tr>\n",
       "    <tr>\n",
       "      <td>2017-12-29</td>\n",
       "      <td>1315</td>\n",
       "      <td>1192</td>\n",
       "      <td>1.103188</td>\n",
       "    </tr>\n",
       "    <tr>\n",
       "      <td>2017-12-30</td>\n",
       "      <td>1192</td>\n",
       "      <td>1106</td>\n",
       "      <td>1.077758</td>\n",
       "    </tr>\n",
       "    <tr>\n",
       "      <td>2017-12-31</td>\n",
       "      <td>784</td>\n",
       "      <td>732</td>\n",
       "      <td>1.071038</td>\n",
       "    </tr>\n",
       "  </tbody>\n",
       "</table>\n",
       "<p>364 rows × 3 columns</p>\n",
       "</div>"
      ],
      "text/plain": [
       "                       n_sessions  n_users  sessions_per_user\n",
       "visit_week visit_date                                        \n",
       "1          2018-01-01        1065      992           1.073589\n",
       "           2018-01-02        1355     1265           1.071146\n",
       "           2018-01-03        1317     1219           1.080394\n",
       "           2018-01-04        1370     1260           1.087302\n",
       "           2018-01-05        1092     1006           1.085487\n",
       "...                           ...      ...                ...\n",
       "52         2017-12-27        1444     1334           1.082459\n",
       "           2017-12-28        1496     1377           1.086420\n",
       "           2017-12-29        1315     1192           1.103188\n",
       "           2017-12-30        1192     1106           1.077758\n",
       "           2017-12-31         784      732           1.071038\n",
       "\n",
       "[364 rows x 3 columns]"
      ]
     },
     "execution_count": 51,
     "metadata": {},
     "output_type": "execute_result"
    }
   ],
   "source": [
    "sessions_per_user = visits.groupby(['visit_week', 'visit_date']).agg({'uid': ['count','nunique']})\n",
    "sessions_per_user.columns = ['n_sessions', 'n_users']\n",
    "sessions_per_user['sessions_per_user'] = sessions_per_user['n_sessions'] / sessions_per_user['n_users']\n",
    "sessions_per_user"
   ]
  },
  {
   "cell_type": "code",
   "execution_count": 52,
   "metadata": {},
   "outputs": [
    {
     "data": {
      "text/html": [
       "<div>\n",
       "<style scoped>\n",
       "    .dataframe tbody tr th:only-of-type {\n",
       "        vertical-align: middle;\n",
       "    }\n",
       "\n",
       "    .dataframe tbody tr th {\n",
       "        vertical-align: top;\n",
       "    }\n",
       "\n",
       "    .dataframe thead th {\n",
       "        text-align: right;\n",
       "    }\n",
       "</style>\n",
       "<table border=\"1\" class=\"dataframe\">\n",
       "  <thead>\n",
       "    <tr style=\"text-align: right;\">\n",
       "      <th></th>\n",
       "      <th>n_sessions</th>\n",
       "      <th>n_users</th>\n",
       "      <th>sessions_per_user</th>\n",
       "    </tr>\n",
       "  </thead>\n",
       "  <tbody>\n",
       "    <tr>\n",
       "      <td>count</td>\n",
       "      <td>364.000000</td>\n",
       "      <td>364.000000</td>\n",
       "      <td>364.000000</td>\n",
       "    </tr>\n",
       "    <tr>\n",
       "      <td>mean</td>\n",
       "      <td>987.362637</td>\n",
       "      <td>907.991758</td>\n",
       "      <td>1.082170</td>\n",
       "    </tr>\n",
       "    <tr>\n",
       "      <td>std</td>\n",
       "      <td>418.994796</td>\n",
       "      <td>370.513838</td>\n",
       "      <td>0.020876</td>\n",
       "    </tr>\n",
       "    <tr>\n",
       "      <td>min</td>\n",
       "      <td>1.000000</td>\n",
       "      <td>1.000000</td>\n",
       "      <td>1.000000</td>\n",
       "    </tr>\n",
       "    <tr>\n",
       "      <td>25%</td>\n",
       "      <td>635.500000</td>\n",
       "      <td>594.000000</td>\n",
       "      <td>1.070321</td>\n",
       "    </tr>\n",
       "    <tr>\n",
       "      <td>50%</td>\n",
       "      <td>1003.000000</td>\n",
       "      <td>921.000000</td>\n",
       "      <td>1.082488</td>\n",
       "    </tr>\n",
       "    <tr>\n",
       "      <td>75%</td>\n",
       "      <td>1280.000000</td>\n",
       "      <td>1173.000000</td>\n",
       "      <td>1.093876</td>\n",
       "    </tr>\n",
       "    <tr>\n",
       "      <td>max</td>\n",
       "      <td>4042.000000</td>\n",
       "      <td>3319.000000</td>\n",
       "      <td>1.217837</td>\n",
       "    </tr>\n",
       "  </tbody>\n",
       "</table>\n",
       "</div>"
      ],
      "text/plain": [
       "        n_sessions      n_users  sessions_per_user\n",
       "count   364.000000   364.000000         364.000000\n",
       "mean    987.362637   907.991758           1.082170\n",
       "std     418.994796   370.513838           0.020876\n",
       "min       1.000000     1.000000           1.000000\n",
       "25%     635.500000   594.000000           1.070321\n",
       "50%    1003.000000   921.000000           1.082488\n",
       "75%    1280.000000  1173.000000           1.093876\n",
       "max    4042.000000  3319.000000           1.217837"
      ]
     },
     "execution_count": 52,
     "metadata": {},
     "output_type": "execute_result"
    }
   ],
   "source": [
    "sessions_per_user.describe()"
   ]
  },
  {
   "cell_type": "markdown",
   "metadata": {},
   "source": [
    "A user had 1.082170 session per day on average"
   ]
  },
  {
   "cell_type": "markdown",
   "metadata": {},
   "source": [
    "#### 3. What is the length of each session? "
   ]
  },
  {
   "cell_type": "code",
   "execution_count": 53,
   "metadata": {},
   "outputs": [
    {
     "name": "stdout",
     "output_type": "stream",
     "text": [
      "643.506488592098\n"
     ]
    }
   ],
   "source": [
    "visits['session_duration_sec'] = (pd.to_datetime(visits['end ts']) - pd.to_datetime(visits['start ts'])).dt.seconds\n",
    "\n",
    "print(visits['session_duration_sec'].mean()) "
   ]
  },
  {
   "cell_type": "markdown",
   "metadata": {},
   "source": [
    "- Average session is 644 seconds"
   ]
  },
  {
   "cell_type": "code",
   "execution_count": 54,
   "metadata": {},
   "outputs": [
    {
     "data": {
      "image/png": "[encoded data removed]",
      "text/plain": [
       "<Figure size 432x288 with 1 Axes>"
      ]
     },
     "metadata": {
      "needs_background": "light"
     },
     "output_type": "display_data"
    }
   ],
   "source": [
    "plt.hist(visits['session_duration_sec'], bins = 50, log = True)\n",
    "plt.title(\"Sessions and their duration in seconds\", fontsize=15)\n",
    "plt.xlabel('Seconds')\n",
    "plt.ylabel(\"Sessions\")\n",
    "plt.show()"
   ]
  },
  {
   "cell_type": "code",
   "execution_count": 55,
   "metadata": {},
   "outputs": [
    {
     "name": "stdout",
     "output_type": "stream",
     "text": [
      "0    60\n",
      "dtype: int64\n"
     ]
    }
   ],
   "source": [
    "print(visits['session_duration_sec'].mode())"
   ]
  },
  {
   "cell_type": "markdown",
   "metadata": {},
   "source": [
    "- Or a mode of 60"
   ]
  },
  {
   "cell_type": "markdown",
   "metadata": {},
   "source": [
    "#### 4. How often do users come back?"
   ]
  },
  {
   "cell_type": "code",
   "execution_count": 56,
   "metadata": {},
   "outputs": [
    {
     "name": "stdout",
     "output_type": "stream",
     "text": [
      "uid    15.884409\n",
      "dtype: float64\n",
      "uid    3.90897\n",
      "dtype: float64\n"
     ]
    }
   ],
   "source": [
    "dau_total = visits.groupby('visit_date').agg({'uid': 'nunique'}).mean()\n",
    "wau_total = visits.groupby(['visit_year', 'visit_week']).agg({'uid': 'nunique'}).mean()\n",
    "mau_total = visits.groupby(['visit_year', 'visit_month']).agg({'uid': 'nunique'}).mean()\n",
    "\n",
    "sticky_wau = (dau_total/wau_total)*100\n",
    "sticky_mau = (dau_total/mau_total)*100\n",
    "\n",
    "print(sticky_wau)\n",
    "print(sticky_mau)"
   ]
  },
  {
   "cell_type": "markdown",
   "metadata": {},
   "source": [
    "- 15 percent of users came back weekly\n",
    "- Only about 3 percent of users came back monthly"
   ]
  },
  {
   "cell_type": "code",
   "execution_count": 57,
   "metadata": {},
   "outputs": [
    {
     "data": {
      "text/plain": [
       "array([<matplotlib.axes._subplots.AxesSubplot object at 0x7f3304df2210>],\n",
       "      dtype=object)"
      ]
     },
     "execution_count": 57,
     "metadata": {},
     "output_type": "execute_result"
    },
    {
     "data": {
      "image/png": "[encoded data removed]",
      "text/plain": [
       "<Figure size 432x288 with 1 Axes>"
      ]
     },
     "metadata": {},
     "output_type": "display_data"
    }
   ],
   "source": [
    "desktop_visits = visits.query('device == \"desktop\"')\n",
    "(desktop_visits['source_id'].value_counts()).plot(subplots=True, kind='pie')"
   ]
  },
  {
   "cell_type": "markdown",
   "metadata": {},
   "source": [
    "- Most of the visits came from sources 3 ,4 , and 5"
   ]
  },
  {
   "cell_type": "code",
   "execution_count": 58,
   "metadata": {},
   "outputs": [
    {
     "data": {
      "text/plain": [
       "4     25.761044\n",
       "3     25.051511\n",
       "5     19.069038\n",
       "2     13.581676\n",
       "1      9.864530\n",
       "9      3.853873\n",
       "10     2.805760\n",
       "7      0.010664\n",
       "6      0.001904\n",
       "Name: source_id, dtype: float64"
      ]
     },
     "execution_count": 58,
     "metadata": {},
     "output_type": "execute_result"
    }
   ],
   "source": [
    "desktop_visits['source_id'].value_counts(normalize=True)*100"
   ]
  },
  {
   "cell_type": "markdown",
   "metadata": {},
   "source": [
    "50% of the visits came from sources 4 and 3 from the desktop"
   ]
  },
  {
   "cell_type": "code",
   "execution_count": 59,
   "metadata": {},
   "outputs": [
    {
     "data": {
      "text/plain": [
       "array([<matplotlib.axes._subplots.AxesSubplot object at 0x7f3305bdabd0>],\n",
       "      dtype=object)"
      ]
     },
     "execution_count": 59,
     "metadata": {},
     "output_type": "execute_result"
    },
    {
     "data": {
      "image/png": "[encoded data removed]",
      "text/plain": [
       "<Figure size 432x288 with 1 Axes>"
      ]
     },
     "metadata": {},
     "output_type": "display_data"
    }
   ],
   "source": [
    "touch_visits = visits.query('device == \"touch\"')\n",
    "(touch_visits['source_id'].value_counts()).plot(subplots=True, kind='pie')"
   ]
  },
  {
   "cell_type": "markdown",
   "metadata": {},
   "source": [
    "- Most visits for touch also came from sources 3, 4, and 5"
   ]
  },
  {
   "cell_type": "code",
   "execution_count": 60,
   "metadata": {},
   "outputs": [
    {
     "data": {
      "text/plain": [
       "4     35.271034\n",
       "3     20.481654\n",
       "5     17.386635\n",
       "2     12.356325\n",
       "1      8.488842\n",
       "9      3.261285\n",
       "10     2.744932\n",
       "7      0.008262\n",
       "6      0.001033\n",
       "Name: source_id, dtype: float64"
      ]
     },
     "execution_count": 60,
     "metadata": {},
     "output_type": "execute_result"
    }
   ],
   "source": [
    "touch_visits['source_id'].value_counts(normalize=True)*100"
   ]
  },
  {
   "cell_type": "markdown",
   "metadata": {},
   "source": [
    "- 55% of the visits came from sources 3 and 4"
   ]
  },
  {
   "cell_type": "markdown",
   "metadata": {},
   "source": [
    "## Sales \n"
   ]
  },
  {
   "cell_type": "markdown",
   "metadata": {},
   "source": [
    "#### 1. When do people start buying?"
   ]
  },
  {
   "cell_type": "code",
   "execution_count": 61,
   "metadata": {},
   "outputs": [],
   "source": [
    "first_visits=visits.groupby('uid')['start ts'].min().reset_index()"
   ]
  },
  {
   "cell_type": "code",
   "execution_count": 62,
   "metadata": {},
   "outputs": [],
   "source": [
    "first_visits.name='first_visits_date'"
   ]
  },
  {
   "cell_type": "code",
   "execution_count": 63,
   "metadata": {},
   "outputs": [],
   "source": [
    "first_buy=orders.groupby('uid')['buy ts'].min().reset_index()"
   ]
  },
  {
   "cell_type": "code",
   "execution_count": 64,
   "metadata": {},
   "outputs": [],
   "source": [
    "first_buy.name='first_orders_date'"
   ]
  },
  {
   "cell_type": "code",
   "execution_count": 65,
   "metadata": {},
   "outputs": [],
   "source": [
    "firsts = first_visits.merge(first_buy, on='uid')"
   ]
  },
  {
   "cell_type": "code",
   "execution_count": 66,
   "metadata": {},
   "outputs": [
    {
     "data": {
      "text/html": [
       "<div>\n",
       "<style scoped>\n",
       "    .dataframe tbody tr th:only-of-type {\n",
       "        vertical-align: middle;\n",
       "    }\n",
       "\n",
       "    .dataframe tbody tr th {\n",
       "        vertical-align: top;\n",
       "    }\n",
       "\n",
       "    .dataframe thead th {\n",
       "        text-align: right;\n",
       "    }\n",
       "</style>\n",
       "<table border=\"1\" class=\"dataframe\">\n",
       "  <thead>\n",
       "    <tr style=\"text-align: right;\">\n",
       "      <th></th>\n",
       "      <th>uid</th>\n",
       "      <th>start ts</th>\n",
       "      <th>buy ts</th>\n",
       "    </tr>\n",
       "  </thead>\n",
       "  <tbody>\n",
       "    <tr>\n",
       "      <td>0</td>\n",
       "      <td>313578113262317</td>\n",
       "      <td>2017-09-18 22:49:00</td>\n",
       "      <td>2018-01-03 21:51:00</td>\n",
       "    </tr>\n",
       "    <tr>\n",
       "      <td>1</td>\n",
       "      <td>1575281904278712</td>\n",
       "      <td>2017-06-03 10:13:00</td>\n",
       "      <td>2017-06-03 10:13:00</td>\n",
       "    </tr>\n",
       "    <tr>\n",
       "      <td>2</td>\n",
       "      <td>2429014661409475</td>\n",
       "      <td>2017-10-11 17:14:00</td>\n",
       "      <td>2017-10-11 18:33:00</td>\n",
       "    </tr>\n",
       "    <tr>\n",
       "      <td>3</td>\n",
       "      <td>2464366381792757</td>\n",
       "      <td>2018-01-27 20:10:00</td>\n",
       "      <td>2018-01-28 15:54:00</td>\n",
       "    </tr>\n",
       "    <tr>\n",
       "      <td>4</td>\n",
       "      <td>2551852515556206</td>\n",
       "      <td>2017-11-24 10:14:00</td>\n",
       "      <td>2017-11-24 10:14:00</td>\n",
       "    </tr>\n",
       "  </tbody>\n",
       "</table>\n",
       "</div>"
      ],
      "text/plain": [
       "                uid            start ts              buy ts\n",
       "0   313578113262317 2017-09-18 22:49:00 2018-01-03 21:51:00\n",
       "1  1575281904278712 2017-06-03 10:13:00 2017-06-03 10:13:00\n",
       "2  2429014661409475 2017-10-11 17:14:00 2017-10-11 18:33:00\n",
       "3  2464366381792757 2018-01-27 20:10:00 2018-01-28 15:54:00\n",
       "4  2551852515556206 2017-11-24 10:14:00 2017-11-24 10:14:00"
      ]
     },
     "execution_count": 66,
     "metadata": {},
     "output_type": "execute_result"
    }
   ],
   "source": [
    "firsts.head()"
   ]
  },
  {
   "cell_type": "code",
   "execution_count": 67,
   "metadata": {},
   "outputs": [
    {
     "name": "stdout",
     "output_type": "stream",
     "text": [
      "<class 'pandas.core.frame.DataFrame'>\n",
      "Int64Index: 36523 entries, 0 to 36522\n",
      "Data columns (total 3 columns):\n",
      "uid         36523 non-null uint64\n",
      "start ts    36523 non-null datetime64[ns]\n",
      "buy ts      36523 non-null datetime64[ns]\n",
      "dtypes: datetime64[ns](2), uint64(1)\n",
      "memory usage: 1.1 MB\n"
     ]
    }
   ],
   "source": [
    "firsts.info()"
   ]
  },
  {
   "cell_type": "code",
   "execution_count": 68,
   "metadata": {},
   "outputs": [],
   "source": [
    "firsts['first_difference']= firsts['buy ts'] - firsts['start ts']"
   ]
  },
  {
   "cell_type": "code",
   "execution_count": 69,
   "metadata": {},
   "outputs": [],
   "source": [
    "# Creating slice with unique users\n",
    "users_conversion = firsts[['uid', 'first_difference']].drop_duplicates(subset = ['uid'])"
   ]
  },
  {
   "cell_type": "code",
   "execution_count": 70,
   "metadata": {},
   "outputs": [],
   "source": [
    "#Calculating days to convertion\n",
    "users_conversion['days_to_conversion'] = users_conversion['first_difference'] / np.timedelta64(1,'D')\n",
    "users_conversion['days_to_conversion'] = users_conversion['days_to_conversion'].round().astype('int')"
   ]
  },
  {
   "cell_type": "code",
   "execution_count": 71,
   "metadata": {},
   "outputs": [],
   "source": [
    "# Calculating minutes to convertion\n",
    "users_conversion['mins_to_conversion'] = users_conversion['first_difference'] / np.timedelta64(1,'m')\n",
    "users_conversion['mins_to_conversion'] = users_conversion['mins_to_conversion'].round().astype('int')"
   ]
  },
  {
   "cell_type": "code",
   "execution_count": 72,
   "metadata": {},
   "outputs": [
    {
     "data": {
      "image/png": "[encoded data removed]",
      "text/plain": [
       "<Figure size 936x288 with 1 Axes>"
      ]
     },
     "metadata": {
      "needs_background": "light"
     },
     "output_type": "display_data"
    }
   ],
   "source": [
    "plt.figure(figsize=(13,4))\n",
    "plt.hist(users_conversion['days_to_conversion'], bins=100, range=(0, 60), color='teal')\n",
    "plt.title('Conversion by Day', fontsize=15,fontweight=\"bold\")\n",
    "plt.xlabel('Days')\n",
    "plt.ylabel('Users')\n",
    "plt.show()"
   ]
  },
  {
   "cell_type": "code",
   "execution_count": 73,
   "metadata": {},
   "outputs": [
    {
     "data": {
      "image/png": "[encoded data removed]",
      "text/plain": [
       "<Figure size 936x288 with 1 Axes>"
      ]
     },
     "metadata": {
      "needs_background": "light"
     },
     "output_type": "display_data"
    }
   ],
   "source": [
    "plt.figure(figsize=(13,4))\n",
    "plt.hist(users_conversion['mins_to_conversion'], bins=100, range=(0, 60), color='teal')\n",
    "plt.title('Conversion within the first hour', fontsize=15,fontweight=\"bold\")\n",
    "plt.xlabel('Minutes')\n",
    "plt.ylabel('Users')\n",
    "plt.show()"
   ]
  },
  {
   "cell_type": "code",
   "execution_count": 74,
   "metadata": {},
   "outputs": [],
   "source": [
    "users_amount = firsts['first_difference'].value_counts().reset_index()"
   ]
  },
  {
   "cell_type": "code",
   "execution_count": 75,
   "metadata": {},
   "outputs": [],
   "source": [
    "conversion_by_day = users_conversion['days_to_conversion'].value_counts().reset_index() "
   ]
  },
  {
   "cell_type": "code",
   "execution_count": 76,
   "metadata": {},
   "outputs": [],
   "source": [
    "conversion_by_day.columns = ['Day','Orders']"
   ]
  },
  {
   "cell_type": "code",
   "execution_count": 77,
   "metadata": {},
   "outputs": [],
   "source": [
    "users_amount.columns = ['Time','Orders']"
   ]
  },
  {
   "cell_type": "code",
   "execution_count": 78,
   "metadata": {},
   "outputs": [
    {
     "data": {
      "text/html": [
       "<div>\n",
       "<style scoped>\n",
       "    .dataframe tbody tr th:only-of-type {\n",
       "        vertical-align: middle;\n",
       "    }\n",
       "\n",
       "    .dataframe tbody tr th {\n",
       "        vertical-align: top;\n",
       "    }\n",
       "\n",
       "    .dataframe thead th {\n",
       "        text-align: right;\n",
       "    }\n",
       "</style>\n",
       "<table border=\"1\" class=\"dataframe\">\n",
       "  <thead>\n",
       "    <tr style=\"text-align: right;\">\n",
       "      <th></th>\n",
       "      <th>Time</th>\n",
       "      <th>Orders</th>\n",
       "    </tr>\n",
       "  </thead>\n",
       "  <tbody>\n",
       "    <tr>\n",
       "      <td>0</td>\n",
       "      <td>0 days 00:01:00</td>\n",
       "      <td>2656</td>\n",
       "    </tr>\n",
       "    <tr>\n",
       "      <td>1</td>\n",
       "      <td>0 days 00:00:00</td>\n",
       "      <td>2455</td>\n",
       "    </tr>\n",
       "    <tr>\n",
       "      <td>2</td>\n",
       "      <td>0 days 00:02:00</td>\n",
       "      <td>2098</td>\n",
       "    </tr>\n",
       "    <tr>\n",
       "      <td>3</td>\n",
       "      <td>0 days 00:03:00</td>\n",
       "      <td>1685</td>\n",
       "    </tr>\n",
       "    <tr>\n",
       "      <td>4</td>\n",
       "      <td>0 days 00:04:00</td>\n",
       "      <td>1460</td>\n",
       "    </tr>\n",
       "    <tr>\n",
       "      <td>...</td>\n",
       "      <td>...</td>\n",
       "      <td>...</td>\n",
       "    </tr>\n",
       "    <tr>\n",
       "      <td>10556</td>\n",
       "      <td>62 days 19:37:00</td>\n",
       "      <td>1</td>\n",
       "    </tr>\n",
       "    <tr>\n",
       "      <td>10557</td>\n",
       "      <td>8 days 20:13:00</td>\n",
       "      <td>1</td>\n",
       "    </tr>\n",
       "    <tr>\n",
       "      <td>10558</td>\n",
       "      <td>1 days 07:41:00</td>\n",
       "      <td>1</td>\n",
       "    </tr>\n",
       "    <tr>\n",
       "      <td>10559</td>\n",
       "      <td>15 days 13:28:00</td>\n",
       "      <td>1</td>\n",
       "    </tr>\n",
       "    <tr>\n",
       "      <td>10560</td>\n",
       "      <td>164 days 02:06:00</td>\n",
       "      <td>1</td>\n",
       "    </tr>\n",
       "  </tbody>\n",
       "</table>\n",
       "<p>10561 rows × 2 columns</p>\n",
       "</div>"
      ],
      "text/plain": [
       "                   Time  Orders\n",
       "0       0 days 00:01:00    2656\n",
       "1       0 days 00:00:00    2455\n",
       "2       0 days 00:02:00    2098\n",
       "3       0 days 00:03:00    1685\n",
       "4       0 days 00:04:00    1460\n",
       "...                 ...     ...\n",
       "10556  62 days 19:37:00       1\n",
       "10557   8 days 20:13:00       1\n",
       "10558   1 days 07:41:00       1\n",
       "10559  15 days 13:28:00       1\n",
       "10560 164 days 02:06:00       1\n",
       "\n",
       "[10561 rows x 2 columns]"
      ]
     },
     "execution_count": 78,
     "metadata": {},
     "output_type": "execute_result"
    }
   ],
   "source": [
    "users_amount"
   ]
  },
  {
   "cell_type": "code",
   "execution_count": 79,
   "metadata": {},
   "outputs": [
    {
     "data": {
      "text/html": [
       "<div>\n",
       "<style scoped>\n",
       "    .dataframe tbody tr th:only-of-type {\n",
       "        vertical-align: middle;\n",
       "    }\n",
       "\n",
       "    .dataframe tbody tr th {\n",
       "        vertical-align: top;\n",
       "    }\n",
       "\n",
       "    .dataframe thead th {\n",
       "        text-align: right;\n",
       "    }\n",
       "</style>\n",
       "<table border=\"1\" class=\"dataframe\">\n",
       "  <thead>\n",
       "    <tr style=\"text-align: right;\">\n",
       "      <th></th>\n",
       "      <th>Day</th>\n",
       "      <th>Orders</th>\n",
       "    </tr>\n",
       "  </thead>\n",
       "  <tbody>\n",
       "    <tr>\n",
       "      <td>0</td>\n",
       "      <td>0</td>\n",
       "      <td>25217</td>\n",
       "    </tr>\n",
       "    <tr>\n",
       "      <td>1</td>\n",
       "      <td>1</td>\n",
       "      <td>1779</td>\n",
       "    </tr>\n",
       "    <tr>\n",
       "      <td>2</td>\n",
       "      <td>2</td>\n",
       "      <td>671</td>\n",
       "    </tr>\n",
       "    <tr>\n",
       "      <td>3</td>\n",
       "      <td>3</td>\n",
       "      <td>504</td>\n",
       "    </tr>\n",
       "    <tr>\n",
       "      <td>4</td>\n",
       "      <td>4</td>\n",
       "      <td>351</td>\n",
       "    </tr>\n",
       "    <tr>\n",
       "      <td>...</td>\n",
       "      <td>...</td>\n",
       "      <td>...</td>\n",
       "    </tr>\n",
       "    <tr>\n",
       "      <td>343</td>\n",
       "      <td>353</td>\n",
       "      <td>1</td>\n",
       "    </tr>\n",
       "    <tr>\n",
       "      <td>344</td>\n",
       "      <td>345</td>\n",
       "      <td>1</td>\n",
       "    </tr>\n",
       "    <tr>\n",
       "      <td>345</td>\n",
       "      <td>313</td>\n",
       "      <td>1</td>\n",
       "    </tr>\n",
       "    <tr>\n",
       "      <td>346</td>\n",
       "      <td>262</td>\n",
       "      <td>1</td>\n",
       "    </tr>\n",
       "    <tr>\n",
       "      <td>347</td>\n",
       "      <td>312</td>\n",
       "      <td>1</td>\n",
       "    </tr>\n",
       "  </tbody>\n",
       "</table>\n",
       "<p>348 rows × 2 columns</p>\n",
       "</div>"
      ],
      "text/plain": [
       "     Day  Orders\n",
       "0      0   25217\n",
       "1      1    1779\n",
       "2      2     671\n",
       "3      3     504\n",
       "4      4     351\n",
       "..   ...     ...\n",
       "343  353       1\n",
       "344  345       1\n",
       "345  313       1\n",
       "346  262       1\n",
       "347  312       1\n",
       "\n",
       "[348 rows x 2 columns]"
      ]
     },
     "execution_count": 79,
     "metadata": {},
     "output_type": "execute_result"
    }
   ],
   "source": [
    "conversion_by_day"
   ]
  },
  {
   "cell_type": "markdown",
   "metadata": {},
   "source": [
    "- After making these calculations I found that 25217 visitors started buying on the first day they visited\n",
    "- 1779 visitors made an order on the next day and from there we see less visitors buying \n",
    "- I also calculated the days and the minutes and we can see that most of the people bought right away"
   ]
  },
  {
   "cell_type": "markdown",
   "metadata": {},
   "source": [
    "#### 2. How many orders do they make during a given period of time? "
   ]
  },
  {
   "cell_type": "code",
   "execution_count": 80,
   "metadata": {},
   "outputs": [
    {
     "name": "stdout",
     "output_type": "stream",
     "text": [
      "                   buy ts  revenue                   uid  order_year  \\\n",
      "13176 2017-10-17 10:16:00     7.94  18446167067214817906        2017   \n",
      "35572 2018-02-18 19:34:00     9.78  18446156210226471712        2018   \n",
      "42213 2018-03-26 22:54:00     4.22  18445601152732270159        2018   \n",
      "9023  2017-09-25 15:56:00     0.12  18445407535914413204        2017   \n",
      "8919  2017-09-24 23:48:00     0.24  18445407535914413204        2017   \n",
      "...                   ...      ...                   ...         ...   \n",
      "31462 2018-01-28 15:54:00     2.44      2464366381792757        2018   \n",
      "12235 2017-10-11 18:33:00    73.33      2429014661409475        2017   \n",
      "213   2017-06-03 10:13:00     1.22      1575281904278712        2017   \n",
      "252   2017-06-03 17:39:00     1.83      1575281904278712        2017   \n",
      "27944 2018-01-03 21:51:00     0.55       313578113262317        2018   \n",
      "\n",
      "      order_month  order_week  order_date  \n",
      "13176  2017-10-01          42  2017-10-17  \n",
      "35572  2018-02-01           7  2018-02-18  \n",
      "42213  2018-03-01          13  2018-03-26  \n",
      "9023   2017-09-01          39  2017-09-25  \n",
      "8919   2017-09-01          38  2017-09-24  \n",
      "...           ...         ...         ...  \n",
      "31462  2018-01-01           4  2018-01-28  \n",
      "12235  2017-10-01          41  2017-10-11  \n",
      "213    2017-06-01          22  2017-06-03  \n",
      "252    2017-06-01          22  2017-06-03  \n",
      "27944  2018-01-01           1  2018-01-03  \n",
      "\n",
      "[50415 rows x 7 columns]\n"
     ]
    },
    {
     "data": {
      "image/png": "[encoded data removed]",
      "text/plain": [
       "<Figure size 432x288 with 1 Axes>"
      ]
     },
     "metadata": {
      "needs_background": "light"
     },
     "output_type": "display_data"
    }
   ],
   "source": [
    "users_count = orders.groupby('order_date').agg({'uid': 'nunique'}).plot()\n",
    "# print(users_count.sort_values(by = 'uid', ascending=False))\n",
    "print(orders.sort_values(by = 'uid', ascending=False))"
   ]
  },
  {
   "cell_type": "markdown",
   "metadata": {},
   "source": [
    "- Most users bought on November 24, 2017. Right in the middle of the our year of data at 701 users\n",
    "- The second highest buying time was the last date of our data on May 31, 2018 with 570 users buying and the lone user on June 1, 2018 who actually signed on May 31, 2017 but bought after midnight."
   ]
  },
  {
   "cell_type": "code",
   "execution_count": 81,
   "metadata": {},
   "outputs": [
    {
     "name": "stdout",
     "output_type": "stream",
     "text": [
      "                   buy ts  revenue                   uid  order_year  \\\n",
      "13176 2017-10-17 10:16:00     7.94  18446167067214817906        2017   \n",
      "35572 2018-02-18 19:34:00     9.78  18446156210226471712        2018   \n",
      "42213 2018-03-26 22:54:00     4.22  18445601152732270159        2018   \n",
      "9023  2017-09-25 15:56:00     0.12  18445407535914413204        2017   \n",
      "8919  2017-09-24 23:48:00     0.24  18445407535914413204        2017   \n",
      "...                   ...      ...                   ...         ...   \n",
      "31462 2018-01-28 15:54:00     2.44      2464366381792757        2018   \n",
      "12235 2017-10-11 18:33:00    73.33      2429014661409475        2017   \n",
      "213   2017-06-03 10:13:00     1.22      1575281904278712        2017   \n",
      "252   2017-06-03 17:39:00     1.83      1575281904278712        2017   \n",
      "27944 2018-01-03 21:51:00     0.55       313578113262317        2018   \n",
      "\n",
      "      order_month  order_week  order_date  \n",
      "13176  2017-10-01          42  2017-10-17  \n",
      "35572  2018-02-01           7  2018-02-18  \n",
      "42213  2018-03-01          13  2018-03-26  \n",
      "9023   2017-09-01          39  2017-09-25  \n",
      "8919   2017-09-01          38  2017-09-24  \n",
      "...           ...         ...         ...  \n",
      "31462  2018-01-01           4  2018-01-28  \n",
      "12235  2017-10-01          41  2017-10-11  \n",
      "213    2017-06-01          22  2017-06-03  \n",
      "252    2017-06-01          22  2017-06-03  \n",
      "27944  2018-01-01           1  2018-01-03  \n",
      "\n",
      "[50415 rows x 7 columns]\n"
     ]
    },
    {
     "data": {
      "image/png": "[encoded data removed]",
      "text/plain": [
       "<Figure size 432x288 with 1 Axes>"
      ]
     },
     "metadata": {
      "needs_background": "light"
     },
     "output_type": "display_data"
    }
   ],
   "source": [
    "users_count = orders.groupby('order_week').agg({'uid': 'nunique'}).plot()\n",
    "print(orders.sort_values(by = 'uid', ascending=False))"
   ]
  },
  {
   "cell_type": "markdown",
   "metadata": {},
   "source": [
    "- The strongest buying week was Week 47 with 1586 users buying.\n",
    "- The top five weeks are weeks 47, 40, 52, 22, and 49.\n",
    "- The later weeks had more buys overall"
   ]
  },
  {
   "cell_type": "code",
   "execution_count": 82,
   "metadata": {},
   "outputs": [
    {
     "name": "stdout",
     "output_type": "stream",
     "text": [
      "                   buy ts  revenue                   uid  order_year  \\\n",
      "13176 2017-10-17 10:16:00     7.94  18446167067214817906        2017   \n",
      "35572 2018-02-18 19:34:00     9.78  18446156210226471712        2018   \n",
      "42213 2018-03-26 22:54:00     4.22  18445601152732270159        2018   \n",
      "9023  2017-09-25 15:56:00     0.12  18445407535914413204        2017   \n",
      "8919  2017-09-24 23:48:00     0.24  18445407535914413204        2017   \n",
      "...                   ...      ...                   ...         ...   \n",
      "31462 2018-01-28 15:54:00     2.44      2464366381792757        2018   \n",
      "12235 2017-10-11 18:33:00    73.33      2429014661409475        2017   \n",
      "213   2017-06-03 10:13:00     1.22      1575281904278712        2017   \n",
      "252   2017-06-03 17:39:00     1.83      1575281904278712        2017   \n",
      "27944 2018-01-03 21:51:00     0.55       313578113262317        2018   \n",
      "\n",
      "      order_month  order_week  order_date  \n",
      "13176  2017-10-01          42  2017-10-17  \n",
      "35572  2018-02-01           7  2018-02-18  \n",
      "42213  2018-03-01          13  2018-03-26  \n",
      "9023   2017-09-01          39  2017-09-25  \n",
      "8919   2017-09-01          38  2017-09-24  \n",
      "...           ...         ...         ...  \n",
      "31462  2018-01-01           4  2018-01-28  \n",
      "12235  2017-10-01          41  2017-10-11  \n",
      "213    2017-06-01          22  2017-06-03  \n",
      "252    2017-06-01          22  2017-06-03  \n",
      "27944  2018-01-01           1  2018-01-03  \n",
      "\n",
      "[50415 rows x 7 columns]\n"
     ]
    },
    {
     "data": {
      "image/png": "[encoded data removed]",
      "text/plain": [
       "<Figure size 432x288 with 1 Axes>"
      ]
     },
     "metadata": {
      "needs_background": "light"
     },
     "output_type": "display_data"
    }
   ],
   "source": [
    "users_count = orders.groupby('order_month').agg({'uid': 'nunique'}).plot()\n",
    "print(orders.sort_values(by = 'uid', ascending=False))"
   ]
  },
  {
   "cell_type": "markdown",
   "metadata": {},
   "source": [
    "- The months of December, October, and November are big buy months.\n",
    "- Holiday season maybe.\n",
    "- We can see the months of June, July, and August at the bottom of the buy list here. Most probably because users were still learning about the product and not ready to buy until later."
   ]
  },
  {
   "cell_type": "markdown",
   "metadata": {},
   "source": [
    "### Creating Cohorts"
   ]
  },
  {
   "cell_type": "code",
   "execution_count": 83,
   "metadata": {},
   "outputs": [],
   "source": [
    "first_order_date_by_customers = orders.groupby('uid')['order_date'].min() "
   ]
  },
  {
   "cell_type": "code",
   "execution_count": 84,
   "metadata": {},
   "outputs": [],
   "source": [
    "first_order_date_by_customers.name = 'first_order_date'"
   ]
  },
  {
   "cell_type": "code",
   "execution_count": 85,
   "metadata": {},
   "outputs": [],
   "source": [
    "orders = orders.join(first_order_date_by_customers,on='uid')"
   ]
  },
  {
   "cell_type": "code",
   "execution_count": 86,
   "metadata": {},
   "outputs": [],
   "source": [
    "orders['first_order_month'] = orders['first_order_date'].astype('datetime64[M]')\n",
    "orders['order_month'] = orders['order_date'].astype('datetime64[M]')"
   ]
  },
  {
   "cell_type": "code",
   "execution_count": 87,
   "metadata": {},
   "outputs": [
    {
     "name": "stdout",
     "output_type": "stream",
     "text": [
      "   first_order_month   uid   revenue\n",
      "0         2017-06-01  2023  24031.69\n",
      "1         2017-07-01  1923  16127.92\n",
      "2         2017-08-01  1370  11606.26\n",
      "3         2017-09-01  2581  34676.32\n",
      "4         2017-10-01  4340  27603.45\n",
      "5         2017-11-01  4081  26098.99\n",
      "6         2017-12-01  4383  33485.74\n",
      "7         2018-01-01  3373  16663.13\n",
      "8         2018-02-01  3651  16750.50\n",
      "9         2018-03-01  3533  19273.41\n",
      "10        2018-04-01  2276  11810.61\n",
      "11        2018-05-01  2988  13925.76\n",
      "12        2018-06-01     1      3.42\n"
     ]
    }
   ],
   "source": [
    "cohort_grouped = orders.groupby('first_order_month').agg({'uid':'nunique','revenue':'sum'}).reset_index()\n",
    "print(cohort_grouped)"
   ]
  },
  {
   "cell_type": "code",
   "execution_count": 88,
   "metadata": {},
   "outputs": [
    {
     "name": "stdout",
     "output_type": "stream",
     "text": [
      "  first_order_month order_month  revenue   uid\n",
      "0        2017-06-01  2017-06-01  9557.49  2023\n",
      "1        2017-06-01  2017-07-01   981.82    61\n",
      "2        2017-06-01  2017-08-01   885.34    50\n",
      "3        2017-06-01  2017-09-01  1931.30    54\n",
      "4        2017-06-01  2017-10-01  2068.58    88\n"
     ]
    }
   ],
   "source": [
    "orders_grouped_by_cohorts = orders.groupby(['first_order_month','order_month']).agg({'revenue':'sum','uid':'nunique'}).reset_index()\n",
    "print(orders_grouped_by_cohorts.head())"
   ]
  },
  {
   "cell_type": "code",
   "execution_count": 89,
   "metadata": {},
   "outputs": [],
   "source": [
    "orders_grouped_by_cohorts['cohort_lifetime'] = orders_grouped_by_cohorts['order_month'] - orders_grouped_by_cohorts['first_order_month']"
   ]
  },
  {
   "cell_type": "code",
   "execution_count": 90,
   "metadata": {},
   "outputs": [
    {
     "name": "stdout",
     "output_type": "stream",
     "text": [
      "0    0.000000\n",
      "1    0.985647\n",
      "2    2.004148\n",
      "3    3.022649\n",
      "4    4.008296\n",
      "Name: cohort_lifetime, dtype: float64\n"
     ]
    }
   ],
   "source": [
    "orders_grouped_by_cohorts['cohort_lifetime'] = orders_grouped_by_cohorts['cohort_lifetime'] / np.timedelta64(1,'M')\n",
    "print(orders_grouped_by_cohorts['cohort_lifetime'].head())"
   ]
  },
  {
   "cell_type": "code",
   "execution_count": 91,
   "metadata": {},
   "outputs": [
    {
     "name": "stdout",
     "output_type": "stream",
     "text": [
      "  first_order_month order_month  cohort_lifetime\n",
      "0        2017-06-01  2017-06-01                0\n",
      "1        2017-06-01  2017-07-01                1\n",
      "2        2017-06-01  2017-08-01                2\n",
      "3        2017-06-01  2017-09-01                3\n",
      "4        2017-06-01  2017-10-01                4\n",
      "   first_order_month order_month  cohort_lifetime\n",
      "74        2018-03-01  2018-05-01                2\n",
      "75        2018-04-01  2018-04-01                0\n",
      "76        2018-04-01  2018-05-01                1\n",
      "77        2018-05-01  2018-05-01                0\n",
      "78        2018-06-01  2018-06-01                0\n"
     ]
    }
   ],
   "source": [
    "orders_grouped_by_cohorts['cohort_lifetime'] = orders_grouped_by_cohorts['cohort_lifetime'].round().astype('int')\n",
    "print(orders_grouped_by_cohorts[['first_order_month','order_month','cohort_lifetime']].head())\n",
    "print(orders_grouped_by_cohorts[['first_order_month','order_month','cohort_lifetime']].tail())"
   ]
  },
  {
   "cell_type": "code",
   "execution_count": 92,
   "metadata": {},
   "outputs": [
    {
     "data": {
      "text/html": [
       "<div>\n",
       "<style scoped>\n",
       "    .dataframe tbody tr th:only-of-type {\n",
       "        vertical-align: middle;\n",
       "    }\n",
       "\n",
       "    .dataframe tbody tr th {\n",
       "        vertical-align: top;\n",
       "    }\n",
       "\n",
       "    .dataframe thead th {\n",
       "        text-align: right;\n",
       "    }\n",
       "</style>\n",
       "<table border=\"1\" class=\"dataframe\">\n",
       "  <thead>\n",
       "    <tr style=\"text-align: right;\">\n",
       "      <th></th>\n",
       "      <th>first_order_month</th>\n",
       "      <th>order_month</th>\n",
       "      <th>revenue</th>\n",
       "      <th>uid</th>\n",
       "      <th>cohort_lifetime</th>\n",
       "    </tr>\n",
       "  </thead>\n",
       "  <tbody>\n",
       "    <tr>\n",
       "      <td>0</td>\n",
       "      <td>2017-06</td>\n",
       "      <td>2017-06-01</td>\n",
       "      <td>9557.49</td>\n",
       "      <td>2023</td>\n",
       "      <td>0</td>\n",
       "    </tr>\n",
       "    <tr>\n",
       "      <td>1</td>\n",
       "      <td>2017-06</td>\n",
       "      <td>2017-07-01</td>\n",
       "      <td>981.82</td>\n",
       "      <td>61</td>\n",
       "      <td>1</td>\n",
       "    </tr>\n",
       "    <tr>\n",
       "      <td>2</td>\n",
       "      <td>2017-06</td>\n",
       "      <td>2017-08-01</td>\n",
       "      <td>885.34</td>\n",
       "      <td>50</td>\n",
       "      <td>2</td>\n",
       "    </tr>\n",
       "    <tr>\n",
       "      <td>3</td>\n",
       "      <td>2017-06</td>\n",
       "      <td>2017-09-01</td>\n",
       "      <td>1931.30</td>\n",
       "      <td>54</td>\n",
       "      <td>3</td>\n",
       "    </tr>\n",
       "    <tr>\n",
       "      <td>4</td>\n",
       "      <td>2017-06</td>\n",
       "      <td>2017-10-01</td>\n",
       "      <td>2068.58</td>\n",
       "      <td>88</td>\n",
       "      <td>4</td>\n",
       "    </tr>\n",
       "  </tbody>\n",
       "</table>\n",
       "</div>"
      ],
      "text/plain": [
       "  first_order_month order_month  revenue   uid  cohort_lifetime\n",
       "0           2017-06  2017-06-01  9557.49  2023                0\n",
       "1           2017-06  2017-07-01   981.82    61                1\n",
       "2           2017-06  2017-08-01   885.34    50                2\n",
       "3           2017-06  2017-09-01  1931.30    54                3\n",
       "4           2017-06  2017-10-01  2068.58    88                4"
      ]
     },
     "execution_count": 92,
     "metadata": {},
     "output_type": "execute_result"
    }
   ],
   "source": [
    "orders_grouped_by_cohorts['first_order_month'].dt.strftime('%d.%m.%Y')\n",
    "orders_grouped_by_cohorts['first_order_month'] = orders_grouped_by_cohorts['first_order_month'].dt.strftime('%Y-%m')\n",
    "orders_grouped_by_cohorts.head()"
   ]
  },
  {
   "cell_type": "markdown",
   "metadata": {},
   "source": [
    "#### 3. What is the average purchase size?"
   ]
  },
  {
   "cell_type": "code",
   "execution_count": 93,
   "metadata": {},
   "outputs": [],
   "source": [
    "orders_grouped_by_cohorts['revenue_per_user'] = orders_grouped_by_cohorts['revenue'] / orders_grouped_by_cohorts['uid']"
   ]
  },
  {
   "cell_type": "code",
   "execution_count": 94,
   "metadata": {},
   "outputs": [
    {
     "data": {
      "text/html": [
       "<div>\n",
       "<style scoped>\n",
       "    .dataframe tbody tr th:only-of-type {\n",
       "        vertical-align: middle;\n",
       "    }\n",
       "\n",
       "    .dataframe tbody tr th {\n",
       "        vertical-align: top;\n",
       "    }\n",
       "\n",
       "    .dataframe thead th {\n",
       "        text-align: right;\n",
       "    }\n",
       "</style>\n",
       "<table border=\"1\" class=\"dataframe\">\n",
       "  <thead>\n",
       "    <tr style=\"text-align: right;\">\n",
       "      <th>cohort_lifetime</th>\n",
       "      <th>0</th>\n",
       "      <th>1</th>\n",
       "      <th>2</th>\n",
       "      <th>3</th>\n",
       "      <th>4</th>\n",
       "      <th>5</th>\n",
       "      <th>6</th>\n",
       "      <th>7</th>\n",
       "      <th>8</th>\n",
       "      <th>9</th>\n",
       "      <th>10</th>\n",
       "      <th>11</th>\n",
       "    </tr>\n",
       "    <tr>\n",
       "      <th>first_order_month</th>\n",
       "      <th></th>\n",
       "      <th></th>\n",
       "      <th></th>\n",
       "      <th></th>\n",
       "      <th></th>\n",
       "      <th></th>\n",
       "      <th></th>\n",
       "      <th></th>\n",
       "      <th></th>\n",
       "      <th></th>\n",
       "      <th></th>\n",
       "      <th></th>\n",
       "    </tr>\n",
       "  </thead>\n",
       "  <tbody>\n",
       "    <tr>\n",
       "      <td>2017-06</td>\n",
       "      <td>4.724414</td>\n",
       "      <td>16.095410</td>\n",
       "      <td>17.706800</td>\n",
       "      <td>35.764815</td>\n",
       "      <td>23.506591</td>\n",
       "      <td>22.207761</td>\n",
       "      <td>31.011935</td>\n",
       "      <td>25.033191</td>\n",
       "      <td>19.295690</td>\n",
       "      <td>27.233556</td>\n",
       "      <td>25.681333</td>\n",
       "      <td>9.804151</td>\n",
       "    </tr>\n",
       "    <tr>\n",
       "      <td>2017-07</td>\n",
       "      <td>6.010218</td>\n",
       "      <td>12.396346</td>\n",
       "      <td>21.035965</td>\n",
       "      <td>10.786094</td>\n",
       "      <td>6.938163</td>\n",
       "      <td>7.896842</td>\n",
       "      <td>6.421111</td>\n",
       "      <td>6.992821</td>\n",
       "      <td>7.382143</td>\n",
       "      <td>12.861818</td>\n",
       "      <td>11.513846</td>\n",
       "      <td>NaN</td>\n",
       "    </tr>\n",
       "    <tr>\n",
       "      <td>2017-08</td>\n",
       "      <td>5.276518</td>\n",
       "      <td>11.148793</td>\n",
       "      <td>11.851321</td>\n",
       "      <td>12.182955</td>\n",
       "      <td>16.921250</td>\n",
       "      <td>12.139063</td>\n",
       "      <td>9.620333</td>\n",
       "      <td>12.610455</td>\n",
       "      <td>21.070000</td>\n",
       "      <td>8.307419</td>\n",
       "      <td>NaN</td>\n",
       "      <td>NaN</td>\n",
       "    </tr>\n",
       "    <tr>\n",
       "      <td>2017-09</td>\n",
       "      <td>5.644529</td>\n",
       "      <td>22.188385</td>\n",
       "      <td>13.445200</td>\n",
       "      <td>138.669189</td>\n",
       "      <td>19.881538</td>\n",
       "      <td>26.095000</td>\n",
       "      <td>27.437121</td>\n",
       "      <td>16.961351</td>\n",
       "      <td>11.044651</td>\n",
       "      <td>NaN</td>\n",
       "      <td>NaN</td>\n",
       "      <td>NaN</td>\n",
       "    </tr>\n",
       "    <tr>\n",
       "      <td>2017-10</td>\n",
       "      <td>5.003733</td>\n",
       "      <td>11.287427</td>\n",
       "      <td>6.753252</td>\n",
       "      <td>7.413152</td>\n",
       "      <td>7.072796</td>\n",
       "      <td>7.255139</td>\n",
       "      <td>6.573214</td>\n",
       "      <td>7.479701</td>\n",
       "      <td>NaN</td>\n",
       "      <td>NaN</td>\n",
       "      <td>NaN</td>\n",
       "      <td>NaN</td>\n",
       "    </tr>\n",
       "    <tr>\n",
       "      <td>2017-11</td>\n",
       "      <td>5.154683</td>\n",
       "      <td>7.339054</td>\n",
       "      <td>6.786583</td>\n",
       "      <td>12.510660</td>\n",
       "      <td>7.457284</td>\n",
       "      <td>4.580833</td>\n",
       "      <td>7.564839</td>\n",
       "      <td>NaN</td>\n",
       "      <td>NaN</td>\n",
       "      <td>NaN</td>\n",
       "      <td>NaN</td>\n",
       "      <td>NaN</td>\n",
       "    </tr>\n",
       "    <tr>\n",
       "      <td>2017-12</td>\n",
       "      <td>4.738191</td>\n",
       "      <td>7.816575</td>\n",
       "      <td>39.366019</td>\n",
       "      <td>48.135052</td>\n",
       "      <td>27.431400</td>\n",
       "      <td>23.518413</td>\n",
       "      <td>NaN</td>\n",
       "      <td>NaN</td>\n",
       "      <td>NaN</td>\n",
       "      <td>NaN</td>\n",
       "      <td>NaN</td>\n",
       "      <td>NaN</td>\n",
       "    </tr>\n",
       "    <tr>\n",
       "      <td>2018-01</td>\n",
       "      <td>4.135636</td>\n",
       "      <td>8.721228</td>\n",
       "      <td>12.365542</td>\n",
       "      <td>11.199767</td>\n",
       "      <td>4.699556</td>\n",
       "      <td>NaN</td>\n",
       "      <td>NaN</td>\n",
       "      <td>NaN</td>\n",
       "      <td>NaN</td>\n",
       "      <td>NaN</td>\n",
       "      <td>NaN</td>\n",
       "      <td>NaN</td>\n",
       "    </tr>\n",
       "    <tr>\n",
       "      <td>2018-02</td>\n",
       "      <td>4.156987</td>\n",
       "      <td>8.610000</td>\n",
       "      <td>4.942414</td>\n",
       "      <td>6.941026</td>\n",
       "      <td>NaN</td>\n",
       "      <td>NaN</td>\n",
       "      <td>NaN</td>\n",
       "      <td>NaN</td>\n",
       "      <td>NaN</td>\n",
       "      <td>NaN</td>\n",
       "      <td>NaN</td>\n",
       "      <td>NaN</td>\n",
       "    </tr>\n",
       "    <tr>\n",
       "      <td>2018-03</td>\n",
       "      <td>4.838803</td>\n",
       "      <td>11.811667</td>\n",
       "      <td>19.221897</td>\n",
       "      <td>NaN</td>\n",
       "      <td>NaN</td>\n",
       "      <td>NaN</td>\n",
       "      <td>NaN</td>\n",
       "      <td>NaN</td>\n",
       "      <td>NaN</td>\n",
       "      <td>NaN</td>\n",
       "      <td>NaN</td>\n",
       "      <td>NaN</td>\n",
       "    </tr>\n",
       "    <tr>\n",
       "      <td>2018-04</td>\n",
       "      <td>4.657597</td>\n",
       "      <td>17.535072</td>\n",
       "      <td>NaN</td>\n",
       "      <td>NaN</td>\n",
       "      <td>NaN</td>\n",
       "      <td>NaN</td>\n",
       "      <td>NaN</td>\n",
       "      <td>NaN</td>\n",
       "      <td>NaN</td>\n",
       "      <td>NaN</td>\n",
       "      <td>NaN</td>\n",
       "      <td>NaN</td>\n",
       "    </tr>\n",
       "    <tr>\n",
       "      <td>2018-05</td>\n",
       "      <td>4.660562</td>\n",
       "      <td>NaN</td>\n",
       "      <td>NaN</td>\n",
       "      <td>NaN</td>\n",
       "      <td>NaN</td>\n",
       "      <td>NaN</td>\n",
       "      <td>NaN</td>\n",
       "      <td>NaN</td>\n",
       "      <td>NaN</td>\n",
       "      <td>NaN</td>\n",
       "      <td>NaN</td>\n",
       "      <td>NaN</td>\n",
       "    </tr>\n",
       "    <tr>\n",
       "      <td>2018-06</td>\n",
       "      <td>3.420000</td>\n",
       "      <td>NaN</td>\n",
       "      <td>NaN</td>\n",
       "      <td>NaN</td>\n",
       "      <td>NaN</td>\n",
       "      <td>NaN</td>\n",
       "      <td>NaN</td>\n",
       "      <td>NaN</td>\n",
       "      <td>NaN</td>\n",
       "      <td>NaN</td>\n",
       "      <td>NaN</td>\n",
       "      <td>NaN</td>\n",
       "    </tr>\n",
       "  </tbody>\n",
       "</table>\n",
       "</div>"
      ],
      "text/plain": [
       "cohort_lifetime          0          1          2           3          4   \\\n",
       "first_order_month                                                          \n",
       "2017-06            4.724414  16.095410  17.706800   35.764815  23.506591   \n",
       "2017-07            6.010218  12.396346  21.035965   10.786094   6.938163   \n",
       "2017-08            5.276518  11.148793  11.851321   12.182955  16.921250   \n",
       "2017-09            5.644529  22.188385  13.445200  138.669189  19.881538   \n",
       "2017-10            5.003733  11.287427   6.753252    7.413152   7.072796   \n",
       "2017-11            5.154683   7.339054   6.786583   12.510660   7.457284   \n",
       "2017-12            4.738191   7.816575  39.366019   48.135052  27.431400   \n",
       "2018-01            4.135636   8.721228  12.365542   11.199767   4.699556   \n",
       "2018-02            4.156987   8.610000   4.942414    6.941026        NaN   \n",
       "2018-03            4.838803  11.811667  19.221897         NaN        NaN   \n",
       "2018-04            4.657597  17.535072        NaN         NaN        NaN   \n",
       "2018-05            4.660562        NaN        NaN         NaN        NaN   \n",
       "2018-06            3.420000        NaN        NaN         NaN        NaN   \n",
       "\n",
       "cohort_lifetime           5          6          7          8          9   \\\n",
       "first_order_month                                                          \n",
       "2017-06            22.207761  31.011935  25.033191  19.295690  27.233556   \n",
       "2017-07             7.896842   6.421111   6.992821   7.382143  12.861818   \n",
       "2017-08            12.139063   9.620333  12.610455  21.070000   8.307419   \n",
       "2017-09            26.095000  27.437121  16.961351  11.044651        NaN   \n",
       "2017-10             7.255139   6.573214   7.479701        NaN        NaN   \n",
       "2017-11             4.580833   7.564839        NaN        NaN        NaN   \n",
       "2017-12            23.518413        NaN        NaN        NaN        NaN   \n",
       "2018-01                  NaN        NaN        NaN        NaN        NaN   \n",
       "2018-02                  NaN        NaN        NaN        NaN        NaN   \n",
       "2018-03                  NaN        NaN        NaN        NaN        NaN   \n",
       "2018-04                  NaN        NaN        NaN        NaN        NaN   \n",
       "2018-05                  NaN        NaN        NaN        NaN        NaN   \n",
       "2018-06                  NaN        NaN        NaN        NaN        NaN   \n",
       "\n",
       "cohort_lifetime           10        11  \n",
       "first_order_month                       \n",
       "2017-06            25.681333  9.804151  \n",
       "2017-07            11.513846       NaN  \n",
       "2017-08                  NaN       NaN  \n",
       "2017-09                  NaN       NaN  \n",
       "2017-10                  NaN       NaN  \n",
       "2017-11                  NaN       NaN  \n",
       "2017-12                  NaN       NaN  \n",
       "2018-01                  NaN       NaN  \n",
       "2018-02                  NaN       NaN  \n",
       "2018-03                  NaN       NaN  \n",
       "2018-04                  NaN       NaN  \n",
       "2018-05                  NaN       NaN  \n",
       "2018-06                  NaN       NaN  "
      ]
     },
     "execution_count": 94,
     "metadata": {},
     "output_type": "execute_result"
    }
   ],
   "source": [
    "revenue_per_user_pivot = orders_grouped_by_cohorts.pivot_table(index='first_order_month',columns ='cohort_lifetime',values='revenue_per_user',aggfunc='mean')\n",
    "revenue_per_user_pivot"
   ]
  },
  {
   "cell_type": "code",
   "execution_count": 95,
   "metadata": {},
   "outputs": [
    {
     "data": {
      "text/plain": [
       "<matplotlib.axes._subplots.AxesSubplot at 0x7f3306ffc990>"
      ]
     },
     "execution_count": 95,
     "metadata": {},
     "output_type": "execute_result"
    },
    {
     "data": {
      "image/png": "[encoded data removed]",
      "text/plain": [
       "<Figure size 936x648 with 2 Axes>"
      ]
     },
     "metadata": {
      "needs_background": "light"
     },
     "output_type": "display_data"
    }
   ],
   "source": [
    "import seaborn as sns\n",
    "from matplotlib import pyplot as plt\n",
    "plt.figure(figsize=(13, 9))\n",
    "plt.title('Average customer purchase size')\n",
    "sns.heatmap(revenue_per_user_pivot, annot=True, fmt='.1f', linewidths=1, linecolor='gray')\n"
   ]
  },
  {
   "cell_type": "markdown",
   "metadata": {},
   "source": [
    "- The June 2017 cohort started off slow from 4.7% then was in the 30s and 20s until the last month of May 31, 2018\n",
    "- The July 2017 cohort started slow as well and its highest average purchase size was in September 2017 at 21%. Then it lowered and started picking up again the last months of our data at April and May 1t 12% and 11%.\n",
    "- The August 2017 cohort hit 21% in April 2018 but remained below 20% for the rest.\n",
    "- The September 2017 cohort had a strong percentage of 138% in December 2017 but remained lower than that with a low of 5.6 when they first started.\n",
    "- The October 2017 cohort stayed around 7% except for its second month in November 2017 with 11%\n",
    "- The November 2017 cohort stayed below 8% except for February 2018 with 12.5%\n",
    "- The December 2017 cohort started slow with 4.7% but reached a high 48% in March 2018 but then dropped to less than 30%\n",
    "- The January 2018 cohort only reached 12% in March 2018.\n",
    "- The February 2018 cohort stayed below 10% its whole run.\n",
    "- The March 2018 cohort rose to 11% in April and then 19% in May\n",
    "- The April 2018 cohort came in at 4.7% but then had 17.5% in May\n",
    "- The May 2018 cohort came at 4.7 % and the June cohort (that really visited in May but ordered a few hours into June came at 3.4%\n",
    "\n",
    "- From all this data I can see that all the cohorts started slowly between 3-5 percent of average orders but some would eventually pick up with a stand out at 138.7% for the September cohort. Usually there is a steady drop in each cohort with some exceptions."
   ]
  },
  {
   "cell_type": "markdown",
   "metadata": {},
   "source": [
    "#### 4. How much money do they bring? (LTV)"
   ]
  },
  {
   "cell_type": "code",
   "execution_count": 96,
   "metadata": {},
   "outputs": [
    {
     "data": {
      "text/html": [
       "<div>\n",
       "<style scoped>\n",
       "    .dataframe tbody tr th:only-of-type {\n",
       "        vertical-align: middle;\n",
       "    }\n",
       "\n",
       "    .dataframe tbody tr th {\n",
       "        vertical-align: top;\n",
       "    }\n",
       "\n",
       "    .dataframe thead th {\n",
       "        text-align: right;\n",
       "    }\n",
       "</style>\n",
       "<table border=\"1\" class=\"dataframe\">\n",
       "  <thead>\n",
       "    <tr style=\"text-align: right;\">\n",
       "      <th></th>\n",
       "      <th>first_order_month</th>\n",
       "      <th>uid</th>\n",
       "    </tr>\n",
       "  </thead>\n",
       "  <tbody>\n",
       "    <tr>\n",
       "      <td>0</td>\n",
       "      <td>2017-06-01</td>\n",
       "      <td>2023</td>\n",
       "    </tr>\n",
       "    <tr>\n",
       "      <td>1</td>\n",
       "      <td>2017-07-01</td>\n",
       "      <td>1923</td>\n",
       "    </tr>\n",
       "    <tr>\n",
       "      <td>2</td>\n",
       "      <td>2017-08-01</td>\n",
       "      <td>1370</td>\n",
       "    </tr>\n",
       "    <tr>\n",
       "      <td>3</td>\n",
       "      <td>2017-09-01</td>\n",
       "      <td>2581</td>\n",
       "    </tr>\n",
       "    <tr>\n",
       "      <td>4</td>\n",
       "      <td>2017-10-01</td>\n",
       "      <td>4340</td>\n",
       "    </tr>\n",
       "    <tr>\n",
       "      <td>5</td>\n",
       "      <td>2017-11-01</td>\n",
       "      <td>4081</td>\n",
       "    </tr>\n",
       "    <tr>\n",
       "      <td>6</td>\n",
       "      <td>2017-12-01</td>\n",
       "      <td>4383</td>\n",
       "    </tr>\n",
       "    <tr>\n",
       "      <td>7</td>\n",
       "      <td>2018-01-01</td>\n",
       "      <td>3373</td>\n",
       "    </tr>\n",
       "    <tr>\n",
       "      <td>8</td>\n",
       "      <td>2018-02-01</td>\n",
       "      <td>3651</td>\n",
       "    </tr>\n",
       "    <tr>\n",
       "      <td>9</td>\n",
       "      <td>2018-03-01</td>\n",
       "      <td>3533</td>\n",
       "    </tr>\n",
       "    <tr>\n",
       "      <td>10</td>\n",
       "      <td>2018-04-01</td>\n",
       "      <td>2276</td>\n",
       "    </tr>\n",
       "    <tr>\n",
       "      <td>11</td>\n",
       "      <td>2018-05-01</td>\n",
       "      <td>2988</td>\n",
       "    </tr>\n",
       "    <tr>\n",
       "      <td>12</td>\n",
       "      <td>2018-06-01</td>\n",
       "      <td>1</td>\n",
       "    </tr>\n",
       "  </tbody>\n",
       "</table>\n",
       "</div>"
      ],
      "text/plain": [
       "   first_order_month   uid\n",
       "0         2017-06-01  2023\n",
       "1         2017-07-01  1923\n",
       "2         2017-08-01  1370\n",
       "3         2017-09-01  2581\n",
       "4         2017-10-01  4340\n",
       "5         2017-11-01  4081\n",
       "6         2017-12-01  4383\n",
       "7         2018-01-01  3373\n",
       "8         2018-02-01  3651\n",
       "9         2018-03-01  3533\n",
       "10        2018-04-01  2276\n",
       "11        2018-05-01  2988\n",
       "12        2018-06-01     1"
      ]
     },
     "execution_count": 96,
     "metadata": {},
     "output_type": "execute_result"
    }
   ],
   "source": [
    "cohort_sizes = orders.groupby('first_order_month').agg({'uid': 'nunique'}).reset_index()\n",
    "cohort_sizes.columns = ['first_order_month', 'uid']\n",
    "cohort_sizes"
   ]
  },
  {
   "cell_type": "markdown",
   "metadata": {},
   "source": [
    " - The cohorts are the largest in months of October, November, and December and then start dropping significantly.\n",
    " - We stiil have that lone 1 in June 1 which is the visitor that came in May 31 and ordered in June"
   ]
  },
  {
   "cell_type": "code",
   "execution_count": 97,
   "metadata": {},
   "outputs": [],
   "source": [
    "margin_rate = .5"
   ]
  },
  {
   "cell_type": "markdown",
   "metadata": {},
   "source": [
    "- Can't calculate the margin rate with the data we have but the range in e-commerce is 20% to 50% so I chose to go with 50%"
   ]
  },
  {
   "cell_type": "code",
   "execution_count": 98,
   "metadata": {},
   "outputs": [],
   "source": [
    "orders_ = pd.merge(orders,first_order_date_by_customers, on='uid')\n",
    "cohorts = orders_.groupby(['first_order_month','order_month']).agg({'revenue': 'sum'}).reset_index()\n",
    "report = pd.merge(cohort_sizes, cohorts, on='first_order_month')"
   ]
  },
  {
   "cell_type": "markdown",
   "metadata": {},
   "source": [
    "- I merged the orders with the cohorts to check their revenue per month to get the gross profit per month"
   ]
  },
  {
   "cell_type": "code",
   "execution_count": 99,
   "metadata": {},
   "outputs": [],
   "source": [
    "report['gp'] = report['revenue'] * margin_rate\n",
    "report['age'] = (report['order_month'] - report['first_order_month']) / np.timedelta64(1, 'M')\n",
    "report['age'] = report['age'].round().astype('int')"
   ]
  },
  {
   "cell_type": "markdown",
   "metadata": {},
   "source": [
    "- Here we found the gross profit using the margin_rate\n",
    "- Also created the different ages of the cohorts"
   ]
  },
  {
   "cell_type": "code",
   "execution_count": 100,
   "metadata": {},
   "outputs": [],
   "source": [
    "report['ltv'] = report['gp'] / report['uid']"
   ]
  },
  {
   "cell_type": "code",
   "execution_count": 101,
   "metadata": {},
   "outputs": [
    {
     "data": {
      "text/html": [
       "<div>\n",
       "<style scoped>\n",
       "    .dataframe tbody tr th:only-of-type {\n",
       "        vertical-align: middle;\n",
       "    }\n",
       "\n",
       "    .dataframe tbody tr th {\n",
       "        vertical-align: top;\n",
       "    }\n",
       "\n",
       "    .dataframe thead th {\n",
       "        text-align: right;\n",
       "    }\n",
       "</style>\n",
       "<table border=\"1\" class=\"dataframe\">\n",
       "  <thead>\n",
       "    <tr style=\"text-align: right;\">\n",
       "      <th></th>\n",
       "      <th>first_order_month</th>\n",
       "      <th>uid</th>\n",
       "      <th>order_month</th>\n",
       "      <th>revenue</th>\n",
       "      <th>gp</th>\n",
       "      <th>age</th>\n",
       "      <th>ltv</th>\n",
       "    </tr>\n",
       "  </thead>\n",
       "  <tbody>\n",
       "    <tr>\n",
       "      <td>0</td>\n",
       "      <td>2017-06-01</td>\n",
       "      <td>2023</td>\n",
       "      <td>2017-06-01</td>\n",
       "      <td>9557.49</td>\n",
       "      <td>4778.745</td>\n",
       "      <td>0</td>\n",
       "      <td>2.362207</td>\n",
       "    </tr>\n",
       "    <tr>\n",
       "      <td>1</td>\n",
       "      <td>2017-06-01</td>\n",
       "      <td>2023</td>\n",
       "      <td>2017-07-01</td>\n",
       "      <td>981.82</td>\n",
       "      <td>490.910</td>\n",
       "      <td>1</td>\n",
       "      <td>0.242664</td>\n",
       "    </tr>\n",
       "    <tr>\n",
       "      <td>2</td>\n",
       "      <td>2017-06-01</td>\n",
       "      <td>2023</td>\n",
       "      <td>2017-08-01</td>\n",
       "      <td>885.34</td>\n",
       "      <td>442.670</td>\n",
       "      <td>2</td>\n",
       "      <td>0.218819</td>\n",
       "    </tr>\n",
       "    <tr>\n",
       "      <td>3</td>\n",
       "      <td>2017-06-01</td>\n",
       "      <td>2023</td>\n",
       "      <td>2017-09-01</td>\n",
       "      <td>1931.30</td>\n",
       "      <td>965.650</td>\n",
       "      <td>3</td>\n",
       "      <td>0.477336</td>\n",
       "    </tr>\n",
       "    <tr>\n",
       "      <td>4</td>\n",
       "      <td>2017-06-01</td>\n",
       "      <td>2023</td>\n",
       "      <td>2017-10-01</td>\n",
       "      <td>2068.58</td>\n",
       "      <td>1034.290</td>\n",
       "      <td>4</td>\n",
       "      <td>0.511265</td>\n",
       "    </tr>\n",
       "    <tr>\n",
       "      <td>...</td>\n",
       "      <td>...</td>\n",
       "      <td>...</td>\n",
       "      <td>...</td>\n",
       "      <td>...</td>\n",
       "      <td>...</td>\n",
       "      <td>...</td>\n",
       "      <td>...</td>\n",
       "    </tr>\n",
       "    <tr>\n",
       "      <td>74</td>\n",
       "      <td>2018-03-01</td>\n",
       "      <td>3533</td>\n",
       "      <td>2018-05-01</td>\n",
       "      <td>1114.87</td>\n",
       "      <td>557.435</td>\n",
       "      <td>2</td>\n",
       "      <td>0.157780</td>\n",
       "    </tr>\n",
       "    <tr>\n",
       "      <td>75</td>\n",
       "      <td>2018-04-01</td>\n",
       "      <td>2276</td>\n",
       "      <td>2018-04-01</td>\n",
       "      <td>10600.69</td>\n",
       "      <td>5300.345</td>\n",
       "      <td>0</td>\n",
       "      <td>2.328798</td>\n",
       "    </tr>\n",
       "    <tr>\n",
       "      <td>76</td>\n",
       "      <td>2018-04-01</td>\n",
       "      <td>2276</td>\n",
       "      <td>2018-05-01</td>\n",
       "      <td>1209.92</td>\n",
       "      <td>604.960</td>\n",
       "      <td>1</td>\n",
       "      <td>0.265800</td>\n",
       "    </tr>\n",
       "    <tr>\n",
       "      <td>77</td>\n",
       "      <td>2018-05-01</td>\n",
       "      <td>2988</td>\n",
       "      <td>2018-05-01</td>\n",
       "      <td>13925.76</td>\n",
       "      <td>6962.880</td>\n",
       "      <td>0</td>\n",
       "      <td>2.330281</td>\n",
       "    </tr>\n",
       "    <tr>\n",
       "      <td>78</td>\n",
       "      <td>2018-06-01</td>\n",
       "      <td>1</td>\n",
       "      <td>2018-06-01</td>\n",
       "      <td>3.42</td>\n",
       "      <td>1.710</td>\n",
       "      <td>0</td>\n",
       "      <td>1.710000</td>\n",
       "    </tr>\n",
       "  </tbody>\n",
       "</table>\n",
       "<p>79 rows × 7 columns</p>\n",
       "</div>"
      ],
      "text/plain": [
       "   first_order_month   uid order_month   revenue        gp  age       ltv\n",
       "0         2017-06-01  2023  2017-06-01   9557.49  4778.745    0  2.362207\n",
       "1         2017-06-01  2023  2017-07-01    981.82   490.910    1  0.242664\n",
       "2         2017-06-01  2023  2017-08-01    885.34   442.670    2  0.218819\n",
       "3         2017-06-01  2023  2017-09-01   1931.30   965.650    3  0.477336\n",
       "4         2017-06-01  2023  2017-10-01   2068.58  1034.290    4  0.511265\n",
       "..               ...   ...         ...       ...       ...  ...       ...\n",
       "74        2018-03-01  3533  2018-05-01   1114.87   557.435    2  0.157780\n",
       "75        2018-04-01  2276  2018-04-01  10600.69  5300.345    0  2.328798\n",
       "76        2018-04-01  2276  2018-05-01   1209.92   604.960    1  0.265800\n",
       "77        2018-05-01  2988  2018-05-01  13925.76  6962.880    0  2.330281\n",
       "78        2018-06-01     1  2018-06-01      3.42     1.710    0  1.710000\n",
       "\n",
       "[79 rows x 7 columns]"
      ]
     },
     "execution_count": 101,
     "metadata": {},
     "output_type": "execute_result"
    }
   ],
   "source": [
    "report"
   ]
  },
  {
   "cell_type": "code",
   "execution_count": 102,
   "metadata": {},
   "outputs": [
    {
     "data": {
      "text/plain": [
       "age\n",
       "0     177184.47\n",
       "1      14536.42\n",
       "2      12184.64\n",
       "3      20848.71\n",
       "4       6964.10\n",
       "5       6070.44\n",
       "6       5090.48\n",
       "7       3132.85\n",
       "8       2304.45\n",
       "9       1766.00\n",
       "10      1455.02\n",
       "11       519.62\n",
       "Name: revenue, dtype: float64"
      ]
     },
     "execution_count": 102,
     "metadata": {},
     "output_type": "execute_result"
    }
   ],
   "source": [
    "report.groupby('age')['revenue'].sum()"
   ]
  },
  {
   "cell_type": "code",
   "execution_count": 103,
   "metadata": {},
   "outputs": [
    {
     "data": {
      "text/plain": [
       "<matplotlib.axes._subplots.AxesSubplot at 0x7f3307050f50>"
      ]
     },
     "execution_count": 103,
     "metadata": {},
     "output_type": "execute_result"
    },
    {
     "data": {
      "image/png": "[encoded data removed]",
      "text/plain": [
       "<Figure size 432x288 with 1 Axes>"
      ]
     },
     "metadata": {
      "needs_background": "light"
     },
     "output_type": "display_data"
    }
   ],
   "source": [
    "report.groupby('age')['revenue'].sum().plot()"
   ]
  },
  {
   "cell_type": "markdown",
   "metadata": {},
   "source": [
    "- Of course the first Cohort brought in the most revenue and the 1, 2, and 3 were up there too. \n",
    "- after that it started to drop significantly because it was closer to the end of our data but also started having less visitors."
   ]
  },
  {
   "cell_type": "code",
   "execution_count": 104,
   "metadata": {},
   "outputs": [
    {
     "data": {
      "text/plain": [
       "age\n",
       "0     31.210935\n",
       "1      2.505506\n",
       "2      2.027491\n",
       "3      3.722505\n",
       "4      1.384566\n",
       "5      1.167222\n",
       "6      1.091332\n",
       "7      0.743520\n",
       "8      0.595332\n",
       "9      0.470456\n",
       "10     0.363467\n",
       "11     0.128428\n",
       "Name: ltv, dtype: float64"
      ]
     },
     "execution_count": 104,
     "metadata": {},
     "output_type": "execute_result"
    }
   ],
   "source": [
    "report.groupby('age')['ltv'].sum()"
   ]
  },
  {
   "cell_type": "code",
   "execution_count": 105,
   "metadata": {},
   "outputs": [
    {
     "data": {
      "text/plain": [
       "<matplotlib.axes._subplots.AxesSubplot at 0x7f3306e3ead0>"
      ]
     },
     "execution_count": 105,
     "metadata": {},
     "output_type": "execute_result"
    },
    {
     "data": {
      "image/png": "[encoded data removed]",
      "text/plain": [
       "<Figure size 432x288 with 1 Axes>"
      ]
     },
     "metadata": {
      "needs_background": "light"
     },
     "output_type": "display_data"
    }
   ],
   "source": [
    "report.groupby('age')['ltv'].sum().plot()"
   ]
  },
  {
   "cell_type": "markdown",
   "metadata": {},
   "source": [
    "- We can see that the ltv for the first Cohort was very big at 31 and they did very well staying strong \n",
    "- 1, 2, 3 were strong but not as strong as the first group\n",
    "- 4, 5, 6 wer consistent at 1.0 to 1.4 and then again you can see the ltv dropping after that"
   ]
  },
  {
   "cell_type": "markdown",
   "metadata": {},
   "source": [
    "### Marketing "
   ]
  },
  {
   "cell_type": "markdown",
   "metadata": {},
   "source": [
    "#### 1. How much money was spent? Overall/per source/over time "
   ]
  },
  {
   "cell_type": "code",
   "execution_count": 106,
   "metadata": {},
   "outputs": [
    {
     "name": "stdout",
     "output_type": "stream",
     "text": [
      "Total money spent in marketing: 329131.62\n"
     ]
    }
   ],
   "source": [
    "total_costs =costs['costs'].sum()\n",
    "print('Total money spent in marketing:', total_costs)"
   ]
  },
  {
   "cell_type": "code",
   "execution_count": 107,
   "metadata": {},
   "outputs": [
    {
     "data": {
      "text/plain": [
       "source_id\n",
       "9       5517.49\n",
       "10      5822.49\n",
       "1      20833.27\n",
       "2      42806.04\n",
       "5      51757.10\n",
       "4      61073.60\n",
       "3     141321.63\n",
       "Name: costs, dtype: float64"
      ]
     },
     "execution_count": 107,
     "metadata": {},
     "output_type": "execute_result"
    }
   ],
   "source": [
    "cost_per_source= costs.groupby('source_id')['costs'].sum().sort_values()\n",
    "cost_per_source"
   ]
  },
  {
   "cell_type": "markdown",
   "metadata": {},
   "source": [
    "- We can see that source 3, 4, 5 had the most costs and if we look back at the visits data we see that most visits came from these sources.\n",
    "- Source 3 had the most money put into it with 141321.63\n",
    "- The next was 4 at 61073.60 and then 5 at 51757.10"
   ]
  },
  {
   "cell_type": "code",
   "execution_count": 108,
   "metadata": {},
   "outputs": [
    {
     "data": {
      "image/png": "[encoded data removed]",
      "text/plain": [
       "<Figure size 432x288 with 1 Axes>"
      ]
     },
     "metadata": {
      "needs_background": "light"
     },
     "output_type": "display_data"
    }
   ],
   "source": [
    "cost_per_source_graph = {\"source_id\":  [\"1\", \"2\", \"3\", \"4\",\"5\",\"9\",\"10\"],\n",
    "\n",
    "              \"cost\": [20833.27, 42806.04, 141321.63, 61073.60, 51757.10, 5517.49, 5822.49]\n",
    "                  };\n",
    "\n",
    "cost_per_source_graph = pd.DataFrame(data=cost_per_source_graph);\n",
    "\n",
    "cost_per_source_graph.plot.line(x=\"source_id\", title=\"Cost Per Source Over Time\");\n",
    "\n",
    "plot.show(block=True);                 "
   ]
  },
  {
   "cell_type": "markdown",
   "metadata": {},
   "source": [
    "- We can see that source 3 was the peak of the marketing money put in and then the money started dropping.\n",
    "- Where is source 6, 7, 8?"
   ]
  },
  {
   "cell_type": "markdown",
   "metadata": {},
   "source": [
    "#### 2. How much did customer acquisition from each of the sources cost? This is desktop and touch separately?"
   ]
  },
  {
   "cell_type": "code",
   "execution_count": 109,
   "metadata": {},
   "outputs": [
    {
     "data": {
      "text/html": [
       "<div>\n",
       "<style scoped>\n",
       "    .dataframe tbody tr th:only-of-type {\n",
       "        vertical-align: middle;\n",
       "    }\n",
       "\n",
       "    .dataframe tbody tr th {\n",
       "        vertical-align: top;\n",
       "    }\n",
       "\n",
       "    .dataframe thead th {\n",
       "        text-align: right;\n",
       "    }\n",
       "</style>\n",
       "<table border=\"1\" class=\"dataframe\">\n",
       "  <thead>\n",
       "    <tr style=\"text-align: right;\">\n",
       "      <th></th>\n",
       "      <th>source_id</th>\n",
       "      <th>costs</th>\n",
       "    </tr>\n",
       "  </thead>\n",
       "  <tbody>\n",
       "    <tr>\n",
       "      <td>0</td>\n",
       "      <td>1</td>\n",
       "      <td>20833.27</td>\n",
       "    </tr>\n",
       "    <tr>\n",
       "      <td>1</td>\n",
       "      <td>2</td>\n",
       "      <td>42806.04</td>\n",
       "    </tr>\n",
       "    <tr>\n",
       "      <td>2</td>\n",
       "      <td>3</td>\n",
       "      <td>141321.63</td>\n",
       "    </tr>\n",
       "    <tr>\n",
       "      <td>3</td>\n",
       "      <td>4</td>\n",
       "      <td>61073.60</td>\n",
       "    </tr>\n",
       "    <tr>\n",
       "      <td>4</td>\n",
       "      <td>5</td>\n",
       "      <td>51757.10</td>\n",
       "    </tr>\n",
       "    <tr>\n",
       "      <td>5</td>\n",
       "      <td>9</td>\n",
       "      <td>5517.49</td>\n",
       "    </tr>\n",
       "    <tr>\n",
       "      <td>6</td>\n",
       "      <td>10</td>\n",
       "      <td>5822.49</td>\n",
       "    </tr>\n",
       "  </tbody>\n",
       "</table>\n",
       "</div>"
      ],
      "text/plain": [
       "   source_id      costs\n",
       "0          1   20833.27\n",
       "1          2   42806.04\n",
       "2          3  141321.63\n",
       "3          4   61073.60\n",
       "4          5   51757.10\n",
       "5          9    5517.49\n",
       "6         10    5822.49"
      ]
     },
     "execution_count": 109,
     "metadata": {},
     "output_type": "execute_result"
    }
   ],
   "source": [
    "marketing_cost_per_source= costs.groupby(['source_id']).agg({'costs': 'sum'}).reset_index()\n",
    "marketing_cost_per_source"
   ]
  },
  {
   "cell_type": "markdown",
   "metadata": {},
   "source": [
    "- Looks like source 3 cost the most at 141321.63 which was a significantly larger sum than any of the other sources with source 4 coming in at second by costing 61073.60 and then source 5 at 51757.10.\n",
    "- As we saw earlier in the pie charts these 3 sources attracted the most visits."
   ]
  },
  {
   "cell_type": "code",
   "execution_count": 110,
   "metadata": {},
   "outputs": [
    {
     "data": {
      "text/html": [
       "<div>\n",
       "<style scoped>\n",
       "    .dataframe tbody tr th:only-of-type {\n",
       "        vertical-align: middle;\n",
       "    }\n",
       "\n",
       "    .dataframe tbody tr th {\n",
       "        vertical-align: top;\n",
       "    }\n",
       "\n",
       "    .dataframe thead th {\n",
       "        text-align: right;\n",
       "    }\n",
       "</style>\n",
       "<table border=\"1\" class=\"dataframe\">\n",
       "  <thead>\n",
       "    <tr style=\"text-align: right;\">\n",
       "      <th></th>\n",
       "      <th>cost_year</th>\n",
       "      <th>costs</th>\n",
       "    </tr>\n",
       "  </thead>\n",
       "  <tbody>\n",
       "    <tr>\n",
       "      <td>0</td>\n",
       "      <td>2017</td>\n",
       "      <td>187961.15</td>\n",
       "    </tr>\n",
       "    <tr>\n",
       "      <td>1</td>\n",
       "      <td>2018</td>\n",
       "      <td>141170.47</td>\n",
       "    </tr>\n",
       "  </tbody>\n",
       "</table>\n",
       "</div>"
      ],
      "text/plain": [
       "   cost_year      costs\n",
       "0       2017  187961.15\n",
       "1       2018  141170.47"
      ]
     },
     "execution_count": 110,
     "metadata": {},
     "output_type": "execute_result"
    }
   ],
   "source": [
    "yearly_costs=costs.groupby('cost_year')['costs'].sum().reset_index()\n",
    "yearly_costs"
   ]
  },
  {
   "cell_type": "code",
   "execution_count": 111,
   "metadata": {},
   "outputs": [
    {
     "data": {
      "text/html": [
       "<div>\n",
       "<style scoped>\n",
       "    .dataframe tbody tr th:only-of-type {\n",
       "        vertical-align: middle;\n",
       "    }\n",
       "\n",
       "    .dataframe tbody tr th {\n",
       "        vertical-align: top;\n",
       "    }\n",
       "\n",
       "    .dataframe thead th {\n",
       "        text-align: right;\n",
       "    }\n",
       "</style>\n",
       "<table border=\"1\" class=\"dataframe\">\n",
       "  <thead>\n",
       "    <tr style=\"text-align: right;\">\n",
       "      <th></th>\n",
       "      <th>cost_month</th>\n",
       "      <th>costs</th>\n",
       "    </tr>\n",
       "  </thead>\n",
       "  <tbody>\n",
       "    <tr>\n",
       "      <td>0</td>\n",
       "      <td>2017-06-01</td>\n",
       "      <td>18015.00</td>\n",
       "    </tr>\n",
       "    <tr>\n",
       "      <td>1</td>\n",
       "      <td>2017-07-01</td>\n",
       "      <td>18240.59</td>\n",
       "    </tr>\n",
       "    <tr>\n",
       "      <td>2</td>\n",
       "      <td>2017-08-01</td>\n",
       "      <td>14790.54</td>\n",
       "    </tr>\n",
       "    <tr>\n",
       "      <td>3</td>\n",
       "      <td>2017-09-01</td>\n",
       "      <td>24368.91</td>\n",
       "    </tr>\n",
       "    <tr>\n",
       "      <td>4</td>\n",
       "      <td>2017-10-01</td>\n",
       "      <td>36322.88</td>\n",
       "    </tr>\n",
       "    <tr>\n",
       "      <td>5</td>\n",
       "      <td>2017-11-01</td>\n",
       "      <td>37907.88</td>\n",
       "    </tr>\n",
       "    <tr>\n",
       "      <td>6</td>\n",
       "      <td>2017-12-01</td>\n",
       "      <td>38315.35</td>\n",
       "    </tr>\n",
       "    <tr>\n",
       "      <td>7</td>\n",
       "      <td>2018-01-01</td>\n",
       "      <td>33518.52</td>\n",
       "    </tr>\n",
       "    <tr>\n",
       "      <td>8</td>\n",
       "      <td>2018-02-01</td>\n",
       "      <td>32723.03</td>\n",
       "    </tr>\n",
       "    <tr>\n",
       "      <td>9</td>\n",
       "      <td>2018-03-01</td>\n",
       "      <td>30415.27</td>\n",
       "    </tr>\n",
       "    <tr>\n",
       "      <td>10</td>\n",
       "      <td>2018-04-01</td>\n",
       "      <td>22289.38</td>\n",
       "    </tr>\n",
       "    <tr>\n",
       "      <td>11</td>\n",
       "      <td>2018-05-01</td>\n",
       "      <td>22224.27</td>\n",
       "    </tr>\n",
       "  </tbody>\n",
       "</table>\n",
       "</div>"
      ],
      "text/plain": [
       "   cost_month     costs\n",
       "0  2017-06-01  18015.00\n",
       "1  2017-07-01  18240.59\n",
       "2  2017-08-01  14790.54\n",
       "3  2017-09-01  24368.91\n",
       "4  2017-10-01  36322.88\n",
       "5  2017-11-01  37907.88\n",
       "6  2017-12-01  38315.35\n",
       "7  2018-01-01  33518.52\n",
       "8  2018-02-01  32723.03\n",
       "9  2018-03-01  30415.27\n",
       "10 2018-04-01  22289.38\n",
       "11 2018-05-01  22224.27"
      ]
     },
     "execution_count": 111,
     "metadata": {},
     "output_type": "execute_result"
    }
   ],
   "source": [
    "monthly_costs=costs.groupby('cost_month')['costs'].sum().reset_index()\n",
    "monthly_costs"
   ]
  },
  {
   "cell_type": "code",
   "execution_count": 112,
   "metadata": {},
   "outputs": [
    {
     "data": {
      "text/html": [
       "<div>\n",
       "<style scoped>\n",
       "    .dataframe tbody tr th:only-of-type {\n",
       "        vertical-align: middle;\n",
       "    }\n",
       "\n",
       "    .dataframe tbody tr th {\n",
       "        vertical-align: top;\n",
       "    }\n",
       "\n",
       "    .dataframe thead th {\n",
       "        text-align: right;\n",
       "    }\n",
       "</style>\n",
       "<table border=\"1\" class=\"dataframe\">\n",
       "  <thead>\n",
       "    <tr style=\"text-align: right;\">\n",
       "      <th></th>\n",
       "      <th>source_id</th>\n",
       "      <th>dt</th>\n",
       "      <th>costs</th>\n",
       "      <th>cost_year</th>\n",
       "      <th>cost_month</th>\n",
       "      <th>cost_week</th>\n",
       "      <th>cost_date</th>\n",
       "    </tr>\n",
       "  </thead>\n",
       "  <tbody>\n",
       "    <tr>\n",
       "      <td>0</td>\n",
       "      <td>1</td>\n",
       "      <td>2017-06-01</td>\n",
       "      <td>75.20</td>\n",
       "      <td>2017</td>\n",
       "      <td>2017-06-01</td>\n",
       "      <td>22</td>\n",
       "      <td>2017-06-01</td>\n",
       "    </tr>\n",
       "    <tr>\n",
       "      <td>1</td>\n",
       "      <td>1</td>\n",
       "      <td>2017-06-02</td>\n",
       "      <td>62.25</td>\n",
       "      <td>2017</td>\n",
       "      <td>2017-06-01</td>\n",
       "      <td>22</td>\n",
       "      <td>2017-06-02</td>\n",
       "    </tr>\n",
       "    <tr>\n",
       "      <td>2</td>\n",
       "      <td>1</td>\n",
       "      <td>2017-06-03</td>\n",
       "      <td>36.53</td>\n",
       "      <td>2017</td>\n",
       "      <td>2017-06-01</td>\n",
       "      <td>22</td>\n",
       "      <td>2017-06-03</td>\n",
       "    </tr>\n",
       "    <tr>\n",
       "      <td>3</td>\n",
       "      <td>1</td>\n",
       "      <td>2017-06-04</td>\n",
       "      <td>55.00</td>\n",
       "      <td>2017</td>\n",
       "      <td>2017-06-01</td>\n",
       "      <td>22</td>\n",
       "      <td>2017-06-04</td>\n",
       "    </tr>\n",
       "    <tr>\n",
       "      <td>4</td>\n",
       "      <td>1</td>\n",
       "      <td>2017-06-05</td>\n",
       "      <td>57.08</td>\n",
       "      <td>2017</td>\n",
       "      <td>2017-06-01</td>\n",
       "      <td>23</td>\n",
       "      <td>2017-06-05</td>\n",
       "    </tr>\n",
       "    <tr>\n",
       "      <td>...</td>\n",
       "      <td>...</td>\n",
       "      <td>...</td>\n",
       "      <td>...</td>\n",
       "      <td>...</td>\n",
       "      <td>...</td>\n",
       "      <td>...</td>\n",
       "      <td>...</td>\n",
       "    </tr>\n",
       "    <tr>\n",
       "      <td>2537</td>\n",
       "      <td>10</td>\n",
       "      <td>2018-05-27</td>\n",
       "      <td>9.92</td>\n",
       "      <td>2018</td>\n",
       "      <td>2018-05-01</td>\n",
       "      <td>21</td>\n",
       "      <td>2018-05-27</td>\n",
       "    </tr>\n",
       "    <tr>\n",
       "      <td>2538</td>\n",
       "      <td>10</td>\n",
       "      <td>2018-05-28</td>\n",
       "      <td>21.26</td>\n",
       "      <td>2018</td>\n",
       "      <td>2018-05-01</td>\n",
       "      <td>22</td>\n",
       "      <td>2018-05-28</td>\n",
       "    </tr>\n",
       "    <tr>\n",
       "      <td>2539</td>\n",
       "      <td>10</td>\n",
       "      <td>2018-05-29</td>\n",
       "      <td>11.32</td>\n",
       "      <td>2018</td>\n",
       "      <td>2018-05-01</td>\n",
       "      <td>22</td>\n",
       "      <td>2018-05-29</td>\n",
       "    </tr>\n",
       "    <tr>\n",
       "      <td>2540</td>\n",
       "      <td>10</td>\n",
       "      <td>2018-05-30</td>\n",
       "      <td>33.15</td>\n",
       "      <td>2018</td>\n",
       "      <td>2018-05-01</td>\n",
       "      <td>22</td>\n",
       "      <td>2018-05-30</td>\n",
       "    </tr>\n",
       "    <tr>\n",
       "      <td>2541</td>\n",
       "      <td>10</td>\n",
       "      <td>2018-05-31</td>\n",
       "      <td>17.60</td>\n",
       "      <td>2018</td>\n",
       "      <td>2018-05-01</td>\n",
       "      <td>22</td>\n",
       "      <td>2018-05-31</td>\n",
       "    </tr>\n",
       "  </tbody>\n",
       "</table>\n",
       "<p>2542 rows × 7 columns</p>\n",
       "</div>"
      ],
      "text/plain": [
       "      source_id         dt  costs  cost_year cost_month  cost_week   cost_date\n",
       "0             1 2017-06-01  75.20       2017 2017-06-01         22  2017-06-01\n",
       "1             1 2017-06-02  62.25       2017 2017-06-01         22  2017-06-02\n",
       "2             1 2017-06-03  36.53       2017 2017-06-01         22  2017-06-03\n",
       "3             1 2017-06-04  55.00       2017 2017-06-01         22  2017-06-04\n",
       "4             1 2017-06-05  57.08       2017 2017-06-01         23  2017-06-05\n",
       "...         ...        ...    ...        ...        ...        ...         ...\n",
       "2537         10 2018-05-27   9.92       2018 2018-05-01         21  2018-05-27\n",
       "2538         10 2018-05-28  21.26       2018 2018-05-01         22  2018-05-28\n",
       "2539         10 2018-05-29  11.32       2018 2018-05-01         22  2018-05-29\n",
       "2540         10 2018-05-30  33.15       2018 2018-05-01         22  2018-05-30\n",
       "2541         10 2018-05-31  17.60       2018 2018-05-01         22  2018-05-31\n",
       "\n",
       "[2542 rows x 7 columns]"
      ]
     },
     "execution_count": 112,
     "metadata": {},
     "output_type": "execute_result"
    }
   ],
   "source": [
    "costs"
   ]
  },
  {
   "cell_type": "code",
   "execution_count": 113,
   "metadata": {},
   "outputs": [
    {
     "name": "stdout",
     "output_type": "stream",
     "text": [
      "There were more costs in 2017 than 2018 for marketing by: 46790.68\n"
     ]
    }
   ],
   "source": [
    "cost_difference_yearly= 187961.15 - 141170.47\n",
    "print('There were more costs in 2017 than 2018 for marketing by: {:.2f}'.format(cost_difference_yearly))"
   ]
  },
  {
   "cell_type": "code",
   "execution_count": 114,
   "metadata": {},
   "outputs": [
    {
     "data": {
      "text/html": [
       "<div>\n",
       "<style scoped>\n",
       "    .dataframe tbody tr th:only-of-type {\n",
       "        vertical-align: middle;\n",
       "    }\n",
       "\n",
       "    .dataframe tbody tr th {\n",
       "        vertical-align: top;\n",
       "    }\n",
       "\n",
       "    .dataframe thead th {\n",
       "        text-align: right;\n",
       "    }\n",
       "</style>\n",
       "<table border=\"1\" class=\"dataframe\">\n",
       "  <thead>\n",
       "    <tr style=\"text-align: right;\">\n",
       "      <th></th>\n",
       "      <th>source_id</th>\n",
       "      <th>uid</th>\n",
       "    </tr>\n",
       "  </thead>\n",
       "  <tbody>\n",
       "    <tr>\n",
       "      <td>0</td>\n",
       "      <td>1</td>\n",
       "      <td>18999</td>\n",
       "    </tr>\n",
       "    <tr>\n",
       "      <td>1</td>\n",
       "      <td>2</td>\n",
       "      <td>26245</td>\n",
       "    </tr>\n",
       "    <tr>\n",
       "      <td>2</td>\n",
       "      <td>3</td>\n",
       "      <td>74756</td>\n",
       "    </tr>\n",
       "    <tr>\n",
       "      <td>3</td>\n",
       "      <td>4</td>\n",
       "      <td>83525</td>\n",
       "    </tr>\n",
       "    <tr>\n",
       "      <td>4</td>\n",
       "      <td>5</td>\n",
       "      <td>56974</td>\n",
       "    </tr>\n",
       "    <tr>\n",
       "      <td>5</td>\n",
       "      <td>6</td>\n",
       "      <td>6</td>\n",
       "    </tr>\n",
       "    <tr>\n",
       "      <td>6</td>\n",
       "      <td>7</td>\n",
       "      <td>34</td>\n",
       "    </tr>\n",
       "    <tr>\n",
       "      <td>7</td>\n",
       "      <td>9</td>\n",
       "      <td>9264</td>\n",
       "    </tr>\n",
       "    <tr>\n",
       "      <td>8</td>\n",
       "      <td>10</td>\n",
       "      <td>8067</td>\n",
       "    </tr>\n",
       "  </tbody>\n",
       "</table>\n",
       "</div>"
      ],
      "text/plain": [
       "   source_id    uid\n",
       "0          1  18999\n",
       "1          2  26245\n",
       "2          3  74756\n",
       "3          4  83525\n",
       "4          5  56974\n",
       "5          6      6\n",
       "6          7     34\n",
       "7          9   9264\n",
       "8         10   8067"
      ]
     },
     "execution_count": 114,
     "metadata": {},
     "output_type": "execute_result"
    }
   ],
   "source": [
    "visits_per_source= visits.groupby(['source_id']).agg({'uid': 'nunique'}).reset_index()\n",
    "visits_per_source"
   ]
  },
  {
   "cell_type": "markdown",
   "metadata": {},
   "source": [
    "- And here we see that sources 3, 4, and 5 collet the most visits. with 4 at 83525, 3 at 74756, and 5 at 56974. The next best is source 2 at 26245 visits from source. the Sources that I have not seen until now 6 and 7 have 34 and 6 visits. No wonder they don't really exist"
   ]
  },
  {
   "cell_type": "code",
   "execution_count": 115,
   "metadata": {},
   "outputs": [
    {
     "data": {
      "text/html": [
       "<div>\n",
       "<style scoped>\n",
       "    .dataframe tbody tr th:only-of-type {\n",
       "        vertical-align: middle;\n",
       "    }\n",
       "\n",
       "    .dataframe tbody tr th {\n",
       "        vertical-align: top;\n",
       "    }\n",
       "\n",
       "    .dataframe thead th {\n",
       "        text-align: right;\n",
       "    }\n",
       "</style>\n",
       "<table border=\"1\" class=\"dataframe\">\n",
       "  <thead>\n",
       "    <tr style=\"text-align: right;\">\n",
       "      <th></th>\n",
       "      <th>source_id</th>\n",
       "      <th>costs</th>\n",
       "      <th>uid</th>\n",
       "      <th>cac</th>\n",
       "    </tr>\n",
       "  </thead>\n",
       "  <tbody>\n",
       "    <tr>\n",
       "      <td>2</td>\n",
       "      <td>3</td>\n",
       "      <td>141321.63</td>\n",
       "      <td>74756</td>\n",
       "      <td>1.890439</td>\n",
       "    </tr>\n",
       "    <tr>\n",
       "      <td>1</td>\n",
       "      <td>2</td>\n",
       "      <td>42806.04</td>\n",
       "      <td>26245</td>\n",
       "      <td>1.631017</td>\n",
       "    </tr>\n",
       "    <tr>\n",
       "      <td>0</td>\n",
       "      <td>1</td>\n",
       "      <td>20833.27</td>\n",
       "      <td>18999</td>\n",
       "      <td>1.096546</td>\n",
       "    </tr>\n",
       "    <tr>\n",
       "      <td>4</td>\n",
       "      <td>5</td>\n",
       "      <td>51757.10</td>\n",
       "      <td>56974</td>\n",
       "      <td>0.908434</td>\n",
       "    </tr>\n",
       "    <tr>\n",
       "      <td>3</td>\n",
       "      <td>4</td>\n",
       "      <td>61073.60</td>\n",
       "      <td>83525</td>\n",
       "      <td>0.731201</td>\n",
       "    </tr>\n",
       "    <tr>\n",
       "      <td>6</td>\n",
       "      <td>10</td>\n",
       "      <td>5822.49</td>\n",
       "      <td>8067</td>\n",
       "      <td>0.721766</td>\n",
       "    </tr>\n",
       "    <tr>\n",
       "      <td>5</td>\n",
       "      <td>9</td>\n",
       "      <td>5517.49</td>\n",
       "      <td>9264</td>\n",
       "      <td>0.595584</td>\n",
       "    </tr>\n",
       "  </tbody>\n",
       "</table>\n",
       "</div>"
      ],
      "text/plain": [
       "   source_id      costs    uid       cac\n",
       "2          3  141321.63  74756  1.890439\n",
       "1          2   42806.04  26245  1.631017\n",
       "0          1   20833.27  18999  1.096546\n",
       "4          5   51757.10  56974  0.908434\n",
       "3          4   61073.60  83525  0.731201\n",
       "6         10    5822.49   8067  0.721766\n",
       "5          9    5517.49   9264  0.595584"
      ]
     },
     "execution_count": 115,
     "metadata": {},
     "output_type": "execute_result"
    }
   ],
   "source": [
    "marketing_costs = marketing_cost_per_source.merge(visits_per_source, on='source_id')\n",
    "marketing_costs['cac'] = marketing_costs['costs']/marketing_costs['uid']\n",
    "marketing_costs.sort_values(by = 'cac', ascending = False)"
   ]
  },
  {
   "cell_type": "markdown",
   "metadata": {},
   "source": [
    "- Looks with the cac being 0.731201 for source 4 that it is doing much better than 3 which cost the most.\n",
    "- Source 9 looks decent with 0.60 but it did not attract nearly as many customers as source 4."
   ]
  },
  {
   "cell_type": "markdown",
   "metadata": {},
   "source": [
    "#### 3. How worthwhile were the investments? (ROMI)"
   ]
  },
  {
   "cell_type": "code",
   "execution_count": 116,
   "metadata": {},
   "outputs": [
    {
     "data": {
      "text/html": [
       "<div>\n",
       "<style scoped>\n",
       "    .dataframe tbody tr th:only-of-type {\n",
       "        vertical-align: middle;\n",
       "    }\n",
       "\n",
       "    .dataframe tbody tr th {\n",
       "        vertical-align: top;\n",
       "    }\n",
       "\n",
       "    .dataframe thead th {\n",
       "        text-align: right;\n",
       "    }\n",
       "</style>\n",
       "<table border=\"1\" class=\"dataframe\">\n",
       "  <thead>\n",
       "    <tr style=\"text-align: right;\">\n",
       "      <th></th>\n",
       "      <th>source_id</th>\n",
       "      <th>costs</th>\n",
       "      <th>uid</th>\n",
       "      <th>cac</th>\n",
       "      <th>romi</th>\n",
       "    </tr>\n",
       "  </thead>\n",
       "  <tbody>\n",
       "    <tr>\n",
       "      <td>0</td>\n",
       "      <td>1</td>\n",
       "      <td>20833.27</td>\n",
       "      <td>18999</td>\n",
       "      <td>1.096546</td>\n",
       "      <td>2.154226</td>\n",
       "    </tr>\n",
       "    <tr>\n",
       "      <td>6</td>\n",
       "      <td>10</td>\n",
       "      <td>5822.49</td>\n",
       "      <td>8067</td>\n",
       "      <td>0.721766</td>\n",
       "      <td>0.658412</td>\n",
       "    </tr>\n",
       "    <tr>\n",
       "      <td>3</td>\n",
       "      <td>4</td>\n",
       "      <td>61073.60</td>\n",
       "      <td>83525</td>\n",
       "      <td>0.731201</td>\n",
       "      <td>0.652810</td>\n",
       "    </tr>\n",
       "    <tr>\n",
       "      <td>5</td>\n",
       "      <td>9</td>\n",
       "      <td>5517.49</td>\n",
       "      <td>9264</td>\n",
       "      <td>0.595584</td>\n",
       "      <td>0.617463</td>\n",
       "    </tr>\n",
       "    <tr>\n",
       "      <td>4</td>\n",
       "      <td>5</td>\n",
       "      <td>51757.10</td>\n",
       "      <td>56974</td>\n",
       "      <td>0.908434</td>\n",
       "      <td>0.562799</td>\n",
       "    </tr>\n",
       "    <tr>\n",
       "      <td>1</td>\n",
       "      <td>2</td>\n",
       "      <td>42806.04</td>\n",
       "      <td>26245</td>\n",
       "      <td>1.631017</td>\n",
       "      <td>0.148781</td>\n",
       "    </tr>\n",
       "    <tr>\n",
       "      <td>2</td>\n",
       "      <td>3</td>\n",
       "      <td>141321.63</td>\n",
       "      <td>74756</td>\n",
       "      <td>1.890439</td>\n",
       "      <td>0.115750</td>\n",
       "    </tr>\n",
       "  </tbody>\n",
       "</table>\n",
       "</div>"
      ],
      "text/plain": [
       "   source_id      costs    uid       cac      romi\n",
       "0          1   20833.27  18999  1.096546  2.154226\n",
       "6         10    5822.49   8067  0.721766  0.658412\n",
       "3          4   61073.60  83525  0.731201  0.652810\n",
       "5          9    5517.49   9264  0.595584  0.617463\n",
       "4          5   51757.10  56974  0.908434  0.562799\n",
       "1          2   42806.04  26245  1.631017  0.148781\n",
       "2          3  141321.63  74756  1.890439  0.115750"
      ]
     },
     "execution_count": 116,
     "metadata": {},
     "output_type": "execute_result"
    }
   ],
   "source": [
    "marketing_costs['romi'] = report['ltv']/marketing_costs['cac']\n",
    "marketing_costs.sort_values(by= 'romi', ascending = False)"
   ]
  },
  {
   "cell_type": "markdown",
   "metadata": {},
   "source": [
    "- Source 1 has the best Return on marketing investment\n",
    "- Source 9 and 4 whic have very different costs come second and third in romi.\n",
    "- Sources 4 and 5 are very good with romi. But Source 3 which cost the most but had similar numbers of visitors to 4 and 5 is at the bottom of our list with source 2 being the least return on marketing investment."
   ]
  },
  {
   "cell_type": "code",
   "execution_count": 117,
   "metadata": {},
   "outputs": [],
   "source": [
    "cohort_costs = cohort_sizes.join(monthly_costs)"
   ]
  },
  {
   "cell_type": "code",
   "execution_count": 118,
   "metadata": {},
   "outputs": [
    {
     "data": {
      "text/html": [
       "<div>\n",
       "<style scoped>\n",
       "    .dataframe tbody tr th:only-of-type {\n",
       "        vertical-align: middle;\n",
       "    }\n",
       "\n",
       "    .dataframe tbody tr th {\n",
       "        vertical-align: top;\n",
       "    }\n",
       "\n",
       "    .dataframe thead th {\n",
       "        text-align: right;\n",
       "    }\n",
       "</style>\n",
       "<table border=\"1\" class=\"dataframe\">\n",
       "  <thead>\n",
       "    <tr style=\"text-align: right;\">\n",
       "      <th></th>\n",
       "      <th>first_order_month</th>\n",
       "      <th>uid</th>\n",
       "      <th>cost_month</th>\n",
       "      <th>costs</th>\n",
       "    </tr>\n",
       "  </thead>\n",
       "  <tbody>\n",
       "    <tr>\n",
       "      <td>0</td>\n",
       "      <td>2017-06-01</td>\n",
       "      <td>2023</td>\n",
       "      <td>2017-06-01</td>\n",
       "      <td>18015.00</td>\n",
       "    </tr>\n",
       "    <tr>\n",
       "      <td>1</td>\n",
       "      <td>2017-07-01</td>\n",
       "      <td>1923</td>\n",
       "      <td>2017-07-01</td>\n",
       "      <td>18240.59</td>\n",
       "    </tr>\n",
       "    <tr>\n",
       "      <td>2</td>\n",
       "      <td>2017-08-01</td>\n",
       "      <td>1370</td>\n",
       "      <td>2017-08-01</td>\n",
       "      <td>14790.54</td>\n",
       "    </tr>\n",
       "    <tr>\n",
       "      <td>3</td>\n",
       "      <td>2017-09-01</td>\n",
       "      <td>2581</td>\n",
       "      <td>2017-09-01</td>\n",
       "      <td>24368.91</td>\n",
       "    </tr>\n",
       "    <tr>\n",
       "      <td>4</td>\n",
       "      <td>2017-10-01</td>\n",
       "      <td>4340</td>\n",
       "      <td>2017-10-01</td>\n",
       "      <td>36322.88</td>\n",
       "    </tr>\n",
       "    <tr>\n",
       "      <td>5</td>\n",
       "      <td>2017-11-01</td>\n",
       "      <td>4081</td>\n",
       "      <td>2017-11-01</td>\n",
       "      <td>37907.88</td>\n",
       "    </tr>\n",
       "    <tr>\n",
       "      <td>6</td>\n",
       "      <td>2017-12-01</td>\n",
       "      <td>4383</td>\n",
       "      <td>2017-12-01</td>\n",
       "      <td>38315.35</td>\n",
       "    </tr>\n",
       "    <tr>\n",
       "      <td>7</td>\n",
       "      <td>2018-01-01</td>\n",
       "      <td>3373</td>\n",
       "      <td>2018-01-01</td>\n",
       "      <td>33518.52</td>\n",
       "    </tr>\n",
       "    <tr>\n",
       "      <td>8</td>\n",
       "      <td>2018-02-01</td>\n",
       "      <td>3651</td>\n",
       "      <td>2018-02-01</td>\n",
       "      <td>32723.03</td>\n",
       "    </tr>\n",
       "    <tr>\n",
       "      <td>9</td>\n",
       "      <td>2018-03-01</td>\n",
       "      <td>3533</td>\n",
       "      <td>2018-03-01</td>\n",
       "      <td>30415.27</td>\n",
       "    </tr>\n",
       "    <tr>\n",
       "      <td>10</td>\n",
       "      <td>2018-04-01</td>\n",
       "      <td>2276</td>\n",
       "      <td>2018-04-01</td>\n",
       "      <td>22289.38</td>\n",
       "    </tr>\n",
       "    <tr>\n",
       "      <td>11</td>\n",
       "      <td>2018-05-01</td>\n",
       "      <td>2988</td>\n",
       "      <td>2018-05-01</td>\n",
       "      <td>22224.27</td>\n",
       "    </tr>\n",
       "    <tr>\n",
       "      <td>12</td>\n",
       "      <td>2018-06-01</td>\n",
       "      <td>1</td>\n",
       "      <td>NaT</td>\n",
       "      <td>NaN</td>\n",
       "    </tr>\n",
       "  </tbody>\n",
       "</table>\n",
       "</div>"
      ],
      "text/plain": [
       "   first_order_month   uid cost_month     costs\n",
       "0         2017-06-01  2023 2017-06-01  18015.00\n",
       "1         2017-07-01  1923 2017-07-01  18240.59\n",
       "2         2017-08-01  1370 2017-08-01  14790.54\n",
       "3         2017-09-01  2581 2017-09-01  24368.91\n",
       "4         2017-10-01  4340 2017-10-01  36322.88\n",
       "5         2017-11-01  4081 2017-11-01  37907.88\n",
       "6         2017-12-01  4383 2017-12-01  38315.35\n",
       "7         2018-01-01  3373 2018-01-01  33518.52\n",
       "8         2018-02-01  3651 2018-02-01  32723.03\n",
       "9         2018-03-01  3533 2018-03-01  30415.27\n",
       "10        2018-04-01  2276 2018-04-01  22289.38\n",
       "11        2018-05-01  2988 2018-05-01  22224.27\n",
       "12        2018-06-01     1        NaT       NaN"
      ]
     },
     "execution_count": 118,
     "metadata": {},
     "output_type": "execute_result"
    }
   ],
   "source": [
    "cohort_costs"
   ]
  },
  {
   "cell_type": "code",
   "execution_count": 119,
   "metadata": {},
   "outputs": [
    {
     "data": {
      "text/plain": [
       "0      8.905091\n",
       "1      9.485486\n",
       "2     10.796015\n",
       "3      9.441654\n",
       "4      8.369327\n",
       "5      9.288870\n",
       "6      8.741809\n",
       "7      9.937302\n",
       "8      8.962758\n",
       "9      8.608907\n",
       "10     9.793225\n",
       "11     7.437841\n",
       "12          NaN\n",
       "dtype: float64"
      ]
     },
     "execution_count": 119,
     "metadata": {},
     "output_type": "execute_result"
    }
   ],
   "source": [
    "cost_month_per_cohort = cohort_costs['costs']/ cohort_costs['uid']\n",
    "cost_month_per_cohort"
   ]
  },
  {
   "cell_type": "code",
   "execution_count": 120,
   "metadata": {},
   "outputs": [
    {
     "data": {
      "text/plain": [
       "<matplotlib.axes._subplots.AxesSubplot at 0x7f3304db6f50>"
      ]
     },
     "execution_count": 120,
     "metadata": {},
     "output_type": "execute_result"
    },
    {
     "data": {
      "image/png": "[encoded data removed]",
      "text/plain": [
       "<Figure size 432x288 with 1 Axes>"
      ]
     },
     "metadata": {
      "needs_background": "light"
     },
     "output_type": "display_data"
    }
   ],
   "source": [
    "cost_month_per_cohort.plot()"
   ]
  },
  {
   "cell_type": "markdown",
   "metadata": {},
   "source": [
    "- The costs for marketing were high the first three months and were not very worthwhile. The middle months saw the costs go down but then the costs went up again but the users started going down"
   ]
  },
  {
   "cell_type": "code",
   "execution_count": 121,
   "metadata": {},
   "outputs": [
    {
     "data": {
      "text/html": [
       "<div>\n",
       "<style scoped>\n",
       "    .dataframe tbody tr th:only-of-type {\n",
       "        vertical-align: middle;\n",
       "    }\n",
       "\n",
       "    .dataframe tbody tr th {\n",
       "        vertical-align: top;\n",
       "    }\n",
       "\n",
       "    .dataframe thead th {\n",
       "        text-align: right;\n",
       "    }\n",
       "</style>\n",
       "<table border=\"1\" class=\"dataframe\">\n",
       "  <thead>\n",
       "    <tr style=\"text-align: right;\">\n",
       "      <th></th>\n",
       "      <th>source_id</th>\n",
       "      <th>visit_month</th>\n",
       "      <th>uid</th>\n",
       "    </tr>\n",
       "  </thead>\n",
       "  <tbody>\n",
       "    <tr>\n",
       "      <td>0</td>\n",
       "      <td>1</td>\n",
       "      <td>2017-06-01</td>\n",
       "      <td>972</td>\n",
       "    </tr>\n",
       "    <tr>\n",
       "      <td>1</td>\n",
       "      <td>1</td>\n",
       "      <td>2017-07-01</td>\n",
       "      <td>1047</td>\n",
       "    </tr>\n",
       "    <tr>\n",
       "      <td>2</td>\n",
       "      <td>1</td>\n",
       "      <td>2017-08-01</td>\n",
       "      <td>794</td>\n",
       "    </tr>\n",
       "    <tr>\n",
       "      <td>3</td>\n",
       "      <td>1</td>\n",
       "      <td>2017-09-01</td>\n",
       "      <td>1395</td>\n",
       "    </tr>\n",
       "    <tr>\n",
       "      <td>4</td>\n",
       "      <td>1</td>\n",
       "      <td>2017-10-01</td>\n",
       "      <td>2170</td>\n",
       "    </tr>\n",
       "    <tr>\n",
       "      <td>...</td>\n",
       "      <td>...</td>\n",
       "      <td>...</td>\n",
       "      <td>...</td>\n",
       "    </tr>\n",
       "    <tr>\n",
       "      <td>97</td>\n",
       "      <td>10</td>\n",
       "      <td>2018-01-01</td>\n",
       "      <td>925</td>\n",
       "    </tr>\n",
       "    <tr>\n",
       "      <td>98</td>\n",
       "      <td>10</td>\n",
       "      <td>2018-02-01</td>\n",
       "      <td>1088</td>\n",
       "    </tr>\n",
       "    <tr>\n",
       "      <td>99</td>\n",
       "      <td>10</td>\n",
       "      <td>2018-03-01</td>\n",
       "      <td>1167</td>\n",
       "    </tr>\n",
       "    <tr>\n",
       "      <td>100</td>\n",
       "      <td>10</td>\n",
       "      <td>2018-04-01</td>\n",
       "      <td>603</td>\n",
       "    </tr>\n",
       "    <tr>\n",
       "      <td>101</td>\n",
       "      <td>10</td>\n",
       "      <td>2018-05-01</td>\n",
       "      <td>777</td>\n",
       "    </tr>\n",
       "  </tbody>\n",
       "</table>\n",
       "<p>102 rows × 3 columns</p>\n",
       "</div>"
      ],
      "text/plain": [
       "     source_id visit_month   uid\n",
       "0            1  2017-06-01   972\n",
       "1            1  2017-07-01  1047\n",
       "2            1  2017-08-01   794\n",
       "3            1  2017-09-01  1395\n",
       "4            1  2017-10-01  2170\n",
       "..         ...         ...   ...\n",
       "97          10  2018-01-01   925\n",
       "98          10  2018-02-01  1088\n",
       "99          10  2018-03-01  1167\n",
       "100         10  2018-04-01   603\n",
       "101         10  2018-05-01   777\n",
       "\n",
       "[102 rows x 3 columns]"
      ]
     },
     "execution_count": 121,
     "metadata": {},
     "output_type": "execute_result"
    }
   ],
   "source": [
    "visits_per_source_per_month= visits.groupby(['source_id', 'visit_month']).agg({'uid': 'nunique', }).reset_index()\n",
    "visits_per_source_per_month"
   ]
  },
  {
   "cell_type": "code",
   "execution_count": 122,
   "metadata": {},
   "outputs": [
    {
     "data": {
      "text/html": [
       "<div>\n",
       "<style scoped>\n",
       "    .dataframe tbody tr th:only-of-type {\n",
       "        vertical-align: middle;\n",
       "    }\n",
       "\n",
       "    .dataframe tbody tr th {\n",
       "        vertical-align: top;\n",
       "    }\n",
       "\n",
       "    .dataframe thead th {\n",
       "        text-align: right;\n",
       "    }\n",
       "</style>\n",
       "<table border=\"1\" class=\"dataframe\">\n",
       "  <thead>\n",
       "    <tr style=\"text-align: right;\">\n",
       "      <th>age</th>\n",
       "      <th>0</th>\n",
       "      <th>1</th>\n",
       "      <th>2</th>\n",
       "      <th>3</th>\n",
       "      <th>4</th>\n",
       "      <th>5</th>\n",
       "      <th>6</th>\n",
       "      <th>7</th>\n",
       "      <th>8</th>\n",
       "      <th>9</th>\n",
       "      <th>10</th>\n",
       "      <th>11</th>\n",
       "    </tr>\n",
       "    <tr>\n",
       "      <th>first_order_month</th>\n",
       "      <th></th>\n",
       "      <th></th>\n",
       "      <th></th>\n",
       "      <th></th>\n",
       "      <th></th>\n",
       "      <th></th>\n",
       "      <th></th>\n",
       "      <th></th>\n",
       "      <th></th>\n",
       "      <th></th>\n",
       "      <th></th>\n",
       "      <th></th>\n",
       "    </tr>\n",
       "  </thead>\n",
       "  <tbody>\n",
       "    <tr>\n",
       "      <td>2017-06-01</td>\n",
       "      <td>2.0</td>\n",
       "      <td>0</td>\n",
       "      <td>0</td>\n",
       "      <td>0</td>\n",
       "      <td>1</td>\n",
       "      <td>0</td>\n",
       "      <td>0</td>\n",
       "      <td>0</td>\n",
       "      <td>0</td>\n",
       "      <td>0</td>\n",
       "      <td>0</td>\n",
       "      <td>0</td>\n",
       "    </tr>\n",
       "    <tr>\n",
       "      <td>2017-07-01</td>\n",
       "      <td>3.0</td>\n",
       "      <td>0</td>\n",
       "      <td>0</td>\n",
       "      <td>0</td>\n",
       "      <td>0</td>\n",
       "      <td>0</td>\n",
       "      <td>0</td>\n",
       "      <td>0</td>\n",
       "      <td>0</td>\n",
       "      <td>0</td>\n",
       "      <td>0</td>\n",
       "      <td></td>\n",
       "    </tr>\n",
       "    <tr>\n",
       "      <td>2017-08-01</td>\n",
       "      <td>3.0</td>\n",
       "      <td>0</td>\n",
       "      <td>0</td>\n",
       "      <td>0</td>\n",
       "      <td>0</td>\n",
       "      <td>0</td>\n",
       "      <td>0</td>\n",
       "      <td>0</td>\n",
       "      <td>0</td>\n",
       "      <td>0</td>\n",
       "      <td></td>\n",
       "      <td></td>\n",
       "    </tr>\n",
       "    <tr>\n",
       "      <td>2017-09-01</td>\n",
       "      <td>3.0</td>\n",
       "      <td>1</td>\n",
       "      <td>0</td>\n",
       "      <td>2</td>\n",
       "      <td>0</td>\n",
       "      <td>0</td>\n",
       "      <td>0</td>\n",
       "      <td>0</td>\n",
       "      <td>0</td>\n",
       "      <td></td>\n",
       "      <td></td>\n",
       "      <td></td>\n",
       "    </tr>\n",
       "    <tr>\n",
       "      <td>2017-10-01</td>\n",
       "      <td>3.0</td>\n",
       "      <td>0</td>\n",
       "      <td>0</td>\n",
       "      <td>0</td>\n",
       "      <td>0</td>\n",
       "      <td>0</td>\n",
       "      <td>0</td>\n",
       "      <td>0</td>\n",
       "      <td></td>\n",
       "      <td></td>\n",
       "      <td></td>\n",
       "      <td></td>\n",
       "    </tr>\n",
       "    <tr>\n",
       "      <td>2017-11-01</td>\n",
       "      <td>3.0</td>\n",
       "      <td>0</td>\n",
       "      <td>0</td>\n",
       "      <td>0</td>\n",
       "      <td>0</td>\n",
       "      <td>0</td>\n",
       "      <td>0</td>\n",
       "      <td></td>\n",
       "      <td></td>\n",
       "      <td></td>\n",
       "      <td></td>\n",
       "      <td></td>\n",
       "    </tr>\n",
       "    <tr>\n",
       "      <td>2017-12-01</td>\n",
       "      <td>2.0</td>\n",
       "      <td>0</td>\n",
       "      <td>0</td>\n",
       "      <td>1</td>\n",
       "      <td>0</td>\n",
       "      <td>0</td>\n",
       "      <td></td>\n",
       "      <td></td>\n",
       "      <td></td>\n",
       "      <td></td>\n",
       "      <td></td>\n",
       "      <td></td>\n",
       "    </tr>\n",
       "    <tr>\n",
       "      <td>2018-01-01</td>\n",
       "      <td>2.0</td>\n",
       "      <td>0</td>\n",
       "      <td>0</td>\n",
       "      <td>0</td>\n",
       "      <td>0</td>\n",
       "      <td></td>\n",
       "      <td></td>\n",
       "      <td></td>\n",
       "      <td></td>\n",
       "      <td></td>\n",
       "      <td></td>\n",
       "      <td></td>\n",
       "    </tr>\n",
       "    <tr>\n",
       "      <td>2018-02-01</td>\n",
       "      <td>2.0</td>\n",
       "      <td>0</td>\n",
       "      <td>0</td>\n",
       "      <td>0</td>\n",
       "      <td></td>\n",
       "      <td></td>\n",
       "      <td></td>\n",
       "      <td></td>\n",
       "      <td></td>\n",
       "      <td></td>\n",
       "      <td></td>\n",
       "      <td></td>\n",
       "    </tr>\n",
       "    <tr>\n",
       "      <td>2018-03-01</td>\n",
       "      <td>2.0</td>\n",
       "      <td>0</td>\n",
       "      <td>0</td>\n",
       "      <td></td>\n",
       "      <td></td>\n",
       "      <td></td>\n",
       "      <td></td>\n",
       "      <td></td>\n",
       "      <td></td>\n",
       "      <td></td>\n",
       "      <td></td>\n",
       "      <td></td>\n",
       "    </tr>\n",
       "    <tr>\n",
       "      <td>2018-04-01</td>\n",
       "      <td>2.0</td>\n",
       "      <td>0</td>\n",
       "      <td></td>\n",
       "      <td></td>\n",
       "      <td></td>\n",
       "      <td></td>\n",
       "      <td></td>\n",
       "      <td></td>\n",
       "      <td></td>\n",
       "      <td></td>\n",
       "      <td></td>\n",
       "      <td></td>\n",
       "    </tr>\n",
       "    <tr>\n",
       "      <td>2018-05-01</td>\n",
       "      <td>2.0</td>\n",
       "      <td></td>\n",
       "      <td></td>\n",
       "      <td></td>\n",
       "      <td></td>\n",
       "      <td></td>\n",
       "      <td></td>\n",
       "      <td></td>\n",
       "      <td></td>\n",
       "      <td></td>\n",
       "      <td></td>\n",
       "      <td></td>\n",
       "    </tr>\n",
       "    <tr>\n",
       "      <td>2018-06-01</td>\n",
       "      <td>2.0</td>\n",
       "      <td></td>\n",
       "      <td></td>\n",
       "      <td></td>\n",
       "      <td></td>\n",
       "      <td></td>\n",
       "      <td></td>\n",
       "      <td></td>\n",
       "      <td></td>\n",
       "      <td></td>\n",
       "      <td></td>\n",
       "      <td></td>\n",
       "    </tr>\n",
       "  </tbody>\n",
       "</table>\n",
       "</div>"
      ],
      "text/plain": [
       "age                 0  1  2  3  4  5  6  7  8  9  10 11\n",
       "first_order_month                                      \n",
       "2017-06-01         2.0  0  0  0  1  0  0  0  0  0  0  0\n",
       "2017-07-01         3.0  0  0  0  0  0  0  0  0  0  0   \n",
       "2017-08-01         3.0  0  0  0  0  0  0  0  0  0      \n",
       "2017-09-01         3.0  1  0  2  0  0  0  0  0         \n",
       "2017-10-01         3.0  0  0  0  0  0  0  0            \n",
       "2017-11-01         3.0  0  0  0  0  0  0               \n",
       "2017-12-01         2.0  0  0  1  0  0                  \n",
       "2018-01-01         2.0  0  0  0  0                     \n",
       "2018-02-01         2.0  0  0  0                        \n",
       "2018-03-01         2.0  0  0                           \n",
       "2018-04-01         2.0  0                              \n",
       "2018-05-01         2.0                                 \n",
       "2018-06-01         2.0                                 "
      ]
     },
     "execution_count": 122,
     "metadata": {},
     "output_type": "execute_result"
    }
   ],
   "source": [
    "report['ltv'] = report['gp'] / report['uid']\n",
    "output = report.pivot_table(\n",
    " index='first_order_month',\n",
    " columns='age',\n",
    " values='ltv',\n",
    " aggfunc='mean').round()\n",
    "\n",
    "output.fillna('')"
   ]
  },
  {
   "cell_type": "code",
   "execution_count": 123,
   "metadata": {},
   "outputs": [
    {
     "data": {
      "text/html": [
       "<div>\n",
       "<style scoped>\n",
       "    .dataframe tbody tr th:only-of-type {\n",
       "        vertical-align: middle;\n",
       "    }\n",
       "\n",
       "    .dataframe tbody tr th {\n",
       "        vertical-align: top;\n",
       "    }\n",
       "\n",
       "    .dataframe thead th {\n",
       "        text-align: right;\n",
       "    }\n",
       "</style>\n",
       "<table border=\"1\" class=\"dataframe\">\n",
       "  <thead>\n",
       "    <tr style=\"text-align: right;\">\n",
       "      <th></th>\n",
       "      <th>first_order_month</th>\n",
       "      <th>uid</th>\n",
       "      <th>order_month</th>\n",
       "      <th>revenue</th>\n",
       "      <th>gp</th>\n",
       "      <th>age</th>\n",
       "      <th>ltv</th>\n",
       "      <th>cost_month</th>\n",
       "      <th>costs</th>\n",
       "      <th>cac</th>\n",
       "    </tr>\n",
       "  </thead>\n",
       "  <tbody>\n",
       "    <tr>\n",
       "      <td>0</td>\n",
       "      <td>2017-06-01</td>\n",
       "      <td>2023</td>\n",
       "      <td>2017-06-01</td>\n",
       "      <td>9557.49</td>\n",
       "      <td>4778.745</td>\n",
       "      <td>0</td>\n",
       "      <td>2.362207</td>\n",
       "      <td>2017-06-01</td>\n",
       "      <td>18015.0</td>\n",
       "      <td>8.905091</td>\n",
       "    </tr>\n",
       "    <tr>\n",
       "      <td>1</td>\n",
       "      <td>2017-06-01</td>\n",
       "      <td>2023</td>\n",
       "      <td>2017-07-01</td>\n",
       "      <td>981.82</td>\n",
       "      <td>490.910</td>\n",
       "      <td>1</td>\n",
       "      <td>0.242664</td>\n",
       "      <td>2017-06-01</td>\n",
       "      <td>18015.0</td>\n",
       "      <td>8.905091</td>\n",
       "    </tr>\n",
       "    <tr>\n",
       "      <td>2</td>\n",
       "      <td>2017-06-01</td>\n",
       "      <td>2023</td>\n",
       "      <td>2017-08-01</td>\n",
       "      <td>885.34</td>\n",
       "      <td>442.670</td>\n",
       "      <td>2</td>\n",
       "      <td>0.218819</td>\n",
       "      <td>2017-06-01</td>\n",
       "      <td>18015.0</td>\n",
       "      <td>8.905091</td>\n",
       "    </tr>\n",
       "    <tr>\n",
       "      <td>3</td>\n",
       "      <td>2017-06-01</td>\n",
       "      <td>2023</td>\n",
       "      <td>2017-09-01</td>\n",
       "      <td>1931.30</td>\n",
       "      <td>965.650</td>\n",
       "      <td>3</td>\n",
       "      <td>0.477336</td>\n",
       "      <td>2017-06-01</td>\n",
       "      <td>18015.0</td>\n",
       "      <td>8.905091</td>\n",
       "    </tr>\n",
       "    <tr>\n",
       "      <td>4</td>\n",
       "      <td>2017-06-01</td>\n",
       "      <td>2023</td>\n",
       "      <td>2017-10-01</td>\n",
       "      <td>2068.58</td>\n",
       "      <td>1034.290</td>\n",
       "      <td>4</td>\n",
       "      <td>0.511265</td>\n",
       "      <td>2017-06-01</td>\n",
       "      <td>18015.0</td>\n",
       "      <td>8.905091</td>\n",
       "    </tr>\n",
       "  </tbody>\n",
       "</table>\n",
       "</div>"
      ],
      "text/plain": [
       "  first_order_month   uid order_month  revenue        gp  age       ltv  \\\n",
       "0        2017-06-01  2023  2017-06-01  9557.49  4778.745    0  2.362207   \n",
       "1        2017-06-01  2023  2017-07-01   981.82   490.910    1  0.242664   \n",
       "2        2017-06-01  2023  2017-08-01   885.34   442.670    2  0.218819   \n",
       "3        2017-06-01  2023  2017-09-01  1931.30   965.650    3  0.477336   \n",
       "4        2017-06-01  2023  2017-10-01  2068.58  1034.290    4  0.511265   \n",
       "\n",
       "  cost_month    costs       cac  \n",
       "0 2017-06-01  18015.0  8.905091  \n",
       "1 2017-06-01  18015.0  8.905091  \n",
       "2 2017-06-01  18015.0  8.905091  \n",
       "3 2017-06-01  18015.0  8.905091  \n",
       "4 2017-06-01  18015.0  8.905091  "
      ]
     },
     "execution_count": 123,
     "metadata": {},
     "output_type": "execute_result"
    }
   ],
   "source": [
    "report_2 = pd.merge(report, monthly_costs, left_on='first_order_month',\n",
    "right_on='cost_month')\n",
    "report_2['cac'] = report_2['costs'] / report_2['uid']\n",
    "report_2.head()"
   ]
  },
  {
   "cell_type": "code",
   "execution_count": 124,
   "metadata": {},
   "outputs": [],
   "source": [
    "report_2['romi'] = report_2['ltv'] / report_2['cac']"
   ]
  },
  {
   "cell_type": "code",
   "execution_count": 125,
   "metadata": {},
   "outputs": [],
   "source": [
    "output_2 = report_2.pivot_table(\n",
    " index='first_order_month',\n",
    " columns='age',\n",
    " values='romi',\n",
    " aggfunc='mean')"
   ]
  },
  {
   "cell_type": "code",
   "execution_count": 126,
   "metadata": {},
   "outputs": [],
   "source": [
    "output_graph = output_2.cumsum(axis=1).round(2)"
   ]
  },
  {
   "cell_type": "code",
   "execution_count": 130,
   "metadata": {},
   "outputs": [
    {
     "data": {
      "text/html": [
       "<div>\n",
       "<style scoped>\n",
       "    .dataframe tbody tr th:only-of-type {\n",
       "        vertical-align: middle;\n",
       "    }\n",
       "\n",
       "    .dataframe tbody tr th {\n",
       "        vertical-align: top;\n",
       "    }\n",
       "\n",
       "    .dataframe thead th {\n",
       "        text-align: right;\n",
       "    }\n",
       "</style>\n",
       "<table border=\"1\" class=\"dataframe\">\n",
       "  <thead>\n",
       "    <tr style=\"text-align: right;\">\n",
       "      <th></th>\n",
       "      <th>first_order_month</th>\n",
       "      <th>uid</th>\n",
       "      <th>order_month</th>\n",
       "      <th>revenue</th>\n",
       "      <th>gp</th>\n",
       "      <th>age</th>\n",
       "      <th>ltv</th>\n",
       "      <th>cost_month</th>\n",
       "      <th>costs</th>\n",
       "      <th>cac</th>\n",
       "      <th>romi</th>\n",
       "    </tr>\n",
       "  </thead>\n",
       "  <tbody>\n",
       "    <tr>\n",
       "      <td>0</td>\n",
       "      <td>2017-06-01</td>\n",
       "      <td>2023</td>\n",
       "      <td>2017-06-01</td>\n",
       "      <td>9557.49</td>\n",
       "      <td>4778.745</td>\n",
       "      <td>0</td>\n",
       "      <td>2.362207</td>\n",
       "      <td>2017-06-01</td>\n",
       "      <td>18015.00</td>\n",
       "      <td>8.905091</td>\n",
       "      <td>0.265265</td>\n",
       "    </tr>\n",
       "    <tr>\n",
       "      <td>1</td>\n",
       "      <td>2017-06-01</td>\n",
       "      <td>2023</td>\n",
       "      <td>2017-07-01</td>\n",
       "      <td>981.82</td>\n",
       "      <td>490.910</td>\n",
       "      <td>1</td>\n",
       "      <td>0.242664</td>\n",
       "      <td>2017-06-01</td>\n",
       "      <td>18015.00</td>\n",
       "      <td>8.905091</td>\n",
       "      <td>0.027250</td>\n",
       "    </tr>\n",
       "    <tr>\n",
       "      <td>2</td>\n",
       "      <td>2017-06-01</td>\n",
       "      <td>2023</td>\n",
       "      <td>2017-08-01</td>\n",
       "      <td>885.34</td>\n",
       "      <td>442.670</td>\n",
       "      <td>2</td>\n",
       "      <td>0.218819</td>\n",
       "      <td>2017-06-01</td>\n",
       "      <td>18015.00</td>\n",
       "      <td>8.905091</td>\n",
       "      <td>0.024572</td>\n",
       "    </tr>\n",
       "    <tr>\n",
       "      <td>3</td>\n",
       "      <td>2017-06-01</td>\n",
       "      <td>2023</td>\n",
       "      <td>2017-09-01</td>\n",
       "      <td>1931.30</td>\n",
       "      <td>965.650</td>\n",
       "      <td>3</td>\n",
       "      <td>0.477336</td>\n",
       "      <td>2017-06-01</td>\n",
       "      <td>18015.00</td>\n",
       "      <td>8.905091</td>\n",
       "      <td>0.053603</td>\n",
       "    </tr>\n",
       "    <tr>\n",
       "      <td>4</td>\n",
       "      <td>2017-06-01</td>\n",
       "      <td>2023</td>\n",
       "      <td>2017-10-01</td>\n",
       "      <td>2068.58</td>\n",
       "      <td>1034.290</td>\n",
       "      <td>4</td>\n",
       "      <td>0.511265</td>\n",
       "      <td>2017-06-01</td>\n",
       "      <td>18015.00</td>\n",
       "      <td>8.905091</td>\n",
       "      <td>0.057413</td>\n",
       "    </tr>\n",
       "    <tr>\n",
       "      <td>...</td>\n",
       "      <td>...</td>\n",
       "      <td>...</td>\n",
       "      <td>...</td>\n",
       "      <td>...</td>\n",
       "      <td>...</td>\n",
       "      <td>...</td>\n",
       "      <td>...</td>\n",
       "      <td>...</td>\n",
       "      <td>...</td>\n",
       "      <td>...</td>\n",
       "      <td>...</td>\n",
       "    </tr>\n",
       "    <tr>\n",
       "      <td>73</td>\n",
       "      <td>2018-03-01</td>\n",
       "      <td>3533</td>\n",
       "      <td>2018-04-01</td>\n",
       "      <td>1063.05</td>\n",
       "      <td>531.525</td>\n",
       "      <td>1</td>\n",
       "      <td>0.150446</td>\n",
       "      <td>2018-03-01</td>\n",
       "      <td>30415.27</td>\n",
       "      <td>8.608907</td>\n",
       "      <td>0.017476</td>\n",
       "    </tr>\n",
       "    <tr>\n",
       "      <td>74</td>\n",
       "      <td>2018-03-01</td>\n",
       "      <td>3533</td>\n",
       "      <td>2018-05-01</td>\n",
       "      <td>1114.87</td>\n",
       "      <td>557.435</td>\n",
       "      <td>2</td>\n",
       "      <td>0.157780</td>\n",
       "      <td>2018-03-01</td>\n",
       "      <td>30415.27</td>\n",
       "      <td>8.608907</td>\n",
       "      <td>0.018327</td>\n",
       "    </tr>\n",
       "    <tr>\n",
       "      <td>75</td>\n",
       "      <td>2018-04-01</td>\n",
       "      <td>2276</td>\n",
       "      <td>2018-04-01</td>\n",
       "      <td>10600.69</td>\n",
       "      <td>5300.345</td>\n",
       "      <td>0</td>\n",
       "      <td>2.328798</td>\n",
       "      <td>2018-04-01</td>\n",
       "      <td>22289.38</td>\n",
       "      <td>9.793225</td>\n",
       "      <td>0.237797</td>\n",
       "    </tr>\n",
       "    <tr>\n",
       "      <td>76</td>\n",
       "      <td>2018-04-01</td>\n",
       "      <td>2276</td>\n",
       "      <td>2018-05-01</td>\n",
       "      <td>1209.92</td>\n",
       "      <td>604.960</td>\n",
       "      <td>1</td>\n",
       "      <td>0.265800</td>\n",
       "      <td>2018-04-01</td>\n",
       "      <td>22289.38</td>\n",
       "      <td>9.793225</td>\n",
       "      <td>0.027141</td>\n",
       "    </tr>\n",
       "    <tr>\n",
       "      <td>77</td>\n",
       "      <td>2018-05-01</td>\n",
       "      <td>2988</td>\n",
       "      <td>2018-05-01</td>\n",
       "      <td>13925.76</td>\n",
       "      <td>6962.880</td>\n",
       "      <td>0</td>\n",
       "      <td>2.330281</td>\n",
       "      <td>2018-05-01</td>\n",
       "      <td>22224.27</td>\n",
       "      <td>7.437841</td>\n",
       "      <td>0.313301</td>\n",
       "    </tr>\n",
       "  </tbody>\n",
       "</table>\n",
       "<p>78 rows × 11 columns</p>\n",
       "</div>"
      ],
      "text/plain": [
       "   first_order_month   uid order_month   revenue        gp  age       ltv  \\\n",
       "0         2017-06-01  2023  2017-06-01   9557.49  4778.745    0  2.362207   \n",
       "1         2017-06-01  2023  2017-07-01    981.82   490.910    1  0.242664   \n",
       "2         2017-06-01  2023  2017-08-01    885.34   442.670    2  0.218819   \n",
       "3         2017-06-01  2023  2017-09-01   1931.30   965.650    3  0.477336   \n",
       "4         2017-06-01  2023  2017-10-01   2068.58  1034.290    4  0.511265   \n",
       "..               ...   ...         ...       ...       ...  ...       ...   \n",
       "73        2018-03-01  3533  2018-04-01   1063.05   531.525    1  0.150446   \n",
       "74        2018-03-01  3533  2018-05-01   1114.87   557.435    2  0.157780   \n",
       "75        2018-04-01  2276  2018-04-01  10600.69  5300.345    0  2.328798   \n",
       "76        2018-04-01  2276  2018-05-01   1209.92   604.960    1  0.265800   \n",
       "77        2018-05-01  2988  2018-05-01  13925.76  6962.880    0  2.330281   \n",
       "\n",
       "   cost_month     costs       cac      romi  \n",
       "0  2017-06-01  18015.00  8.905091  0.265265  \n",
       "1  2017-06-01  18015.00  8.905091  0.027250  \n",
       "2  2017-06-01  18015.00  8.905091  0.024572  \n",
       "3  2017-06-01  18015.00  8.905091  0.053603  \n",
       "4  2017-06-01  18015.00  8.905091  0.057413  \n",
       "..        ...       ...       ...       ...  \n",
       "73 2018-03-01  30415.27  8.608907  0.017476  \n",
       "74 2018-03-01  30415.27  8.608907  0.018327  \n",
       "75 2018-04-01  22289.38  9.793225  0.237797  \n",
       "76 2018-04-01  22289.38  9.793225  0.027141  \n",
       "77 2018-05-01  22224.27  7.437841  0.313301  \n",
       "\n",
       "[78 rows x 11 columns]"
      ]
     },
     "execution_count": 130,
     "metadata": {},
     "output_type": "execute_result"
    }
   ],
   "source": [
    "report_2"
   ]
  },
  {
   "cell_type": "code",
   "execution_count": 127,
   "metadata": {},
   "outputs": [
    {
     "data": {
      "text/plain": [
       "<matplotlib.axes._subplots.AxesSubplot at 0x7f33071c8150>"
      ]
     },
     "execution_count": 127,
     "metadata": {},
     "output_type": "execute_result"
    },
    {
     "data": {
      "image/png": "[encoded data removed]",
      "text/plain": [
       "<Figure size 936x648 with 2 Axes>"
      ]
     },
     "metadata": {
      "needs_background": "light"
     },
     "output_type": "display_data"
    }
   ],
   "source": [
    "import seaborn as sns\n",
    "from matplotlib import pyplot as plt\n",
    "plt.figure(figsize=(13, 9))\n",
    "plt.title('ROMI Per Cohort')\n",
    "sns.heatmap(output_graph, annot=True, fmt='.1f', linewidths=1, linecolor='gray')"
   ]
  },
  {
   "cell_type": "markdown",
   "metadata": {},
   "source": [
    "- The Cohorts did not really pay back for the costs."
   ]
  },
  {
   "cell_type": "markdown",
   "metadata": {},
   "source": [
    "## Step 3. Write a conclusion \n",
    "- After looking at the different metrics I have concluded that we want to focus on the months of October, November, and December to attract visitors. This is probably because these months are considered big holiday months with Christmas coming and so ordering during those months are big.\n",
    "- I also would continue to use our marketing source 4 since it brought a nice number of visitors at 83525 which was the most out of any of the sources and its cac at .73 and romi at .70 were very close compared to other sources. \n",
    "- Source 1 is the best source to use for marketing as it does have a good return on marketing investment at 2.15 which is more than the other sources.\n",
    "- Even though it may seem that the Source may have been worthwhile to use we see when looking at Cohorts that the return on investment was not actually good for any of the groups and we probably need to think about our costs acquiring users when we use these sources again."
   ]
  }
 ],
 "metadata": {
  "kernelspec": {
   "display_name": "Python 3",
   "language": "python",
   "name": "python3"
  },
  "language_info": {
   "codemirror_mode": {
    "name": "ipython",
    "version": 3
   },
   "file_extension": ".py",
   "mimetype": "text/x-python",
   "name": "python",
   "nbconvert_exporter": "python",
   "pygments_lexer": "ipython3",
   "version": "3.7.6"
  }
 },
 "nbformat": 4,
 "nbformat_minor": 4
}
