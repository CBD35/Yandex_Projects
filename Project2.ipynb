{
 "cells": [
  {
   "cell_type": "markdown",
   "metadata": {},
   "source": [
    "# Research on apartment sales ads\n",
    "\n",
    "You will have the data from a real estate agency. It is an archive of sales ads for realty in St. Petersburg, Russia, and the surrounding areas collected over the past few years. You’ll need to learn how to determine the market value of real estate properties. Your task is to define the parameters. This will make it possible to build an automated system that is capable of detecting anomalies and fraudulent activity.\n",
    "\n",
    "There are two different types of data available for every apartment for sale. The first type is a user’s input. The second type is received automatically based upon the map data. For example, the distance from the city center, airport, the nearest park or body of water. "
   ]
  },
  {
   "cell_type": "markdown",
   "metadata": {},
   "source": [
    "### Step 1. Open the data file and study the general information. "
   ]
  },
  {
   "cell_type": "code",
   "execution_count": 1,
   "metadata": {},
   "outputs": [],
   "source": [
    "import pandas\n",
    "import pandas as pd\n",
    "import numpy as np\n",
    "import matplotlib.pyplot as plt\n",
    "\n",
    "data = pd.read_csv('/datasets/real_estate_data_us.csv', sep='\\t')"
   ]
  },
  {
   "cell_type": "markdown",
   "metadata": {},
   "source": [
    "uploaded file and read it but it came out all together so had to separate it and used the function sep=\n",
    "Also added library to be able to create graphs"
   ]
  },
  {
   "cell_type": "code",
   "execution_count": 2,
   "metadata": {},
   "outputs": [
    {
     "name": "stdout",
     "output_type": "stream",
     "text": [
      "<class 'pandas.core.frame.DataFrame'>\n",
      "RangeIndex: 23699 entries, 0 to 23698\n",
      "Data columns (total 22 columns):\n",
      "date_posted          23699 non-null object\n",
      "days_listed          20518 non-null float64\n",
      "last_price           23699 non-null float64\n",
      "bedrooms             23699 non-null int64\n",
      "kitchen_area         21421 non-null float64\n",
      "living_area          21796 non-null float64\n",
      "total_area           23699 non-null float64\n",
      "balconies            12180 non-null float64\n",
      "ceiling_height       14504 non-null float64\n",
      "floors_total         23613 non-null float64\n",
      "floor                23699 non-null int64\n",
      "total_images         23699 non-null int64\n",
      "bike_parking         2775 non-null object\n",
      "is_studio            23699 non-null bool\n",
      "is_open_plan         23699 non-null bool\n",
      "locality_name        23650 non-null object\n",
      "airport_dist         18157 non-null float64\n",
      "city_center_dist     18180 non-null float64\n",
      "park_dist            8079 non-null float64\n",
      "parks_within_3000    18181 non-null float64\n",
      "pond_dist            9110 non-null float64\n",
      "ponds_within_3000    18181 non-null float64\n",
      "dtypes: bool(2), float64(14), int64(3), object(3)\n",
      "memory usage: 3.7+ MB\n"
     ]
    }
   ],
   "source": [
    "data.info()\n"
   ]
  },
  {
   "cell_type": "markdown",
   "metadata": {},
   "source": [
    "There are 23699 entries of data. days_listed has only 20518, kitchen_area has only 21421, living_area has only 21796, balconies has only 12180, ceiling-height has only 14504, floors_total has only 23613, bike-parking has only 2775, locality_name has only 23650, airport_dist has only 18157, city_center_dist has only 18180, park_dist has only 8079, parks_within_3000 has only 18181, pond_dist has only 9110, and ponds_within_3000 has only 18181"
   ]
  },
  {
   "cell_type": "code",
   "execution_count": 3,
   "metadata": {},
   "outputs": [
    {
     "data": {
      "text/html": [
       "<div>\n",
       "<style scoped>\n",
       "    .dataframe tbody tr th:only-of-type {\n",
       "        vertical-align: middle;\n",
       "    }\n",
       "\n",
       "    .dataframe tbody tr th {\n",
       "        vertical-align: top;\n",
       "    }\n",
       "\n",
       "    .dataframe thead th {\n",
       "        text-align: right;\n",
       "    }\n",
       "</style>\n",
       "<table border=\"1\" class=\"dataframe\">\n",
       "  <thead>\n",
       "    <tr style=\"text-align: right;\">\n",
       "      <th></th>\n",
       "      <th>date_posted</th>\n",
       "      <th>days_listed</th>\n",
       "      <th>last_price</th>\n",
       "      <th>bedrooms</th>\n",
       "      <th>kitchen_area</th>\n",
       "      <th>living_area</th>\n",
       "      <th>total_area</th>\n",
       "      <th>balconies</th>\n",
       "      <th>ceiling_height</th>\n",
       "      <th>floors_total</th>\n",
       "      <th>...</th>\n",
       "      <th>bike_parking</th>\n",
       "      <th>is_studio</th>\n",
       "      <th>is_open_plan</th>\n",
       "      <th>locality_name</th>\n",
       "      <th>airport_dist</th>\n",
       "      <th>city_center_dist</th>\n",
       "      <th>park_dist</th>\n",
       "      <th>parks_within_3000</th>\n",
       "      <th>pond_dist</th>\n",
       "      <th>ponds_within_3000</th>\n",
       "    </tr>\n",
       "  </thead>\n",
       "  <tbody>\n",
       "    <tr>\n",
       "      <td>0</td>\n",
       "      <td>2019-03-07T00:00:00</td>\n",
       "      <td>NaN</td>\n",
       "      <td>260000.0</td>\n",
       "      <td>3</td>\n",
       "      <td>25.0</td>\n",
       "      <td>51.0</td>\n",
       "      <td>108.0</td>\n",
       "      <td>NaN</td>\n",
       "      <td>2.70</td>\n",
       "      <td>16.0</td>\n",
       "      <td>...</td>\n",
       "      <td>NaN</td>\n",
       "      <td>False</td>\n",
       "      <td>False</td>\n",
       "      <td>Saint Petersburg</td>\n",
       "      <td>18863.0</td>\n",
       "      <td>16028.0</td>\n",
       "      <td>482.0</td>\n",
       "      <td>1.0</td>\n",
       "      <td>755.0</td>\n",
       "      <td>2.0</td>\n",
       "    </tr>\n",
       "    <tr>\n",
       "      <td>1</td>\n",
       "      <td>2018-12-04T00:00:00</td>\n",
       "      <td>81.0</td>\n",
       "      <td>67000.0</td>\n",
       "      <td>1</td>\n",
       "      <td>11.0</td>\n",
       "      <td>18.6</td>\n",
       "      <td>40.4</td>\n",
       "      <td>2.0</td>\n",
       "      <td>NaN</td>\n",
       "      <td>11.0</td>\n",
       "      <td>...</td>\n",
       "      <td>NaN</td>\n",
       "      <td>False</td>\n",
       "      <td>False</td>\n",
       "      <td>Shushary village</td>\n",
       "      <td>12817.0</td>\n",
       "      <td>18603.0</td>\n",
       "      <td>NaN</td>\n",
       "      <td>0.0</td>\n",
       "      <td>NaN</td>\n",
       "      <td>0.0</td>\n",
       "    </tr>\n",
       "    <tr>\n",
       "      <td>2</td>\n",
       "      <td>2015-08-20T00:00:00</td>\n",
       "      <td>558.0</td>\n",
       "      <td>103920.0</td>\n",
       "      <td>2</td>\n",
       "      <td>8.3</td>\n",
       "      <td>34.3</td>\n",
       "      <td>56.0</td>\n",
       "      <td>0.0</td>\n",
       "      <td>NaN</td>\n",
       "      <td>5.0</td>\n",
       "      <td>...</td>\n",
       "      <td>NaN</td>\n",
       "      <td>False</td>\n",
       "      <td>False</td>\n",
       "      <td>Saint Petersburg</td>\n",
       "      <td>21741.0</td>\n",
       "      <td>13933.0</td>\n",
       "      <td>90.0</td>\n",
       "      <td>1.0</td>\n",
       "      <td>574.0</td>\n",
       "      <td>2.0</td>\n",
       "    </tr>\n",
       "    <tr>\n",
       "      <td>3</td>\n",
       "      <td>2015-07-24T00:00:00</td>\n",
       "      <td>424.0</td>\n",
       "      <td>1298000.0</td>\n",
       "      <td>3</td>\n",
       "      <td>NaN</td>\n",
       "      <td>NaN</td>\n",
       "      <td>159.0</td>\n",
       "      <td>0.0</td>\n",
       "      <td>NaN</td>\n",
       "      <td>14.0</td>\n",
       "      <td>...</td>\n",
       "      <td>NaN</td>\n",
       "      <td>False</td>\n",
       "      <td>False</td>\n",
       "      <td>Saint Petersburg</td>\n",
       "      <td>28098.0</td>\n",
       "      <td>6800.0</td>\n",
       "      <td>84.0</td>\n",
       "      <td>2.0</td>\n",
       "      <td>234.0</td>\n",
       "      <td>3.0</td>\n",
       "    </tr>\n",
       "    <tr>\n",
       "      <td>4</td>\n",
       "      <td>2018-06-19T00:00:00</td>\n",
       "      <td>121.0</td>\n",
       "      <td>200000.0</td>\n",
       "      <td>2</td>\n",
       "      <td>41.0</td>\n",
       "      <td>32.0</td>\n",
       "      <td>100.0</td>\n",
       "      <td>NaN</td>\n",
       "      <td>3.03</td>\n",
       "      <td>14.0</td>\n",
       "      <td>...</td>\n",
       "      <td>NaN</td>\n",
       "      <td>False</td>\n",
       "      <td>False</td>\n",
       "      <td>Saint Petersburg</td>\n",
       "      <td>31856.0</td>\n",
       "      <td>8098.0</td>\n",
       "      <td>112.0</td>\n",
       "      <td>2.0</td>\n",
       "      <td>48.0</td>\n",
       "      <td>1.0</td>\n",
       "    </tr>\n",
       "  </tbody>\n",
       "</table>\n",
       "<p>5 rows × 22 columns</p>\n",
       "</div>"
      ],
      "text/plain": [
       "           date_posted  days_listed  last_price  bedrooms  kitchen_area  \\\n",
       "0  2019-03-07T00:00:00          NaN    260000.0         3          25.0   \n",
       "1  2018-12-04T00:00:00         81.0     67000.0         1          11.0   \n",
       "2  2015-08-20T00:00:00        558.0    103920.0         2           8.3   \n",
       "3  2015-07-24T00:00:00        424.0   1298000.0         3           NaN   \n",
       "4  2018-06-19T00:00:00        121.0    200000.0         2          41.0   \n",
       "\n",
       "   living_area  total_area  balconies  ceiling_height  floors_total  ...  \\\n",
       "0         51.0       108.0        NaN            2.70          16.0  ...   \n",
       "1         18.6        40.4        2.0             NaN          11.0  ...   \n",
       "2         34.3        56.0        0.0             NaN           5.0  ...   \n",
       "3          NaN       159.0        0.0             NaN          14.0  ...   \n",
       "4         32.0       100.0        NaN            3.03          14.0  ...   \n",
       "\n",
       "   bike_parking  is_studio is_open_plan     locality_name  airport_dist  \\\n",
       "0           NaN      False        False  Saint Petersburg       18863.0   \n",
       "1           NaN      False        False  Shushary village       12817.0   \n",
       "2           NaN      False        False  Saint Petersburg       21741.0   \n",
       "3           NaN      False        False  Saint Petersburg       28098.0   \n",
       "4           NaN      False        False  Saint Petersburg       31856.0   \n",
       "\n",
       "  city_center_dist  park_dist  parks_within_3000  pond_dist  ponds_within_3000  \n",
       "0          16028.0      482.0                1.0      755.0                2.0  \n",
       "1          18603.0        NaN                0.0        NaN                0.0  \n",
       "2          13933.0       90.0                1.0      574.0                2.0  \n",
       "3           6800.0       84.0                2.0      234.0                3.0  \n",
       "4           8098.0      112.0                2.0       48.0                1.0  \n",
       "\n",
       "[5 rows x 22 columns]"
      ]
     },
     "execution_count": 3,
     "metadata": {},
     "output_type": "execute_result"
    }
   ],
   "source": [
    "data.head()"
   ]
  },
  {
   "cell_type": "markdown",
   "metadata": {},
   "source": [
    "Most of the data is float type and will need to change some data to integer"
   ]
  },
  {
   "cell_type": "code",
   "execution_count": 4,
   "metadata": {},
   "outputs": [
    {
     "data": {
      "text/html": [
       "<div>\n",
       "<style scoped>\n",
       "    .dataframe tbody tr th:only-of-type {\n",
       "        vertical-align: middle;\n",
       "    }\n",
       "\n",
       "    .dataframe tbody tr th {\n",
       "        vertical-align: top;\n",
       "    }\n",
       "\n",
       "    .dataframe thead th {\n",
       "        text-align: right;\n",
       "    }\n",
       "</style>\n",
       "<table border=\"1\" class=\"dataframe\">\n",
       "  <thead>\n",
       "    <tr style=\"text-align: right;\">\n",
       "      <th></th>\n",
       "      <th>days_listed</th>\n",
       "      <th>last_price</th>\n",
       "      <th>bedrooms</th>\n",
       "      <th>kitchen_area</th>\n",
       "      <th>living_area</th>\n",
       "      <th>total_area</th>\n",
       "      <th>balconies</th>\n",
       "      <th>ceiling_height</th>\n",
       "      <th>floors_total</th>\n",
       "      <th>floor</th>\n",
       "      <th>total_images</th>\n",
       "      <th>airport_dist</th>\n",
       "      <th>city_center_dist</th>\n",
       "      <th>park_dist</th>\n",
       "      <th>parks_within_3000</th>\n",
       "      <th>pond_dist</th>\n",
       "      <th>ponds_within_3000</th>\n",
       "    </tr>\n",
       "  </thead>\n",
       "  <tbody>\n",
       "    <tr>\n",
       "      <td>count</td>\n",
       "      <td>20518.000000</td>\n",
       "      <td>2.369900e+04</td>\n",
       "      <td>23699.000000</td>\n",
       "      <td>21421.000000</td>\n",
       "      <td>21796.000000</td>\n",
       "      <td>23699.000000</td>\n",
       "      <td>12180.000000</td>\n",
       "      <td>14504.000000</td>\n",
       "      <td>23613.000000</td>\n",
       "      <td>23699.000000</td>\n",
       "      <td>23699.000000</td>\n",
       "      <td>18157.000000</td>\n",
       "      <td>18180.000000</td>\n",
       "      <td>8079.000000</td>\n",
       "      <td>18181.000000</td>\n",
       "      <td>9110.000000</td>\n",
       "      <td>18181.000000</td>\n",
       "    </tr>\n",
       "    <tr>\n",
       "      <td>mean</td>\n",
       "      <td>180.888634</td>\n",
       "      <td>1.308310e+05</td>\n",
       "      <td>2.070636</td>\n",
       "      <td>10.569807</td>\n",
       "      <td>34.457852</td>\n",
       "      <td>60.348651</td>\n",
       "      <td>1.150082</td>\n",
       "      <td>2.771499</td>\n",
       "      <td>10.673824</td>\n",
       "      <td>5.892358</td>\n",
       "      <td>9.858475</td>\n",
       "      <td>28793.672193</td>\n",
       "      <td>14191.277833</td>\n",
       "      <td>490.804555</td>\n",
       "      <td>0.611408</td>\n",
       "      <td>517.980900</td>\n",
       "      <td>0.770255</td>\n",
       "    </tr>\n",
       "    <tr>\n",
       "      <td>std</td>\n",
       "      <td>219.727988</td>\n",
       "      <td>2.177403e+05</td>\n",
       "      <td>1.078405</td>\n",
       "      <td>5.905438</td>\n",
       "      <td>22.030445</td>\n",
       "      <td>35.654083</td>\n",
       "      <td>1.071300</td>\n",
       "      <td>1.261056</td>\n",
       "      <td>6.597173</td>\n",
       "      <td>4.885249</td>\n",
       "      <td>5.682529</td>\n",
       "      <td>12630.880622</td>\n",
       "      <td>8608.386210</td>\n",
       "      <td>342.317995</td>\n",
       "      <td>0.802074</td>\n",
       "      <td>277.720643</td>\n",
       "      <td>0.938346</td>\n",
       "    </tr>\n",
       "    <tr>\n",
       "      <td>min</td>\n",
       "      <td>1.000000</td>\n",
       "      <td>2.440000e+02</td>\n",
       "      <td>0.000000</td>\n",
       "      <td>1.300000</td>\n",
       "      <td>2.000000</td>\n",
       "      <td>12.000000</td>\n",
       "      <td>0.000000</td>\n",
       "      <td>1.000000</td>\n",
       "      <td>1.000000</td>\n",
       "      <td>1.000000</td>\n",
       "      <td>0.000000</td>\n",
       "      <td>0.000000</td>\n",
       "      <td>181.000000</td>\n",
       "      <td>1.000000</td>\n",
       "      <td>0.000000</td>\n",
       "      <td>13.000000</td>\n",
       "      <td>0.000000</td>\n",
       "    </tr>\n",
       "    <tr>\n",
       "      <td>25%</td>\n",
       "      <td>45.000000</td>\n",
       "      <td>6.800000e+04</td>\n",
       "      <td>1.000000</td>\n",
       "      <td>7.000000</td>\n",
       "      <td>18.600000</td>\n",
       "      <td>40.000000</td>\n",
       "      <td>0.000000</td>\n",
       "      <td>2.520000</td>\n",
       "      <td>5.000000</td>\n",
       "      <td>2.000000</td>\n",
       "      <td>6.000000</td>\n",
       "      <td>18585.000000</td>\n",
       "      <td>9238.000000</td>\n",
       "      <td>288.000000</td>\n",
       "      <td>0.000000</td>\n",
       "      <td>294.000000</td>\n",
       "      <td>0.000000</td>\n",
       "    </tr>\n",
       "    <tr>\n",
       "      <td>50%</td>\n",
       "      <td>95.000000</td>\n",
       "      <td>9.300000e+04</td>\n",
       "      <td>2.000000</td>\n",
       "      <td>9.100000</td>\n",
       "      <td>30.000000</td>\n",
       "      <td>52.000000</td>\n",
       "      <td>1.000000</td>\n",
       "      <td>2.650000</td>\n",
       "      <td>9.000000</td>\n",
       "      <td>4.000000</td>\n",
       "      <td>9.000000</td>\n",
       "      <td>26726.000000</td>\n",
       "      <td>13098.500000</td>\n",
       "      <td>455.000000</td>\n",
       "      <td>0.000000</td>\n",
       "      <td>502.000000</td>\n",
       "      <td>1.000000</td>\n",
       "    </tr>\n",
       "    <tr>\n",
       "      <td>75%</td>\n",
       "      <td>232.000000</td>\n",
       "      <td>1.360000e+05</td>\n",
       "      <td>3.000000</td>\n",
       "      <td>12.000000</td>\n",
       "      <td>42.300000</td>\n",
       "      <td>69.900000</td>\n",
       "      <td>2.000000</td>\n",
       "      <td>2.800000</td>\n",
       "      <td>16.000000</td>\n",
       "      <td>8.000000</td>\n",
       "      <td>14.000000</td>\n",
       "      <td>37273.000000</td>\n",
       "      <td>16293.000000</td>\n",
       "      <td>612.000000</td>\n",
       "      <td>1.000000</td>\n",
       "      <td>729.000000</td>\n",
       "      <td>1.000000</td>\n",
       "    </tr>\n",
       "    <tr>\n",
       "      <td>max</td>\n",
       "      <td>1580.000000</td>\n",
       "      <td>1.526000e+07</td>\n",
       "      <td>19.000000</td>\n",
       "      <td>112.000000</td>\n",
       "      <td>409.700000</td>\n",
       "      <td>900.000000</td>\n",
       "      <td>5.000000</td>\n",
       "      <td>100.000000</td>\n",
       "      <td>60.000000</td>\n",
       "      <td>33.000000</td>\n",
       "      <td>50.000000</td>\n",
       "      <td>84869.000000</td>\n",
       "      <td>65968.000000</td>\n",
       "      <td>3190.000000</td>\n",
       "      <td>3.000000</td>\n",
       "      <td>1344.000000</td>\n",
       "      <td>3.000000</td>\n",
       "    </tr>\n",
       "  </tbody>\n",
       "</table>\n",
       "</div>"
      ],
      "text/plain": [
       "        days_listed    last_price      bedrooms  kitchen_area   living_area  \\\n",
       "count  20518.000000  2.369900e+04  23699.000000  21421.000000  21796.000000   \n",
       "mean     180.888634  1.308310e+05      2.070636     10.569807     34.457852   \n",
       "std      219.727988  2.177403e+05      1.078405      5.905438     22.030445   \n",
       "min        1.000000  2.440000e+02      0.000000      1.300000      2.000000   \n",
       "25%       45.000000  6.800000e+04      1.000000      7.000000     18.600000   \n",
       "50%       95.000000  9.300000e+04      2.000000      9.100000     30.000000   \n",
       "75%      232.000000  1.360000e+05      3.000000     12.000000     42.300000   \n",
       "max     1580.000000  1.526000e+07     19.000000    112.000000    409.700000   \n",
       "\n",
       "         total_area     balconies  ceiling_height  floors_total         floor  \\\n",
       "count  23699.000000  12180.000000    14504.000000  23613.000000  23699.000000   \n",
       "mean      60.348651      1.150082        2.771499     10.673824      5.892358   \n",
       "std       35.654083      1.071300        1.261056      6.597173      4.885249   \n",
       "min       12.000000      0.000000        1.000000      1.000000      1.000000   \n",
       "25%       40.000000      0.000000        2.520000      5.000000      2.000000   \n",
       "50%       52.000000      1.000000        2.650000      9.000000      4.000000   \n",
       "75%       69.900000      2.000000        2.800000     16.000000      8.000000   \n",
       "max      900.000000      5.000000      100.000000     60.000000     33.000000   \n",
       "\n",
       "       total_images  airport_dist  city_center_dist    park_dist  \\\n",
       "count  23699.000000  18157.000000      18180.000000  8079.000000   \n",
       "mean       9.858475  28793.672193      14191.277833   490.804555   \n",
       "std        5.682529  12630.880622       8608.386210   342.317995   \n",
       "min        0.000000      0.000000        181.000000     1.000000   \n",
       "25%        6.000000  18585.000000       9238.000000   288.000000   \n",
       "50%        9.000000  26726.000000      13098.500000   455.000000   \n",
       "75%       14.000000  37273.000000      16293.000000   612.000000   \n",
       "max       50.000000  84869.000000      65968.000000  3190.000000   \n",
       "\n",
       "       parks_within_3000    pond_dist  ponds_within_3000  \n",
       "count       18181.000000  9110.000000       18181.000000  \n",
       "mean            0.611408   517.980900           0.770255  \n",
       "std             0.802074   277.720643           0.938346  \n",
       "min             0.000000    13.000000           0.000000  \n",
       "25%             0.000000   294.000000           0.000000  \n",
       "50%             0.000000   502.000000           1.000000  \n",
       "75%             1.000000   729.000000           1.000000  \n",
       "max             3.000000  1344.000000           3.000000  "
      ]
     },
     "execution_count": 4,
     "metadata": {},
     "output_type": "execute_result"
    }
   ],
   "source": [
    "data.describe()"
   ]
  },
  {
   "cell_type": "markdown",
   "metadata": {},
   "source": [
    "0 bedrooms must be studios.  \n",
    "Weird data is ceiling_height of 1 and 100 meters\n",
    "Also total_area of 900 square meters\n",
    "That is one huge property!\n"
   ]
  },
  {
   "cell_type": "code",
   "execution_count": 5,
   "metadata": {},
   "outputs": [
    {
     "data": {
      "text/plain": [
       "date_posted              0\n",
       "days_listed           3181\n",
       "last_price               0\n",
       "bedrooms                 0\n",
       "kitchen_area          2278\n",
       "living_area           1903\n",
       "total_area               0\n",
       "balconies            11519\n",
       "ceiling_height        9195\n",
       "floors_total            86\n",
       "floor                    0\n",
       "total_images             0\n",
       "bike_parking         20924\n",
       "is_studio                0\n",
       "is_open_plan             0\n",
       "locality_name           49\n",
       "airport_dist          5542\n",
       "city_center_dist      5519\n",
       "park_dist            15620\n",
       "parks_within_3000     5518\n",
       "pond_dist            14589\n",
       "ponds_within_3000     5518\n",
       "dtype: int64"
      ]
     },
     "execution_count": 5,
     "metadata": {},
     "output_type": "execute_result"
    }
   ],
   "source": [
    "data.isnull().sum()"
   ]
  },
  {
   "cell_type": "markdown",
   "metadata": {},
   "source": [
    "There are a lot of missing values here. The mapping distances must have not done the best job because it has a lot of missing data. We really only need city_center_dist for our analysis though"
   ]
  },
  {
   "cell_type": "code",
   "execution_count": 6,
   "metadata": {},
   "outputs": [
    {
     "data": {
      "text/plain": [
       "0"
      ]
     },
     "execution_count": 6,
     "metadata": {},
     "output_type": "execute_result"
    }
   ],
   "source": [
    "data.duplicated().sum()"
   ]
  },
  {
   "cell_type": "markdown",
   "metadata": {},
   "source": [
    "No duplicates"
   ]
  },
  {
   "cell_type": "markdown",
   "metadata": {},
   "source": [
    "### Conclusion"
   ]
  },
  {
   "cell_type": "markdown",
   "metadata": {},
   "source": [
    "I checked the data. There are no duplications. \n",
    "\n",
    "There are missing values in days_listed which I decided to leave because it may be that the properties were just not sold yet and I can still make calculations with it since it is float\n",
    "\n",
    "There are missing values in kitchen_area and living_area. I need them for ana\n",
    "\n",
    "There are missing values in balconies. I will assume that this means the property does not have a balcony and will fill in the values with 0. Same with bik_parking where there is no parking for bikes by the property.\n",
    "\n",
    "There are missing values in ceiling_height. \n",
    "\n",
    "There are missing values in floors_total. I will assumed that the missing value is 1 because the floor is probably ground level\n",
    "\n",
    "There are missing values in locality_name. I will leave this blank since it is negligible for our data since most important is St. Petersburg which already has a significant number of values for our data.\n",
    "\n",
    "\n",
    "\n"
   ]
  },
  {
   "cell_type": "markdown",
   "metadata": {},
   "source": [
    "### Step 2. Data preprocessing"
   ]
  },
  {
   "cell_type": "code",
   "execution_count": 7,
   "metadata": {},
   "outputs": [],
   "source": [
    "data['balconies'] = data['balconies'].fillna(0)"
   ]
  },
  {
   "cell_type": "code",
   "execution_count": 8,
   "metadata": {},
   "outputs": [],
   "source": [
    "data['bike_parking'] = data['bike_parking'].fillna(0)"
   ]
  },
  {
   "cell_type": "code",
   "execution_count": 9,
   "metadata": {},
   "outputs": [
    {
     "data": {
      "text/plain": [
       "0"
      ]
     },
     "execution_count": 9,
     "metadata": {},
     "output_type": "execute_result"
    }
   ],
   "source": [
    "data['bike_parking'].isnull().sum()"
   ]
  },
  {
   "cell_type": "code",
   "execution_count": 10,
   "metadata": {},
   "outputs": [
    {
     "data": {
      "text/plain": [
       "0"
      ]
     },
     "execution_count": 10,
     "metadata": {},
     "output_type": "execute_result"
    }
   ],
   "source": [
    "data['balconies'].isnull().sum()"
   ]
  },
  {
   "cell_type": "markdown",
   "metadata": {},
   "source": [
    "Filled balconies and bike_parking column with 0 and came back with no missing values."
   ]
  },
  {
   "cell_type": "code",
   "execution_count": 11,
   "metadata": {},
   "outputs": [],
   "source": [
    "data['floors_total'] = data['floors_total'].fillna(1)"
   ]
  },
  {
   "cell_type": "code",
   "execution_count": 12,
   "metadata": {},
   "outputs": [
    {
     "data": {
      "text/plain": [
       "0"
      ]
     },
     "execution_count": 12,
     "metadata": {},
     "output_type": "execute_result"
    }
   ],
   "source": [
    "data['floors_total'].isnull().sum()"
   ]
  },
  {
   "cell_type": "markdown",
   "metadata": {},
   "source": [
    "Filled floors total column with 1 for ground floor and came back with no missing values"
   ]
  },
  {
   "cell_type": "code",
   "execution_count": 13,
   "metadata": {},
   "outputs": [],
   "source": [
    "data['bedrooms'] = data['bedrooms'].replace(0,1) "
   ]
  },
  {
   "cell_type": "markdown",
   "metadata": {},
   "source": [
    "Replaced all bedrooms values that had 0 to 1 because I consider 1 room to be studio and whoever filled out may have thought 0 is appropriate for a studio but I would like to consider bedrooms to only start with 1"
   ]
  },
  {
   "cell_type": "code",
   "execution_count": 14,
   "metadata": {},
   "outputs": [],
   "source": [
    "data['city_center_dist']= data['city_center_dist'].fillna(data.groupby('locality_name')['city_center_dist'].transform('mean'),inplace=True)"
   ]
  },
  {
   "cell_type": "markdown",
   "metadata": {},
   "source": [
    "Filled values for city center dist. Was not able to fill them all."
   ]
  },
  {
   "cell_type": "code",
   "execution_count": 15,
   "metadata": {},
   "outputs": [
    {
     "data": {
      "text/plain": [
       "4872"
      ]
     },
     "execution_count": 15,
     "metadata": {},
     "output_type": "execute_result"
    }
   ],
   "source": [
    "data['city_center_dist'].isnull().sum()"
   ]
  },
  {
   "cell_type": "code",
   "execution_count": 16,
   "metadata": {},
   "outputs": [
    {
     "name": "stdout",
     "output_type": "stream",
     "text": [
      "647\n"
     ]
    }
   ],
   "source": [
    "null_diff = 5519 - 4872\n",
    "print(null_diff)"
   ]
  },
  {
   "cell_type": "markdown",
   "metadata": {},
   "source": [
    "Was able to fill 647 rows with the average for city center dist column baed on locality name"
   ]
  },
  {
   "cell_type": "code",
   "execution_count": 17,
   "metadata": {},
   "outputs": [],
   "source": [
    "data['kitchen_area'] = np.where(data['is_studio'] == True, data['kitchen_area'].fillna(value='0'), data['kitchen_area'])\n",
    "data['kitchen_area'] = data['kitchen_area'].fillna(value='0')"
   ]
  },
  {
   "cell_type": "code",
   "execution_count": 18,
   "metadata": {},
   "outputs": [],
   "source": [
    "data['living_area'] = np.where(data['is_studio'] == True, data['living_area'].fillna(data['total_area']), data['living_area'])\n",
    "data['living_area'].fillna(data.groupby('bedrooms')['living_area'].transform('median'),inplace=True)"
   ]
  },
  {
   "cell_type": "code",
   "execution_count": 19,
   "metadata": {},
   "outputs": [
    {
     "data": {
      "text/plain": [
       "date_posted              0\n",
       "days_listed           3181\n",
       "last_price               0\n",
       "bedrooms                 0\n",
       "kitchen_area             0\n",
       "living_area              0\n",
       "total_area               0\n",
       "balconies                0\n",
       "ceiling_height        9195\n",
       "floors_total             0\n",
       "floor                    0\n",
       "total_images             0\n",
       "bike_parking             0\n",
       "is_studio                0\n",
       "is_open_plan             0\n",
       "locality_name           49\n",
       "airport_dist          5542\n",
       "city_center_dist      4872\n",
       "park_dist            15620\n",
       "parks_within_3000     5518\n",
       "pond_dist            14589\n",
       "ponds_within_3000     5518\n",
       "dtype: int64"
      ]
     },
     "execution_count": 19,
     "metadata": {},
     "output_type": "execute_result"
    }
   ],
   "source": [
    "data.isnull().sum()"
   ]
  },
  {
   "cell_type": "markdown",
   "metadata": {},
   "source": [
    "I'm still left with many missing values but most of these I will not need for my analysis"
   ]
  },
  {
   "cell_type": "markdown",
   "metadata": {},
   "source": [
    "### 2.1 Data type replacement"
   ]
  },
  {
   "cell_type": "code",
   "execution_count": 20,
   "metadata": {},
   "outputs": [],
   "source": [
    "data['date_posted'] = pd.to_datetime(data['date_posted'])"
   ]
  },
  {
   "cell_type": "markdown",
   "metadata": {},
   "source": [
    "Changed date_posted column to datetime which will make it easier to break it down later into columns for weekday, month, and year"
   ]
  },
  {
   "cell_type": "code",
   "execution_count": 21,
   "metadata": {},
   "outputs": [],
   "source": [
    "data['last_price'] = data['last_price'].astype('int')"
   ]
  },
  {
   "cell_type": "markdown",
   "metadata": {},
   "source": [
    "Changed last price to integer datatype"
   ]
  },
  {
   "cell_type": "code",
   "execution_count": 22,
   "metadata": {},
   "outputs": [],
   "source": [
    "data['total_area'] = data['total_area'].astype('int')"
   ]
  },
  {
   "cell_type": "markdown",
   "metadata": {},
   "source": [
    "changed total area to integer datatype"
   ]
  },
  {
   "cell_type": "code",
   "execution_count": 23,
   "metadata": {},
   "outputs": [],
   "source": [
    "data['balconies'] = data['balconies'].astype('int')"
   ]
  },
  {
   "cell_type": "markdown",
   "metadata": {},
   "source": [
    "changed balconies to integer datatype"
   ]
  },
  {
   "cell_type": "code",
   "execution_count": 24,
   "metadata": {},
   "outputs": [],
   "source": [
    "data['floors_total'] = data['floors_total'].astype('int')"
   ]
  },
  {
   "cell_type": "markdown",
   "metadata": {},
   "source": [
    "changed floors total to integer datatype"
   ]
  },
  {
   "cell_type": "code",
   "execution_count": 25,
   "metadata": {},
   "outputs": [],
   "source": [
    "data['kitchen_area'] = data['kitchen_area'].astype('int')"
   ]
  },
  {
   "cell_type": "markdown",
   "metadata": {},
   "source": [
    "changed kitchen area to integer datatype"
   ]
  },
  {
   "cell_type": "code",
   "execution_count": 26,
   "metadata": {},
   "outputs": [
    {
     "data": {
      "text/plain": [
       "date_posted          datetime64[ns]\n",
       "days_listed                 float64\n",
       "last_price                    int64\n",
       "bedrooms                      int64\n",
       "kitchen_area                  int64\n",
       "living_area                 float64\n",
       "total_area                    int64\n",
       "balconies                     int64\n",
       "ceiling_height              float64\n",
       "floors_total                  int64\n",
       "floor                         int64\n",
       "total_images                  int64\n",
       "bike_parking                 object\n",
       "is_studio                      bool\n",
       "is_open_plan                   bool\n",
       "locality_name                object\n",
       "airport_dist                float64\n",
       "city_center_dist            float64\n",
       "park_dist                   float64\n",
       "parks_within_3000           float64\n",
       "pond_dist                   float64\n",
       "ponds_within_3000           float64\n",
       "dtype: object"
      ]
     },
     "execution_count": 26,
     "metadata": {},
     "output_type": "execute_result"
    }
   ],
   "source": [
    "data.dtypes"
   ]
  },
  {
   "cell_type": "markdown",
   "metadata": {},
   "source": [
    "Showing changes of datatypes"
   ]
  },
  {
   "cell_type": "markdown",
   "metadata": {},
   "source": [
    "### Step 3. Make calculations and add them to the table"
   ]
  },
  {
   "cell_type": "code",
   "execution_count": 27,
   "metadata": {},
   "outputs": [],
   "source": [
    "data['price_per_square_meter'] = data['last_price']/data['total_area']        "
   ]
  },
  {
   "cell_type": "markdown",
   "metadata": {},
   "source": [
    "Created column with price per square meter calculation"
   ]
  },
  {
   "cell_type": "code",
   "execution_count": 28,
   "metadata": {},
   "outputs": [],
   "source": [
    "data['weekday_posted'] = data['date_posted'].dt.weekday"
   ]
  },
  {
   "cell_type": "code",
   "execution_count": 29,
   "metadata": {},
   "outputs": [],
   "source": [
    "data['month_posted'] = data['date_posted'].dt.month"
   ]
  },
  {
   "cell_type": "code",
   "execution_count": 30,
   "metadata": {},
   "outputs": [],
   "source": [
    "data['year_posted'] = data['date_posted'].dt.year"
   ]
  },
  {
   "cell_type": "markdown",
   "metadata": {},
   "source": [
    "Created columns showing specific day of the week, the month, and the year that the ad was posted"
   ]
  },
  {
   "cell_type": "code",
   "execution_count": 31,
   "metadata": {},
   "outputs": [],
   "source": [
    "def categorize_floor(row):\n",
    "    floor = row['floor']\n",
    "    floors_total = row['floors_total']\n",
    "    if floor == 1:\n",
    "        return  1\n",
    "    elif floor != 1:\n",
    "        if floor == floors_total:\n",
    "            return  3\n",
    "        else:\n",
    "            return  2\n",
    "           \n",
    "data['floor_category'] = data.apply(categorize_floor, axis=1)"
   ]
  },
  {
   "cell_type": "markdown",
   "metadata": {},
   "source": [
    "created a column which will show which floor the property is on in the building, either first floor(1), last floor(3), or other(2). I kept these as numbers in order to be able to use them in analysis later. "
   ]
  },
  {
   "cell_type": "code",
   "execution_count": 32,
   "metadata": {},
   "outputs": [],
   "source": [
    "data['living_area_ratio'] = data['living_area'] / data['total_area']"
   ]
  },
  {
   "cell_type": "markdown",
   "metadata": {},
   "source": [
    "Created the ratio for living area of total area. The data may be a little off here in certain rows because I did not fill values for living area. "
   ]
  },
  {
   "cell_type": "code",
   "execution_count": 33,
   "metadata": {},
   "outputs": [],
   "source": [
    "data['kitchen_area_ratio'] = data['kitchen_area'] / data['total_area']\n",
    "   "
   ]
  },
  {
   "cell_type": "markdown",
   "metadata": {},
   "source": [
    "Created the ratio for kitchen area of total area. The data may be a little off here in certain rows because I did not fill values for kitchen area."
   ]
  },
  {
   "cell_type": "markdown",
   "metadata": {},
   "source": [
    "### Step 4. Conduct exploratory data analysis and follow the instructions below:"
   ]
  },
  {
   "cell_type": "markdown",
   "metadata": {},
   "source": [
    "##### Carefully investigate the following parameters: square area, price, number of rooms, and ceiling height. Plot a histogram for each parameter"
   ]
  },
  {
   "cell_type": "markdown",
   "metadata": {},
   "source": [
    "### Investigating Square area"
   ]
  },
  {
   "cell_type": "code",
   "execution_count": 34,
   "metadata": {},
   "outputs": [
    {
     "data": {
      "text/plain": [
       "count    23699.000000\n",
       "mean        60.120511\n",
       "std         35.665822\n",
       "min         12.000000\n",
       "25%         40.000000\n",
       "50%         52.000000\n",
       "75%         69.000000\n",
       "max        900.000000\n",
       "Name: total_area, dtype: float64"
      ]
     },
     "execution_count": 34,
     "metadata": {},
     "output_type": "execute_result"
    }
   ],
   "source": [
    "data['total_area'].describe()"
   ]
  },
  {
   "cell_type": "code",
   "execution_count": 35,
   "metadata": {},
   "outputs": [
    {
     "data": {
      "text/plain": [
       "array([[<matplotlib.axes._subplots.AxesSubplot object at 0x7f895ec3a390>]],\n",
       "      dtype=object)"
      ]
     },
     "execution_count": 35,
     "metadata": {},
     "output_type": "execute_result"
    },
    {
     "data": {
      "image/png": "[encoded data removed]",
      "text/plain": [
       "<Figure size 432x288 with 1 Axes>"
      ]
     },
     "metadata": {
      "needs_background": "light"
     },
     "output_type": "display_data"
    }
   ],
   "source": [
    "data.hist('total_area', range= (0, 200), bins=20)"
   ]
  },
  {
   "cell_type": "markdown",
   "metadata": {},
   "source": [
    "There is a long tail here. Most of the data looks to be between 40 square meters and 200 square meters. Above 200 square meters are my outliers. "
   ]
  },
  {
   "cell_type": "markdown",
   "metadata": {},
   "source": [
    "### Investigating price"
   ]
  },
  {
   "cell_type": "code",
   "execution_count": 36,
   "metadata": {},
   "outputs": [
    {
     "data": {
      "text/plain": [
       "count    2.369900e+04\n",
       "mean     1.308310e+05\n",
       "std      2.177403e+05\n",
       "min      2.440000e+02\n",
       "25%      6.800000e+04\n",
       "50%      9.300000e+04\n",
       "75%      1.360000e+05\n",
       "max      1.526000e+07\n",
       "Name: last_price, dtype: float64"
      ]
     },
     "execution_count": 36,
     "metadata": {},
     "output_type": "execute_result"
    }
   ],
   "source": [
    "data['last_price'].describe()"
   ]
  },
  {
   "cell_type": "markdown",
   "metadata": {},
   "source": [
    "Only one property is very high close to 1.6 and this one is an outlier. Probably very big and very expensive. Everything else is around the same price range."
   ]
  },
  {
   "cell_type": "code",
   "execution_count": 37,
   "metadata": {},
   "outputs": [
    {
     "data": {
      "text/plain": [
       "array([[<matplotlib.axes._subplots.AxesSubplot object at 0x7f895ec2c6d0>]],\n",
       "      dtype=object)"
      ]
     },
     "execution_count": 37,
     "metadata": {},
     "output_type": "execute_result"
    },
    {
     "data": {
      "image/png": "[encoded data removed]",
      "text/plain": [
       "<Figure size 432x288 with 1 Axes>"
      ]
     },
     "metadata": {
      "needs_background": "light"
     },
     "output_type": "display_data"
    }
   ],
   "source": [
    "data.hist('last_price', range=(0, 0.1e+07), bins= 30)"
   ]
  },
  {
   "cell_type": "markdown",
   "metadata": {},
   "source": [
    "This is right tailed and there is a spike at around 100000. The mean is 130000 and the median is 93000.\n",
    "Most properties are within the same price range of 50000 to 100000"
   ]
  },
  {
   "cell_type": "markdown",
   "metadata": {},
   "source": [
    "### Investigating Rooms"
   ]
  },
  {
   "cell_type": "code",
   "execution_count": 38,
   "metadata": {},
   "outputs": [
    {
     "data": {
      "text/plain": [
       "count    23699.000000\n",
       "mean         2.078948\n",
       "std          1.066196\n",
       "min          1.000000\n",
       "25%          1.000000\n",
       "50%          2.000000\n",
       "75%          3.000000\n",
       "max         19.000000\n",
       "Name: bedrooms, dtype: float64"
      ]
     },
     "execution_count": 38,
     "metadata": {},
     "output_type": "execute_result"
    }
   ],
   "source": [
    "data['bedrooms'].describe()"
   ]
  },
  {
   "cell_type": "code",
   "execution_count": 39,
   "metadata": {},
   "outputs": [
    {
     "data": {
      "text/plain": [
       "array([[<matplotlib.axes._subplots.AxesSubplot object at 0x7f895e418410>]],\n",
       "      dtype=object)"
      ]
     },
     "execution_count": 39,
     "metadata": {},
     "output_type": "execute_result"
    },
    {
     "data": {
      "image/png": "[encoded data removed]",
      "text/plain": [
       "<Figure size 432x288 with 1 Axes>"
      ]
     },
     "metadata": {
      "needs_background": "light"
     },
     "output_type": "display_data"
    }
   ],
   "source": [
    "data.hist('bedrooms', range=(1,10), bins=50)"
   ]
  },
  {
   "cell_type": "markdown",
   "metadata": {},
   "source": [
    "We can see that most of our properties have less than 2.5 rooms. The most is 1 bedroom. The 0 bedrooms I replaced with 1 bedroom assuming are studios and therefore also considered 1 bedroom. "
   ]
  },
  {
   "cell_type": "markdown",
   "metadata": {},
   "source": [
    "### Investigating Ceiling height"
   ]
  },
  {
   "cell_type": "code",
   "execution_count": 40,
   "metadata": {},
   "outputs": [
    {
     "data": {
      "text/plain": [
       "count    14504.000000\n",
       "mean         2.771499\n",
       "std          1.261056\n",
       "min          1.000000\n",
       "25%          2.520000\n",
       "50%          2.650000\n",
       "75%          2.800000\n",
       "max        100.000000\n",
       "Name: ceiling_height, dtype: float64"
      ]
     },
     "execution_count": 40,
     "metadata": {},
     "output_type": "execute_result"
    }
   ],
   "source": [
    "data['ceiling_height'].describe()"
   ]
  },
  {
   "cell_type": "markdown",
   "metadata": {},
   "source": [
    "Most of the data is within 2 meters. The max is way bigger than any of the data and definitely does not fit with our data."
   ]
  },
  {
   "cell_type": "code",
   "execution_count": 45,
   "metadata": {},
   "outputs": [
    {
     "data": {
      "text/plain": [
       "array([[<matplotlib.axes._subplots.AxesSubplot object at 0x7f895dfc9090>]],\n",
       "      dtype=object)"
      ]
     },
     "execution_count": 45,
     "metadata": {},
     "output_type": "execute_result"
    },
    {
     "data": {
      "image/png": "[encoded data removed]",
      "text/plain": [
       "<Figure size 432x288 with 1 Axes>"
      ]
     },
     "metadata": {
      "needs_background": "light"
     },
     "output_type": "display_data"
    }
   ],
   "source": [
    "data.hist('ceiling_height', range= (1,5), bins=50)"
   ]
  },
  {
   "cell_type": "markdown",
   "metadata": {},
   "source": [
    "Can see that most of the ceiling height is around 2.5 to 3.0 meters. "
   ]
  },
  {
   "cell_type": "markdown",
   "metadata": {},
   "source": [
    "### Conclusion"
   ]
  },
  {
   "cell_type": "markdown",
   "metadata": {},
   "source": [
    "After investigating square meters, price, rooms, and ceiling height I see that most of the properties are small and the price range may reflect that."
   ]
  },
  {
   "cell_type": "markdown",
   "metadata": {},
   "source": [
    "### Examination of the time it takes to sell an apartment"
   ]
  },
  {
   "cell_type": "code",
   "execution_count": 46,
   "metadata": {},
   "outputs": [
    {
     "data": {
      "text/plain": [
       "count    20518.000000\n",
       "mean       180.888634\n",
       "std        219.727988\n",
       "min          1.000000\n",
       "25%         45.000000\n",
       "50%         95.000000\n",
       "75%        232.000000\n",
       "max       1580.000000\n",
       "Name: days_listed, dtype: float64"
      ]
     },
     "execution_count": 46,
     "metadata": {},
     "output_type": "execute_result"
    }
   ],
   "source": [
    "data['days_listed'].describe()"
   ]
  },
  {
   "cell_type": "code",
   "execution_count": 47,
   "metadata": {},
   "outputs": [
    {
     "name": "stdout",
     "output_type": "stream",
     "text": [
      "Average time to sell: 180.88\n"
     ]
    }
   ],
   "source": [
    "print('Average time to sell: {:.2f}'.format(180.88)) "
   ]
  },
  {
   "cell_type": "code",
   "execution_count": 48,
   "metadata": {},
   "outputs": [
    {
     "data": {
      "text/plain": [
       "array([[<matplotlib.axes._subplots.AxesSubplot object at 0x7f895de35690>]],\n",
       "      dtype=object)"
      ]
     },
     "execution_count": 48,
     "metadata": {},
     "output_type": "execute_result"
    },
    {
     "data": {
      "image/png": "[encoded data removed]",
      "text/plain": [
       "<Figure size 432x288 with 1 Axes>"
      ]
     },
     "metadata": {
      "needs_background": "light"
     },
     "output_type": "display_data"
    }
   ],
   "source": [
    "data.hist('days_listed')"
   ]
  },
  {
   "cell_type": "markdown",
   "metadata": {},
   "source": [
    "The average time for a sale is 180 days. I believe sales are happening rather quickly if it is less than 45 days since the peak of sales is around 45 days. Sales are taking an extra long time if it is passed 232 days since the average time is about 180 days. However since the distribution of the data is abnormal and we have apartments that are taking an extra long time to sell which skews the numbers we may want to look at other numbers than the quartiles that we have. "
   ]
  },
  {
   "cell_type": "markdown",
   "metadata": {},
   "source": [
    "### Removing rare and outlying values"
   ]
  },
  {
   "cell_type": "code",
   "execution_count": 49,
   "metadata": {},
   "outputs": [],
   "source": [
    "data = data[data['total_area'] < 400]\n",
    "data = data[data['bedrooms'] < 5]\n",
    "data = data[data['ceiling_height'] < 80]"
   ]
  },
  {
   "cell_type": "markdown",
   "metadata": {},
   "source": [
    "At first I tried to use the IQR method to identify and remove outliers from the data, defining the cut-off values as (Q1 - 1.5 * IQR, Q3 + 1.5 * IQR) but after having heard from other students and Anastasia herself that this might not be the best option I decided to choose my own outliers. Our data is not normal distribution so the IQR method would not work very well with that and it could remove a lot of data that we may need.\n",
    "\n",
    "I chose less than 400 for total area because I know that most of the data is within 200 total meters. I chose 5 bedrooms because as well most of the data is within 1 and 2 bedrooms. I chose ceiling height as less than 80. I could not think of a specific spot for ceiling height to choose from but I know that there is the outlier of 100 in height and so I would definitely be removing that.\n"
   ]
  },
  {
   "cell_type": "markdown",
   "metadata": {},
   "source": [
    "### Step 4.4: Finding factors with the biggest influence on an apartment’s price"
   ]
  },
  {
   "cell_type": "code",
   "execution_count": 50,
   "metadata": {},
   "outputs": [
    {
     "data": {
      "image/png": "[encoded data removed]",
      "text/plain": [
       "<Figure size 432x288 with 1 Axes>"
      ]
     },
     "metadata": {
      "needs_background": "light"
     },
     "output_type": "display_data"
    },
    {
     "name": "stdout",
     "output_type": "stream",
     "text": [
      "Correlation coefficient: 0.6\n"
     ]
    }
   ],
   "source": [
    "data.plot(x='total_area', y='last_price', kind='scatter', grid=True)\n",
    "plt.show()\n",
    "print('Correlation coefficient: {:.1f}'.format(data['last_price'].corr(data['total_area'])))\n"
   ]
  },
  {
   "cell_type": "code",
   "execution_count": 51,
   "metadata": {},
   "outputs": [
    {
     "data": {
      "image/png": "[encoded data removed]",
      "text/plain": [
       "<Figure size 432x288 with 1 Axes>"
      ]
     },
     "metadata": {
      "needs_background": "light"
     },
     "output_type": "display_data"
    },
    {
     "name": "stdout",
     "output_type": "stream",
     "text": [
      "Correlation coefficient: 0.3\n"
     ]
    }
   ],
   "source": [
    "data.plot(x='bedrooms', y='last_price', kind='scatter', grid=True)\n",
    "plt.show()\n",
    "print('Correlation coefficient: {:.1f}'.format(data['last_price'].corr(data['bedrooms'])))"
   ]
  },
  {
   "cell_type": "code",
   "execution_count": 52,
   "metadata": {},
   "outputs": [
    {
     "data": {
      "image/png": "[encoded data removed]",
      "text/plain": [
       "<Figure size 432x288 with 1 Axes>"
      ]
     },
     "metadata": {
      "needs_background": "light"
     },
     "output_type": "display_data"
    },
    {
     "name": "stdout",
     "output_type": "stream",
     "text": [
      "Correlation coefficient: 0.1\n"
     ]
    }
   ],
   "source": [
    "data.plot(x='floor_category', y='last_price', kind='scatter', grid=True)\n",
    "plt.show()\n",
    "print('Correlation coefficient: {:.1f}'.format(data['price_per_square_meter'].corr(data['floor'])))"
   ]
  },
  {
   "cell_type": "code",
   "execution_count": 53,
   "metadata": {},
   "outputs": [
    {
     "data": {
      "image/png": "[encoded data removed]",
      "text/plain": [
       "<Figure size 432x288 with 1 Axes>"
      ]
     },
     "metadata": {
      "needs_background": "light"
     },
     "output_type": "display_data"
    },
    {
     "name": "stdout",
     "output_type": "stream",
     "text": [
      "Correlation coefficient: -0.3\n"
     ]
    }
   ],
   "source": [
    "data.plot(x='city_center_dist', y='last_price', kind='scatter', grid=True)\n",
    "plt.show()\n",
    "print('Correlation coefficient: {:.1f}'.format(data['price_per_square_meter'].corr(data['city_center_dist'])))"
   ]
  },
  {
   "cell_type": "code",
   "execution_count": 54,
   "metadata": {},
   "outputs": [
    {
     "name": "stdout",
     "output_type": "stream",
     "text": [
      "Correlation coefficient: -0.0\n"
     ]
    },
    {
     "data": {
      "image/png": "[encoded data removed]",
      "text/plain": [
       "<Figure size 432x288 with 1 Axes>"
      ]
     },
     "metadata": {
      "needs_background": "light"
     },
     "output_type": "display_data"
    }
   ],
   "source": [
    "data.plot(x='weekday_posted', y='last_price', kind='scatter', grid=True)\n",
    "print('Correlation coefficient: {:.1f}'.format(data['price_per_square_meter'].corr(data['weekday_posted'])))"
   ]
  },
  {
   "cell_type": "code",
   "execution_count": 55,
   "metadata": {},
   "outputs": [
    {
     "name": "stdout",
     "output_type": "stream",
     "text": [
      "Correlation coefficient: -0.0\n"
     ]
    },
    {
     "data": {
      "image/png": "[encoded data removed]",
      "text/plain": [
       "<Figure size 432x288 with 1 Axes>"
      ]
     },
     "metadata": {
      "needs_background": "light"
     },
     "output_type": "display_data"
    }
   ],
   "source": [
    "data.plot(x='month_posted', y='last_price', kind='scatter', grid=True)\n",
    "print('Correlation coefficient: {:.1f}'.format(data['price_per_square_meter'].corr(data['month_posted'])))"
   ]
  },
  {
   "cell_type": "code",
   "execution_count": 56,
   "metadata": {},
   "outputs": [
    {
     "name": "stdout",
     "output_type": "stream",
     "text": [
      "Correlation coefficient: 0.0\n"
     ]
    },
    {
     "data": {
      "image/png": "[encoded data removed]",
      "text/plain": [
       "<Figure size 432x288 with 1 Axes>"
      ]
     },
     "metadata": {
      "needs_background": "light"
     },
     "output_type": "display_data"
    }
   ],
   "source": [
    "data.plot(x='year_posted', y='last_price', kind='scatter', grid=True)\n",
    "print('Correlation coefficient: {:.1f}'.format(data['price_per_square_meter'].corr(data['year_posted'])))"
   ]
  },
  {
   "cell_type": "markdown",
   "metadata": {},
   "source": [
    "### Conclusion\n",
    "\n",
    "The price is affected most by total area of the property and next by bedrooms. The rest of the parameters don't really have a correlation with the price."
   ]
  },
  {
   "cell_type": "markdown",
   "metadata": {},
   "source": [
    "### Most frequent localities"
   ]
  },
  {
   "cell_type": "code",
   "execution_count": 57,
   "metadata": {},
   "outputs": [
    {
     "data": {
      "text/plain": [
       "['Saint Petersburg',\n",
       " 'Vsevolozhsk',\n",
       " 'Pushkin',\n",
       " 'Shushary village',\n",
       " 'Murino village',\n",
       " 'Kolpino',\n",
       " 'Gatchina',\n",
       " 'Petergof',\n",
       " 'Pargolovo village',\n",
       " 'Sestroretsk']"
      ]
     },
     "execution_count": 57,
     "metadata": {},
     "output_type": "execute_result"
    }
   ],
   "source": [
    "top_locality = data.groupby('locality_name').count().sort_values(by='date_posted', ascending=False).head(10).reset_index()\n",
    "locality_list = top_locality['locality_name'].tolist()\n",
    "locality_list"
   ]
  },
  {
   "cell_type": "code",
   "execution_count": 58,
   "metadata": {},
   "outputs": [
    {
     "name": "stdout",
     "output_type": "stream",
     "text": [
      "Saint Petersburg     9758\n",
      "Vsevolozhsk           272\n",
      "Pushkin               231\n",
      "Shushary village      216\n",
      "Murino village        212\n",
      "Kolpino               201\n",
      "Gatchina              148\n",
      "Petergof              145\n",
      "Pargolovo village     137\n",
      "Sestroretsk           128\n",
      "Name: locality_name, dtype: int64\n"
     ]
    }
   ],
   "source": [
    "print(data['locality_name'].value_counts().head(10))"
   ]
  },
  {
   "cell_type": "code",
   "execution_count": 59,
   "metadata": {},
   "outputs": [
    {
     "data": {
      "text/html": [
       "<div>\n",
       "<style scoped>\n",
       "    .dataframe tbody tr th:only-of-type {\n",
       "        vertical-align: middle;\n",
       "    }\n",
       "\n",
       "    .dataframe tbody tr th {\n",
       "        vertical-align: top;\n",
       "    }\n",
       "\n",
       "    .dataframe thead th {\n",
       "        text-align: right;\n",
       "    }\n",
       "</style>\n",
       "<table border=\"1\" class=\"dataframe\">\n",
       "  <thead>\n",
       "    <tr style=\"text-align: right;\">\n",
       "      <th></th>\n",
       "      <th>price_per_square_meter</th>\n",
       "    </tr>\n",
       "    <tr>\n",
       "      <th>locality_name</th>\n",
       "      <th></th>\n",
       "    </tr>\n",
       "  </thead>\n",
       "  <tbody>\n",
       "    <tr>\n",
       "      <td>Saint Petersburg</td>\n",
       "      <td>2308.621871</td>\n",
       "    </tr>\n",
       "    <tr>\n",
       "      <td>Pushkin</td>\n",
       "      <td>2086.587241</td>\n",
       "    </tr>\n",
       "    <tr>\n",
       "      <td>Sestroretsk</td>\n",
       "      <td>2058.233834</td>\n",
       "    </tr>\n",
       "    <tr>\n",
       "      <td>Pargolovo village</td>\n",
       "      <td>1828.804829</td>\n",
       "    </tr>\n",
       "    <tr>\n",
       "      <td>Murino village</td>\n",
       "      <td>1760.578217</td>\n",
       "    </tr>\n",
       "    <tr>\n",
       "      <td>Petergof</td>\n",
       "      <td>1721.641261</td>\n",
       "    </tr>\n",
       "    <tr>\n",
       "      <td>Shushary village</td>\n",
       "      <td>1599.555570</td>\n",
       "    </tr>\n",
       "    <tr>\n",
       "      <td>Kolpino</td>\n",
       "      <td>1528.491819</td>\n",
       "    </tr>\n",
       "    <tr>\n",
       "      <td>Gatchina</td>\n",
       "      <td>1409.497173</td>\n",
       "    </tr>\n",
       "    <tr>\n",
       "      <td>Vsevolozhsk</td>\n",
       "      <td>1353.207804</td>\n",
       "    </tr>\n",
       "  </tbody>\n",
       "</table>\n",
       "</div>"
      ],
      "text/plain": [
       "                   price_per_square_meter\n",
       "locality_name                            \n",
       "Saint Petersburg              2308.621871\n",
       "Pushkin                       2086.587241\n",
       "Sestroretsk                   2058.233834\n",
       "Pargolovo village             1828.804829\n",
       "Murino village                1760.578217\n",
       "Petergof                      1721.641261\n",
       "Shushary village              1599.555570\n",
       "Kolpino                       1528.491819\n",
       "Gatchina                      1409.497173\n",
       "Vsevolozhsk                   1353.207804"
      ]
     },
     "execution_count": 59,
     "metadata": {},
     "output_type": "execute_result"
    }
   ],
   "source": [
    "data_top = data.groupby('locality_name').count().sort_values(by='weekday_posted',\n",
    "                                                                       ascending=False).head(10).reset_index()\n",
    "top_locality_names = data_top['locality_name'].unique()\n",
    "data.query('locality_name in @top_locality_names').pivot_table(index='locality_name', values='price_per_square_meter').sort_values(by = 'price_per_square_meter', ascending=False)"
   ]
  },
  {
   "cell_type": "markdown",
   "metadata": {},
   "source": [
    "### Conclusion\n",
    "\n",
    "Saint Petersburg has the highest price per square meter"
   ]
  },
  {
   "cell_type": "markdown",
   "metadata": {},
   "source": [
    "#### Thoroughly look at apartment offers: Each apartment has information about the distance to the city center. Select apartments in Saint Petersburg (‘locality_name’). Your task is to pinpoint which area is considered to be in the city center. In order to do that, create a column with the distance to the city center in km and round to the nearest whole number. Next, calculate the average price for each kilometer and plot a graph to display how prices are affected by the distance to the city center. Find a place on the graph where it shifts significantly. That's the city center border."
   ]
  },
  {
   "cell_type": "markdown",
   "metadata": {},
   "source": [
    "### Finding the city center border"
   ]
  },
  {
   "cell_type": "code",
   "execution_count": 60,
   "metadata": {},
   "outputs": [
    {
     "data": {
      "text/plain": [
       "<matplotlib.axes._subplots.AxesSubplot at 0x7f895b89bc10>"
      ]
     },
     "execution_count": 60,
     "metadata": {},
     "output_type": "execute_result"
    },
    {
     "data": {
      "image/png": "[encoded data removed]",
      "text/plain": [
       "<Figure size 648x216 with 1 Axes>"
      ]
     },
     "metadata": {
      "needs_background": "light"
     },
     "output_type": "display_data"
    },
    {
     "data": {
      "image/png": "[encoded data removed]",
      "text/plain": [
       "<Figure size 648x216 with 1 Axes>"
      ]
     },
     "metadata": {
      "needs_background": "light"
     },
     "output_type": "display_data"
    }
   ],
   "source": [
    "data_SP = data.loc[data['locality_name'] == 'Saint Petersburg'].copy()\n",
    "#converting city_center_dist to km and rounding\n",
    "data_SP['city_center_km'] = (data_SP['city_center_dist'] / 1000).round(0)\n",
    "#calculating average price\n",
    "data_SP.pivot_table(index = 'city_center_km', values = 'last_price').plot(grid = True, figsize= (9,3), title = ('Price and distance'))\n",
    "#calculating average price per square meter\n",
    "data_SP.pivot_table(index = 'city_center_km', values = 'price_per_square_meter').plot(grid = True, figsize= (9,3), title=('Average price and distance'))"
   ]
  },
  {
   "cell_type": "markdown",
   "metadata": {},
   "source": [
    "### Conclusion\n",
    "\n",
    "I took the data from Saint Petersburg to find the city center border. There is a significant drop in price after about 6 kilometers. That is where I will assume the border of the city center is."
   ]
  },
  {
   "cell_type": "markdown",
   "metadata": {},
   "source": [
    "### Factors that affect an apartment’s price in the city center"
   ]
  },
  {
   "cell_type": "code",
   "execution_count": 77,
   "metadata": {},
   "outputs": [],
   "source": [
    "data_center = data_SP.query('city_center_km <= 6')"
   ]
  },
  {
   "cell_type": "code",
   "execution_count": 78,
   "metadata": {},
   "outputs": [
    {
     "data": {
      "text/html": [
       "<div>\n",
       "<style scoped>\n",
       "    .dataframe tbody tr th:only-of-type {\n",
       "        vertical-align: middle;\n",
       "    }\n",
       "\n",
       "    .dataframe tbody tr th {\n",
       "        vertical-align: top;\n",
       "    }\n",
       "\n",
       "    .dataframe thead th {\n",
       "        text-align: right;\n",
       "    }\n",
       "</style>\n",
       "<table border=\"1\" class=\"dataframe\">\n",
       "  <thead>\n",
       "    <tr style=\"text-align: right;\">\n",
       "      <th></th>\n",
       "      <th>date_posted</th>\n",
       "      <th>days_listed</th>\n",
       "      <th>last_price</th>\n",
       "      <th>bedrooms</th>\n",
       "      <th>kitchen_area</th>\n",
       "      <th>living_area</th>\n",
       "      <th>total_area</th>\n",
       "      <th>balconies</th>\n",
       "      <th>ceiling_height</th>\n",
       "      <th>floors_total</th>\n",
       "      <th>...</th>\n",
       "      <th>pond_dist</th>\n",
       "      <th>ponds_within_3000</th>\n",
       "      <th>price_per_square_meter</th>\n",
       "      <th>weekday_posted</th>\n",
       "      <th>month_posted</th>\n",
       "      <th>year_posted</th>\n",
       "      <th>floor_category</th>\n",
       "      <th>living_area_ratio</th>\n",
       "      <th>kitchen_area_ratio</th>\n",
       "      <th>city_center_km</th>\n",
       "    </tr>\n",
       "  </thead>\n",
       "  <tbody>\n",
       "    <tr>\n",
       "      <td>63</td>\n",
       "      <td>2018-09-11</td>\n",
       "      <td>37.0</td>\n",
       "      <td>400000</td>\n",
       "      <td>3</td>\n",
       "      <td>16</td>\n",
       "      <td>68.00</td>\n",
       "      <td>118</td>\n",
       "      <td>0</td>\n",
       "      <td>3.00</td>\n",
       "      <td>9</td>\n",
       "      <td>...</td>\n",
       "      <td>779.0</td>\n",
       "      <td>1.0</td>\n",
       "      <td>3389.830508</td>\n",
       "      <td>1</td>\n",
       "      <td>9</td>\n",
       "      <td>2018</td>\n",
       "      <td>2</td>\n",
       "      <td>0.576271</td>\n",
       "      <td>0.135593</td>\n",
       "      <td>5.0</td>\n",
       "    </tr>\n",
       "    <tr>\n",
       "      <td>114</td>\n",
       "      <td>2019-02-07</td>\n",
       "      <td>NaN</td>\n",
       "      <td>80000</td>\n",
       "      <td>1</td>\n",
       "      <td>6</td>\n",
       "      <td>8.30</td>\n",
       "      <td>21</td>\n",
       "      <td>0</td>\n",
       "      <td>2.90</td>\n",
       "      <td>8</td>\n",
       "      <td>...</td>\n",
       "      <td>286.0</td>\n",
       "      <td>1.0</td>\n",
       "      <td>3809.523810</td>\n",
       "      <td>3</td>\n",
       "      <td>2</td>\n",
       "      <td>2019</td>\n",
       "      <td>2</td>\n",
       "      <td>0.395238</td>\n",
       "      <td>0.285714</td>\n",
       "      <td>6.0</td>\n",
       "    </tr>\n",
       "    <tr>\n",
       "      <td>121</td>\n",
       "      <td>2017-02-17</td>\n",
       "      <td>144.0</td>\n",
       "      <td>660000</td>\n",
       "      <td>3</td>\n",
       "      <td>24</td>\n",
       "      <td>86.00</td>\n",
       "      <td>180</td>\n",
       "      <td>4</td>\n",
       "      <td>2.90</td>\n",
       "      <td>9</td>\n",
       "      <td>...</td>\n",
       "      <td>NaN</td>\n",
       "      <td>0.0</td>\n",
       "      <td>3666.666667</td>\n",
       "      <td>4</td>\n",
       "      <td>2</td>\n",
       "      <td>2017</td>\n",
       "      <td>2</td>\n",
       "      <td>0.477778</td>\n",
       "      <td>0.133333</td>\n",
       "      <td>4.0</td>\n",
       "    </tr>\n",
       "    <tr>\n",
       "      <td>136</td>\n",
       "      <td>2018-08-01</td>\n",
       "      <td>163.0</td>\n",
       "      <td>130000</td>\n",
       "      <td>2</td>\n",
       "      <td>7</td>\n",
       "      <td>25.60</td>\n",
       "      <td>51</td>\n",
       "      <td>1</td>\n",
       "      <td>3.45</td>\n",
       "      <td>6</td>\n",
       "      <td>...</td>\n",
       "      <td>812.0</td>\n",
       "      <td>1.0</td>\n",
       "      <td>2549.019608</td>\n",
       "      <td>2</td>\n",
       "      <td>8</td>\n",
       "      <td>2018</td>\n",
       "      <td>2</td>\n",
       "      <td>0.501961</td>\n",
       "      <td>0.137255</td>\n",
       "      <td>4.0</td>\n",
       "    </tr>\n",
       "    <tr>\n",
       "      <td>137</td>\n",
       "      <td>2018-01-01</td>\n",
       "      <td>340.0</td>\n",
       "      <td>266216</td>\n",
       "      <td>2</td>\n",
       "      <td>26</td>\n",
       "      <td>31.52</td>\n",
       "      <td>85</td>\n",
       "      <td>1</td>\n",
       "      <td>2.70</td>\n",
       "      <td>10</td>\n",
       "      <td>...</td>\n",
       "      <td>133.0</td>\n",
       "      <td>3.0</td>\n",
       "      <td>3131.952941</td>\n",
       "      <td>0</td>\n",
       "      <td>1</td>\n",
       "      <td>2018</td>\n",
       "      <td>2</td>\n",
       "      <td>0.370824</td>\n",
       "      <td>0.305882</td>\n",
       "      <td>4.0</td>\n",
       "    </tr>\n",
       "    <tr>\n",
       "      <td>...</td>\n",
       "      <td>...</td>\n",
       "      <td>...</td>\n",
       "      <td>...</td>\n",
       "      <td>...</td>\n",
       "      <td>...</td>\n",
       "      <td>...</td>\n",
       "      <td>...</td>\n",
       "      <td>...</td>\n",
       "      <td>...</td>\n",
       "      <td>...</td>\n",
       "      <td>...</td>\n",
       "      <td>...</td>\n",
       "      <td>...</td>\n",
       "      <td>...</td>\n",
       "      <td>...</td>\n",
       "      <td>...</td>\n",
       "      <td>...</td>\n",
       "      <td>...</td>\n",
       "      <td>...</td>\n",
       "      <td>...</td>\n",
       "      <td>...</td>\n",
       "    </tr>\n",
       "    <tr>\n",
       "      <td>23644</td>\n",
       "      <td>2018-04-26</td>\n",
       "      <td>166.0</td>\n",
       "      <td>99800</td>\n",
       "      <td>2</td>\n",
       "      <td>12</td>\n",
       "      <td>32.30</td>\n",
       "      <td>62</td>\n",
       "      <td>0</td>\n",
       "      <td>2.70</td>\n",
       "      <td>4</td>\n",
       "      <td>...</td>\n",
       "      <td>171.0</td>\n",
       "      <td>1.0</td>\n",
       "      <td>1609.677419</td>\n",
       "      <td>3</td>\n",
       "      <td>4</td>\n",
       "      <td>2018</td>\n",
       "      <td>3</td>\n",
       "      <td>0.520968</td>\n",
       "      <td>0.193548</td>\n",
       "      <td>4.0</td>\n",
       "    </tr>\n",
       "    <tr>\n",
       "      <td>23648</td>\n",
       "      <td>2017-05-12</td>\n",
       "      <td>621.0</td>\n",
       "      <td>202000</td>\n",
       "      <td>3</td>\n",
       "      <td>8</td>\n",
       "      <td>48.60</td>\n",
       "      <td>78</td>\n",
       "      <td>0</td>\n",
       "      <td>3.27</td>\n",
       "      <td>5</td>\n",
       "      <td>...</td>\n",
       "      <td>117.0</td>\n",
       "      <td>2.0</td>\n",
       "      <td>2589.743590</td>\n",
       "      <td>4</td>\n",
       "      <td>5</td>\n",
       "      <td>2017</td>\n",
       "      <td>3</td>\n",
       "      <td>0.623077</td>\n",
       "      <td>0.102564</td>\n",
       "      <td>1.0</td>\n",
       "    </tr>\n",
       "    <tr>\n",
       "      <td>23664</td>\n",
       "      <td>2015-12-10</td>\n",
       "      <td>816.0</td>\n",
       "      <td>180000</td>\n",
       "      <td>4</td>\n",
       "      <td>15</td>\n",
       "      <td>64.60</td>\n",
       "      <td>110</td>\n",
       "      <td>0</td>\n",
       "      <td>3.36</td>\n",
       "      <td>7</td>\n",
       "      <td>...</td>\n",
       "      <td>118.0</td>\n",
       "      <td>1.0</td>\n",
       "      <td>1636.363636</td>\n",
       "      <td>3</td>\n",
       "      <td>12</td>\n",
       "      <td>2015</td>\n",
       "      <td>2</td>\n",
       "      <td>0.587273</td>\n",
       "      <td>0.136364</td>\n",
       "      <td>5.0</td>\n",
       "    </tr>\n",
       "    <tr>\n",
       "      <td>23691</td>\n",
       "      <td>2016-10-13</td>\n",
       "      <td>519.0</td>\n",
       "      <td>189400</td>\n",
       "      <td>2</td>\n",
       "      <td>10</td>\n",
       "      <td>40.30</td>\n",
       "      <td>72</td>\n",
       "      <td>1</td>\n",
       "      <td>2.75</td>\n",
       "      <td>25</td>\n",
       "      <td>...</td>\n",
       "      <td>806.0</td>\n",
       "      <td>1.0</td>\n",
       "      <td>2630.555556</td>\n",
       "      <td>3</td>\n",
       "      <td>10</td>\n",
       "      <td>2016</td>\n",
       "      <td>2</td>\n",
       "      <td>0.559722</td>\n",
       "      <td>0.138889</td>\n",
       "      <td>4.0</td>\n",
       "    </tr>\n",
       "    <tr>\n",
       "      <td>23694</td>\n",
       "      <td>2017-03-21</td>\n",
       "      <td>NaN</td>\n",
       "      <td>194000</td>\n",
       "      <td>3</td>\n",
       "      <td>13</td>\n",
       "      <td>73.30</td>\n",
       "      <td>133</td>\n",
       "      <td>0</td>\n",
       "      <td>3.70</td>\n",
       "      <td>5</td>\n",
       "      <td>...</td>\n",
       "      <td>381.0</td>\n",
       "      <td>3.0</td>\n",
       "      <td>1458.646617</td>\n",
       "      <td>1</td>\n",
       "      <td>3</td>\n",
       "      <td>2017</td>\n",
       "      <td>2</td>\n",
       "      <td>0.551128</td>\n",
       "      <td>0.097744</td>\n",
       "      <td>4.0</td>\n",
       "    </tr>\n",
       "  </tbody>\n",
       "</table>\n",
       "<p>1756 rows × 30 columns</p>\n",
       "</div>"
      ],
      "text/plain": [
       "      date_posted  days_listed  last_price  bedrooms  kitchen_area  \\\n",
       "63     2018-09-11         37.0      400000         3            16   \n",
       "114    2019-02-07          NaN       80000         1             6   \n",
       "121    2017-02-17        144.0      660000         3            24   \n",
       "136    2018-08-01        163.0      130000         2             7   \n",
       "137    2018-01-01        340.0      266216         2            26   \n",
       "...           ...          ...         ...       ...           ...   \n",
       "23644  2018-04-26        166.0       99800         2            12   \n",
       "23648  2017-05-12        621.0      202000         3             8   \n",
       "23664  2015-12-10        816.0      180000         4            15   \n",
       "23691  2016-10-13        519.0      189400         2            10   \n",
       "23694  2017-03-21          NaN      194000         3            13   \n",
       "\n",
       "       living_area  total_area  balconies  ceiling_height  floors_total  ...  \\\n",
       "63           68.00         118          0            3.00             9  ...   \n",
       "114           8.30          21          0            2.90             8  ...   \n",
       "121          86.00         180          4            2.90             9  ...   \n",
       "136          25.60          51          1            3.45             6  ...   \n",
       "137          31.52          85          1            2.70            10  ...   \n",
       "...            ...         ...        ...             ...           ...  ...   \n",
       "23644        32.30          62          0            2.70             4  ...   \n",
       "23648        48.60          78          0            3.27             5  ...   \n",
       "23664        64.60         110          0            3.36             7  ...   \n",
       "23691        40.30          72          1            2.75            25  ...   \n",
       "23694        73.30         133          0            3.70             5  ...   \n",
       "\n",
       "       pond_dist  ponds_within_3000 price_per_square_meter  weekday_posted  \\\n",
       "63         779.0                1.0            3389.830508               1   \n",
       "114        286.0                1.0            3809.523810               3   \n",
       "121          NaN                0.0            3666.666667               4   \n",
       "136        812.0                1.0            2549.019608               2   \n",
       "137        133.0                3.0            3131.952941               0   \n",
       "...          ...                ...                    ...             ...   \n",
       "23644      171.0                1.0            1609.677419               3   \n",
       "23648      117.0                2.0            2589.743590               4   \n",
       "23664      118.0                1.0            1636.363636               3   \n",
       "23691      806.0                1.0            2630.555556               3   \n",
       "23694      381.0                3.0            1458.646617               1   \n",
       "\n",
       "       month_posted year_posted  floor_category  living_area_ratio  \\\n",
       "63                9        2018               2           0.576271   \n",
       "114               2        2019               2           0.395238   \n",
       "121               2        2017               2           0.477778   \n",
       "136               8        2018               2           0.501961   \n",
       "137               1        2018               2           0.370824   \n",
       "...             ...         ...             ...                ...   \n",
       "23644             4        2018               3           0.520968   \n",
       "23648             5        2017               3           0.623077   \n",
       "23664            12        2015               2           0.587273   \n",
       "23691            10        2016               2           0.559722   \n",
       "23694             3        2017               2           0.551128   \n",
       "\n",
       "       kitchen_area_ratio  city_center_km  \n",
       "63               0.135593             5.0  \n",
       "114              0.285714             6.0  \n",
       "121              0.133333             4.0  \n",
       "136              0.137255             4.0  \n",
       "137              0.305882             4.0  \n",
       "...                   ...             ...  \n",
       "23644            0.193548             4.0  \n",
       "23648            0.102564             1.0  \n",
       "23664            0.136364             5.0  \n",
       "23691            0.138889             4.0  \n",
       "23694            0.097744             4.0  \n",
       "\n",
       "[1756 rows x 30 columns]"
      ]
     },
     "execution_count": 78,
     "metadata": {},
     "output_type": "execute_result"
    }
   ],
   "source": [
    "data_center"
   ]
  },
  {
   "cell_type": "code",
   "execution_count": 79,
   "metadata": {},
   "outputs": [
    {
     "data": {
      "image/png": "[encoded data removed]",
      "text/plain": [
       "<Figure size 1008x432 with 16 Axes>"
      ]
     },
     "metadata": {
      "needs_background": "light"
     },
     "output_type": "display_data"
    }
   ],
   "source": [
    "pd.plotting.scatter_matrix(data[['price_per_square_meter', 'total_area', 'bedrooms', 'ceiling_height']],figsize=[14,6])\n",
    "plt.show()"
   ]
  },
  {
   "cell_type": "code",
   "execution_count": 80,
   "metadata": {},
   "outputs": [
    {
     "data": {
      "image/png": "[encoded data removed]",
      "text/plain": [
       "<Figure size 1008x432 with 16 Axes>"
      ]
     },
     "metadata": {
      "needs_background": "light"
     },
     "output_type": "display_data"
    }
   ],
   "source": [
    "pd.plotting.scatter_matrix(data_center[['price_per_square_meter', 'total_area', 'bedrooms', 'ceiling_height']],figsize=[14,6])\n",
    "plt.show()"
   ]
  },
  {
   "cell_type": "code",
   "execution_count": 81,
   "metadata": {},
   "outputs": [
    {
     "name": "stdout",
     "output_type": "stream",
     "text": [
      "Correlation coefficient for Price vs. Area: 0.6\n"
     ]
    }
   ],
   "source": [
    "#('last_price_vs._total_area') \n",
    "print('Correlation coefficient for Price vs. Area: {:.1f}'.format(data['last_price'].corr(data_center['total_area'])))"
   ]
  },
  {
   "cell_type": "code",
   "execution_count": 91,
   "metadata": {},
   "outputs": [
    {
     "name": "stdout",
     "output_type": "stream",
     "text": [
      "Correlation coefficient for Price vs. ceiling_height: 0.1\n"
     ]
    }
   ],
   "source": [
    "print('Correlation coefficient for Price vs. ceiling_height: {:.1f}'.format(data['last_price'].corr(data_center['ceiling_height'])))"
   ]
  },
  {
   "cell_type": "code",
   "execution_count": 83,
   "metadata": {},
   "outputs": [
    {
     "name": "stdout",
     "output_type": "stream",
     "text": [
      "Correlation coefficient for Price vs. Bedrooms: 0.2\n"
     ]
    }
   ],
   "source": [
    "#('last_price_vs._bedrooms') \n",
    "print('Correlation coefficient for Price vs. Bedrooms: {:.1f}'.format(data['last_price'].corr(data_center['bedrooms'])))"
   ]
  },
  {
   "cell_type": "markdown",
   "metadata": {},
   "source": [
    "### Conclusion\n",
    "\n",
    "The price with the center area has a little more density when it comes to total area but the information is pretty similar to suggest that there is no major difference between the two areas. The correlation for total area seems closer than the rest at 0.6."
   ]
  },
  {
   "cell_type": "markdown",
   "metadata": {},
   "source": [
    "#### Also identify the factors that affect an apartment’s price: number of rooms, floor, distance to the city center, and ad publication date."
   ]
  },
  {
   "cell_type": "markdown",
   "metadata": {},
   "source": [
    "### Bedrooms"
   ]
  },
  {
   "cell_type": "code",
   "execution_count": 85,
   "metadata": {},
   "outputs": [
    {
     "name": "stdout",
     "output_type": "stream",
     "text": [
      "Correlation coefficient: 0.3\n"
     ]
    },
    {
     "data": {
      "image/png": "[encoded data removed]",
      "text/plain": [
       "<Figure size 432x288 with 1 Axes>"
      ]
     },
     "metadata": {
      "needs_background": "light"
     },
     "output_type": "display_data"
    }
   ],
   "source": [
    "data_center.plot(x='bedrooms', y='last_price', kind='scatter', grid=True)\n",
    "print('Correlation coefficient: {:.1f}'.format(data['last_price'].corr(data['bedrooms'])))"
   ]
  },
  {
   "cell_type": "markdown",
   "metadata": {},
   "source": [
    "### Floors"
   ]
  },
  {
   "cell_type": "code",
   "execution_count": 86,
   "metadata": {},
   "outputs": [
    {
     "name": "stdout",
     "output_type": "stream",
     "text": [
      "Correlation coefficient: 0.1\n"
     ]
    },
    {
     "data": {
      "image/png": "[encoded data removed]",
      "text/plain": [
       "<Figure size 432x288 with 1 Axes>"
      ]
     },
     "metadata": {
      "needs_background": "light"
     },
     "output_type": "display_data"
    }
   ],
   "source": [
    "data_center.plot(x='floor_category', y='last_price', kind='scatter', grid=True)\n",
    "print('Correlation coefficient: {:.1f}'.format(data['last_price'].corr(data_center['floor_category'])))"
   ]
  },
  {
   "cell_type": "markdown",
   "metadata": {},
   "source": [
    "### Distance to city center"
   ]
  },
  {
   "cell_type": "code",
   "execution_count": 87,
   "metadata": {},
   "outputs": [
    {
     "name": "stdout",
     "output_type": "stream",
     "text": [
      "Correlation coefficient: -0.1\n"
     ]
    },
    {
     "data": {
      "image/png": "[encoded data removed]",
      "text/plain": [
       "<Figure size 432x288 with 1 Axes>"
      ]
     },
     "metadata": {
      "needs_background": "light"
     },
     "output_type": "display_data"
    }
   ],
   "source": [
    "data_center.plot(x='city_center_dist', y='last_price', kind='scatter', grid=True)\n",
    "print('Correlation coefficient: {:.1f}'.format(data_center['last_price'].corr(data_center['city_center_dist'])))"
   ]
  },
  {
   "cell_type": "markdown",
   "metadata": {},
   "source": [
    "### Ad publication date"
   ]
  },
  {
   "cell_type": "code",
   "execution_count": 88,
   "metadata": {},
   "outputs": [
    {
     "name": "stdout",
     "output_type": "stream",
     "text": [
      "Correlation coefficient: -0.0\n"
     ]
    },
    {
     "data": {
      "image/png": "[encoded data removed]",
      "text/plain": [
       "<Figure size 432x288 with 1 Axes>"
      ]
     },
     "metadata": {
      "needs_background": "light"
     },
     "output_type": "display_data"
    }
   ],
   "source": [
    "data_center.plot(x='weekday_posted', y='last_price', kind='scatter', grid=True)\n",
    "print('Correlation coefficient: {:.1f}'.format(data['last_price'].corr(data['weekday_posted'])))"
   ]
  },
  {
   "cell_type": "code",
   "execution_count": 89,
   "metadata": {},
   "outputs": [
    {
     "name": "stdout",
     "output_type": "stream",
     "text": [
      "Correlation coefficient: -0.0\n"
     ]
    },
    {
     "data": {
      "image/png": "[encoded data removed]",
      "text/plain": [
       "<Figure size 432x288 with 1 Axes>"
      ]
     },
     "metadata": {
      "needs_background": "light"
     },
     "output_type": "display_data"
    }
   ],
   "source": [
    "data_center.plot(x='month_posted', y='last_price', kind='scatter', grid=True)\n",
    "print('Correlation coefficient: {:.1f}'.format(data['last_price'].corr(data['month_posted'])))"
   ]
  },
  {
   "cell_type": "code",
   "execution_count": 90,
   "metadata": {},
   "outputs": [
    {
     "name": "stdout",
     "output_type": "stream",
     "text": [
      "Correlation coefficient: -0.0\n"
     ]
    },
    {
     "data": {
      "image/png": "[encoded data removed]",
      "text/plain": [
       "<Figure size 432x288 with 1 Axes>"
      ]
     },
     "metadata": {
      "needs_background": "light"
     },
     "output_type": "display_data"
    }
   ],
   "source": [
    "data_center.plot(x='year_posted', y='last_price', kind='scatter', grid=True)\n",
    "print('Correlation coefficient: {:.1f}'.format(data['last_price'].corr(data['year_posted'])))"
   ]
  },
  {
   "cell_type": "markdown",
   "metadata": {},
   "source": [
    "### Conclusion\n",
    "\n",
    "I don't really see how any of these factors have impacted the price of the property except the square meters. The highest correlation is 0.6 for total_area and 0.3 for bedrooms. The rest of the data is either 0.0 or 0.1 which has no correlation at all."
   ]
  },
  {
   "cell_type": "markdown",
   "metadata": {},
   "source": [
    "### Step 5. Overall conclusion"
   ]
  },
  {
   "cell_type": "markdown",
   "metadata": {},
   "source": [
    "In the end of checking all of the data I haven't found any correlation between the price of the properties and any of the other data about them except perhaps the size of the property with the price. Which is why bedrooms has some correlation.\n",
    "\n",
    "Corrected Conclusion: Overall after checking the data and adding in the missing values that I could I found a few outliers of prices and total_area which seemed to be bigger apartments with many rooms.  \n",
    "\n",
    "Nothing really had any correlation with the price except for the area of the property. We can see this with the total_area of the properties which had the closest correlation of 0.6. The amount of bedrooms which are connected to total_area also has a correlation of 0.3."
   ]
  },
  {
   "cell_type": "markdown",
   "metadata": {},
   "source": [
    "### Project completion checklist\n",
    "\n",
    "Mark the completed tasks with 'x'. Then press Shift+Enter."
   ]
  },
  {
   "cell_type": "markdown",
   "metadata": {},
   "source": [
    "- [x]  file opened\n",
    "- [x]  files explored (first rows printed, info() method)\n",
    "- [x]  missing values determined\n",
    "- [x]  missing values filled in\n",
    "- [x]  clarification of the discovered missing values provided\n",
    "- [x]  data types converted\n",
    "- [x]  explanation of which columns had the data types changed and why\n",
    "- [x]  calculated and added to the table: the price per square meter\n",
    "- [x]  calculated and added to the table: the day of the week, month, and year that the ad was published\n",
    "- [x]  calculated and added to the table: which floor the apartment is on (first, last, or other)\n",
    "- [x]  calculated and added to the table: the ratio between the living space and the total area, as well as between the kitchen space and the total area\n",
    "- [x]  the following parameters investigated: square area, price, number of rooms, and ceiling height\n",
    "- [x]  histograms for each parameter created\n",
    "- [x]  task completed: \"Examine the time it's taken to sell the apartment and create a histogram. Calculate the mean and median and explain the average time it usually takes to complete a sale. When can a sale be considered extra quick or taken an extra slow?\"\n",
    "- [x]  task completed: \"Remove rare and outlying values and describe the specific details you've discovered.\"\n",
    "- [x]  task completed: \"Which factors have had the biggest influence on an apartment’s value? Examine whether the value depends on price per meter, number of rooms, floor (top or bottom), or the proximity to the downtown area. Also study the correlation to the ad posting date: day of the week, month, and year. \"Select the 10 places with the largest number of ads and then calculate the average price per square meter in these localities. Select the locations with the highest and lowest housing prices. You can find this data by name in the ’*locality_name’* column. \"\n",
    "- [x]  task completed: \"Thoroughly look at apartment offers: each apartment has information about the distance to the downtown area. Select apartments in Saint Petersburg (*‘locality_name’*). Your task is to pinpoint which area is considered to be downtown. Create a column with the distance to the downtown area in km and round to the nearest whole number. Next, calculate the average price for each kilometer. Build a graph to display how prices are affected by the distance to the downtown area. Define the turning point where the graph significantly changes. This will indicate downtown. \"\n",
    "- [x]  task completed: \"Select a segment of apartments in the downtown. Analyze this area and examine the following parameters: square area, price, number of rooms, ceiling height. Also identify the factors that affect an apartment’s price (number of rooms, floor, distance to the downtown area, and ad publication date). Draw your conclusions. Are they different from the overall conclusions about the entire city?\"\n",
    "- [x]  each stage has a conclusion\n",
    "- [x]  overall conclusion drawn"
   ]
  }
 ],
 "metadata": {
  "kernelspec": {
   "display_name": "Python 3",
   "language": "python",
   "name": "python3"
  },
  "language_info": {
   "codemirror_mode": {
    "name": "ipython",
    "version": 3
   },
   "file_extension": ".py",
   "mimetype": "text/x-python",
   "name": "python",
   "nbconvert_exporter": "python",
   "pygments_lexer": "ipython3",
   "version": "3.7.6"
  }
 },
 "nbformat": 4,
 "nbformat_minor": 2
}
